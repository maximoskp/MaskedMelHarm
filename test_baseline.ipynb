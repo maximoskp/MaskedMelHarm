{
 "cells": [
  {
   "cell_type": "code",
   "execution_count": 4,
   "id": "520234d6",
   "metadata": {},
   "outputs": [],
   "source": [
    "from baseline_models import BaselineModeller\n",
    "import numpy as np\n",
    "import os"
   ]
  },
  {
   "cell_type": "code",
   "execution_count": 5,
   "id": "9efa20b3",
   "metadata": {},
   "outputs": [],
   "source": [
    "bm = BaselineModeller(data_dir = '/media/maindisk/data/hooktheory_midi_hr/CA_test/', device_name='cuda:2')"
   ]
  },
  {
   "cell_type": "code",
   "execution_count": 6,
   "id": "85a1d7e0",
   "metadata": {},
   "outputs": [
    {
     "name": "stderr",
     "output_type": "stream",
     "text": [
      "/home/maximos/miniconda3/envs/torch/lib/python3.12/site-packages/music21/stream/base.py:3694: Music21DeprecationWarning: .flat is deprecated.  Call .flatten() instead\n",
      "  return self.iter().getElementsByClass(classFilterList)\n"
     ]
    },
    {
     "name": "stdout",
     "output_type": "stream",
     "text": [
      "output_tokens:  ['<s>', '<bar>', 'ts_4x4', 'position_0x00', 'P:69', 'position_1x00', 'P:64', 'position_2x50', 'P:69', 'position_3x00', 'P:69', 'position_3x25', 'P:71', 'position_3x50', 'P:73', 'position_3x75', 'P:74', '<bar>', 'position_0x00', 'P:76', 'position_2x50', 'P:76', 'position_3x00', 'P:76', 'position_3x25', 'P:77', 'position_3x75', 'P:79', '<bar>', 'position_0x00', 'P:81', 'position_2x50', 'P:81', 'position_3x00', 'P:81', 'position_3x25', 'P:79', 'position_3x75', 'P:77', '<bar>', 'position_0x00', 'P:79', 'position_0x75', 'P:77', 'position_1x00', 'P:76', 'position_3x00', 'P:76', '<bar>', 'position_0x00', 'P:74', 'position_0x50', 'P:74', 'position_0x75', 'P:76', 'position_1x00', 'P:77', 'position_3x00', 'P:76', 'position_3x50', 'P:74', '<bar>', 'position_0x00', 'P:72', 'position_0x50', 'P:72', 'position_0x75', 'P:74', 'position_1x00', 'P:76', 'position_3x00', 'P:74', 'position_3x50', 'P:72', '<bar>', 'position_0x00', 'P:71', 'position_0x50', 'P:71', 'position_0x75', 'P:73', 'position_1x00', 'P:75', 'position_3x00', 'P:78', '<bar>', 'position_0x00', 'P:76', 'position_0x50', 'P:64', 'position_0x75', 'P:64', 'position_1x00', 'P:64', 'position_1x50', 'P:64', 'position_1x75', 'P:64', 'position_2x00', 'P:64', 'position_2x50', 'P:64', 'position_2x75', 'P:64', 'position_3x00', 'P:64', 'position_3x50', 'P:64', '<bar>', 'position_0x00', 'P:69', 'position_1x00', 'P:64', 'position_2x50', 'P:69', 'position_3x00', 'P:69', 'position_3x25', 'P:71', 'position_3x50', 'P:73', 'position_3x75', 'P:74', '<bar>', 'position_0x00', 'P:76', 'position_2x50', 'P:76', 'position_3x00', 'P:76', 'position_3x25', 'P:77', 'position_3x75', 'P:79', '<bar>', 'position_0x00', 'P:81', 'position_3x00', 'P:84', '<bar>', 'position_0x00', 'P:83', 'position_1x00', 'P:80', 'position_3x00', 'P:76', '<bar>', 'position_0x00', 'P:77', 'position_0x25', 'P:45', 'position_0x50', 'P:48', 'position_1x00', 'P:51', 'position_1x25', 'P:57', 'position_1x75', 'P:60', 'position_2x00', 'P:63', 'position_3x00', 'P:81', '<bar>', 'position_0x00', 'P:80', 'position_1x00', 'P:76', 'position_3x00', 'P:76', '<bar>', 'position_0x00', 'P:77', 'position_0x25', 'P:45', 'position_0x50', 'P:48', 'position_1x00', 'P:51', 'position_1x25', 'P:57', 'position_1x75', 'P:60', 'position_2x00', 'P:63', 'position_3x00', 'P:81', '<bar>', 'position_0x00', 'P:80', 'position_1x00', 'P:76', 'position_3x00', 'P:73', '<bar>', 'position_0x00', 'P:74', 'position_3x00', 'P:77', '<h>', '<bar>', 'position_0x00', 'A:min', '<bar>', 'position_0x00', 'A:min', '<bar>', 'position_0x00', 'A:min', '<bar>', 'position_0x00', 'A:min', '<bar>', 'position_0x00', 'A:min', '<bar>', 'position_0x00', 'A:min', '<bar>', 'position_0x00', 'A:min', '<bar>', 'position_0x00', 'A:min', '<bar>', 'position_0x00', 'A:min', '<bar>', 'position_0x00', 'A:min', '<bar>', 'position_0x00', 'A:min', '<bar>', 'position_0x00', 'A:min', '<bar>', 'position_0x00', 'A:min', '<bar>', 'position_0x00', 'A:min', '<bar>', 'position_0x00', 'A:min', '<bar>', 'position_0x00', 'A:min', '<bar>', 'position_0x00', 'A:min', '<bar>', 'position_0x00', 'A:min', '<bar>', 'position_0x00', 'A:min', '<bar>', 'position_0x00', 'A:min', '<bar>', 'position_0x00', 'A:min', '<bar>', 'position_0x00', 'A:min', '<bar>', 'position_0x00', 'A:min', '<bar>', 'position_0x00', 'A:min', '<bar>', 'position_0x00', 'A:min', '<bar>', 'position_0x00', 'A:min', '<bar>', 'position_0x00', 'A:min', '<bar>', 'position_0x00', 'A:min', '<bar>', 'position_0x00', 'A:min', '<bar>', 'position_0x00', 'A:min', '<bar>', 'position_0x00', 'A:min', '<bar>', 'position_0x00', 'A:min', '<bar>', 'position_0x00', 'A:min', '<bar>', 'position_0x00', 'A:min', '<bar>', 'position_0x00', 'A:min', '<bar>', 'position_0x00', 'A:min', '<bar>', 'position_0x00', 'A:min', '<bar>', 'position_0x00', 'A:min', '<bar>', 'position_0x00', 'A:min', '<bar>', 'position_0x00', 'A:min', '<bar>', 'position_0x00', 'A:min', '<bar>', 'position_0x00', 'A:min', '<bar>', 'position_0x00', 'A:min', '<bar>', 'position_0x00', 'A:min', '<bar>', 'position_0x00', 'A:min', '<bar>', 'position_0x00', 'A:min', '<bar>', 'position_0x00', 'A:min', '<bar>', 'position_0x00', 'A:min', '<bar>', 'position_0x00', 'A:min', '<bar>', 'position_0x00', 'A:min', '<bar>', 'position_0x00', 'A:min', '<bar>', 'position_0x00', 'A:min', '<bar>', 'position_0x00', 'A:min', '<bar>', 'position_0x00', 'A:min', '<bar>', 'position_0x00', 'A:min', '<bar>', 'position_0x00', 'A:min', '<bar>', 'position_0x00', 'A:min', '<bar>', 'position_0x00', 'A:min', '<bar>', 'position_0x00', 'A:min', '<bar>', 'position_0x00', 'A:min', '<bar>', 'position_0x00', 'A:min', '<bar>', 'position_0x00', 'A:min', '<bar>', 'position_0x00', 'A:min', '<bar>', 'position_0x00', 'A:min', '<bar>', 'position_0x00', 'A:min', '<bar>', 'position_0x00', 'A:min', '<bar>', 'position_0x00', 'A:min', '<bar>', 'position_0x00', 'A:min', '<bar>', 'position_0x00', 'A:min', '<bar>', 'position_0x00', 'A:min', '<bar>', 'position_0x00', 'A:min', '<bar>', 'position_0x00', 'A:min', '<bar>', 'position_0x00', 'A:min', '<bar>', 'position_0x00', 'A:min', '<bar>', 'position_0x00', 'A:min', '<bar>', 'position_0x00', 'A:min', '<bar>', 'position_0x00', 'A:min', '<bar>', 'position_0x00', 'A:min', '<bar>', 'position_0x00', 'A:min', '<bar>', 'position_0x00', 'A:min', '<bar>', 'position_0x00', 'A:min', '<bar>', 'position_0x00', 'A:min', '<bar>', 'position_0x00', 'A:min', '<bar>', 'position_0x00', 'A:min', '<bar>', 'position_0x00', 'A:min', '<bar>', 'position_0x00', 'A:min', '<bar>', 'position_0x00', 'A:min', '<bar>', 'position_0x00', 'A:min', '<bar>', 'position_0x00', 'A:min', '<bar>', 'position_0x00', 'A:min', '<bar>', 'position_0x00', 'A:min', '<bar>', 'position_0x00', 'A:min', '<bar>', 'position_0x00', 'A:min', '<bar>', 'position_0x00', 'A:min', '<bar>', 'position_0x00', 'A:min', '<bar>', 'position_0x00', 'A:min', '<bar>', 'position_0x00', 'A:min', '<bar>', 'position_0x00', 'A:min', '<bar>', 'position_0x00', 'A:min', '<bar>', 'position_0x00', 'A:min', '<bar>', 'position_0x00', 'A:min', '<bar>', 'position_0x00', 'A:min', '<bar>', 'position_0x00', 'A:min', '<bar>', 'position_0x00', '</s>']\n",
      "Saved as /media/maindisk/maximos/repos/MaskedMelHarm/test_gpt2.mid\n"
     ]
    }
   ],
   "source": [
    "bm.generate_save_with_gpt2_baseline(28, os.getcwd()+'/test_gpt2.mid')"
   ]
  },
  {
   "cell_type": "code",
   "execution_count": 7,
   "id": "53c81b16",
   "metadata": {},
   "outputs": [
    {
     "name": "stdout",
     "output_type": "stream",
     "text": [
      "Saved as /media/maindisk/maximos/repos/MaskedMelHarm/test_bart.mxl\n"
     ]
    }
   ],
   "source": [
    "bm.generate_save_with_bart_baseline(28, os.getcwd()+'/test_bart.mxl')"
   ]
  }
 ],
 "metadata": {
  "kernelspec": {
   "display_name": "torch",
   "language": "python",
   "name": "python3"
  },
  "language_info": {
   "codemirror_mode": {
    "name": "ipython",
    "version": 3
   },
   "file_extension": ".py",
   "mimetype": "text/x-python",
   "name": "python",
   "nbconvert_exporter": "python",
   "pygments_lexer": "ipython3",
   "version": "3.12.2"
  }
 },
 "nbformat": 4,
 "nbformat_minor": 5
}
