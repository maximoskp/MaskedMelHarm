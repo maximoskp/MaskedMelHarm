{
 "cells": [
  {
   "cell_type": "code",
   "execution_count": 24,
   "id": "520234d6",
   "metadata": {},
   "outputs": [],
   "source": [
    "import baseline_models as bm\n",
    "import numpy as np"
   ]
  },
  {
   "cell_type": "code",
   "execution_count": 25,
   "id": "85a1d7e0",
   "metadata": {},
   "outputs": [],
   "source": [
    "gpt_model, gpt_dataset = bm.get_gpt2_and_dataset()"
   ]
  },
  {
   "cell_type": "code",
   "execution_count": 27,
   "id": "8774b1c6",
   "metadata": {},
   "outputs": [
    {
     "name": "stdout",
     "output_type": "stream",
     "text": [
      "dict_keys(['input_ids', 'attention_mask', 'labels'])\n",
      "tensor([  2,   6, 178,  95,  62, 103,  62, 111,  62,   6,  95,  64,   6,  95,\n",
      "          4,   6,  95,   4,   6,  95,  62, 103,  62, 111,  63, 117,  64,   6,\n",
      "         95,  64,   6,  95,   4,   6,  95,  67, 103,  67, 111,  64, 117,  67,\n",
      "          6,  95,  67,   6,  95,  67, 103,  65, 107,  65,   6,  95,  65,   6,\n",
      "         95,  65, 111,  59, 117,  59,   6,  95,  59,   6,  95,   4,   6,  95,\n",
      "          4,   6,  95,   4,   6,  95,  64, 196])\n"
     ]
    }
   ],
   "source": [
    "d = gpt_dataset[11]\n",
    "start_harmony_position = np.where( d['input_ids'] == bm.baseline_tokenizer.vocab['<h>'] )[0][0]\n",
    "input_ids = d['input_ids'][:(start_harmony_position+1)]#.to(device)\n",
    "print(d.keys())\n",
    "print(input_ids)"
   ]
  },
  {
   "cell_type": "code",
   "execution_count": 28,
   "id": "6b72f63c",
   "metadata": {},
   "outputs": [],
   "source": [
    "outputs = gpt_model.generate(\n",
    "    input_ids=input_ids.reshape(1, input_ids.shape[0]),\n",
    "    eos_token_id=bm.baseline_tokenizer.eos_token_id,\n",
    "    max_length=gpt_model.config.max_position_embeddings,\n",
    "    num_beams=5,\n",
    "    do_sample=True,\n",
    "    temperature=1\n",
    ")"
   ]
  },
  {
   "cell_type": "code",
   "execution_count": 29,
   "id": "731674b1",
   "metadata": {},
   "outputs": [
    {
     "name": "stdout",
     "output_type": "stream",
     "text": [
      "tensor([[  2,   6, 178,  95,  62, 103,  62, 111,  62,   6,  95,  64,   6,  95,\n",
      "           4,   6,  95,   4,   6,  95,  62, 103,  62, 111,  63, 117,  64,   6,\n",
      "          95,  64,   6,  95,   4,   6,  95,  67, 103,  67, 111,  64, 117,  67,\n",
      "           6,  95,  67,   6,  95,  67, 103,  65, 107,  65,   6,  95,  65,   6,\n",
      "          95,  65, 111,  59, 117,  59,   6,  95,  59,   6,  95,   4,   6,  95,\n",
      "           4,   6,  95,   4,   6,  95,  64, 196,   6,  95, 458,   6,  95, 458,\n",
      "           6,  95, 458,   6,  95, 458,   6,  95, 458,   6,  95, 458,   6,  95,\n",
      "         458,   6,  95, 458,   6,  95, 458,   6,  95, 458,   6,  95, 458,   6,\n",
      "          95, 458,   6,  95, 458,   6,  95, 458,   6,  95, 458,   6,  95, 458,\n",
      "           6,  95, 458,   3]])\n"
     ]
    }
   ],
   "source": [
    "print(outputs)"
   ]
  },
  {
   "cell_type": "code",
   "execution_count": 34,
   "id": "90bbd008",
   "metadata": {},
   "outputs": [],
   "source": [
    "output_tokens = [bm.baseline_tokenizer.ids_to_tokens[t] for t in outputs[0].tolist()]"
   ]
  },
  {
   "cell_type": "code",
   "execution_count": 39,
   "id": "93dcd5e1",
   "metadata": {},
   "outputs": [
    {
     "name": "stdout",
     "output_type": "stream",
     "text": [
      "['<s>', '<bar>', 'ts_3x4', 'position_0x00', 'P:76', 'position_1x00', 'P:76', 'position_2x00', 'P:76', '<bar>', 'position_0x00', 'P:78', '<bar>', 'position_0x00', '<rest>', '<bar>', 'position_0x00', '<rest>', '<bar>', 'position_0x00', 'P:76', 'position_1x00', 'P:76', 'position_2x00', 'P:77', 'position_2x75', 'P:78', '<bar>', 'position_0x00', 'P:78', '<bar>', 'position_0x00', '<rest>', '<bar>', 'position_0x00', 'P:81', 'position_1x00', 'P:81', 'position_2x00', 'P:78', 'position_2x75', 'P:81', '<bar>', 'position_0x00', 'P:81', '<bar>', 'position_0x00', 'P:81', 'position_1x00', 'P:79', 'position_1x50', 'P:79', '<bar>', 'position_0x00', 'P:79', '<bar>', 'position_0x00', 'P:79', 'position_2x00', 'P:73', 'position_2x75', 'P:73', '<bar>', 'position_0x00', 'P:73', '<bar>', 'position_0x00', '<rest>', '<bar>', 'position_0x00', '<rest>', '<bar>', 'position_0x00', '<rest>', '<bar>', 'position_0x00', 'P:78', '<h>', '<bar>', 'position_0x00', 'A:maj', '<bar>', 'position_0x00', 'A:maj', '<bar>', 'position_0x00', 'A:maj', '<bar>', 'position_0x00', 'A:maj', '<bar>', 'position_0x00', 'A:maj', '<bar>', 'position_0x00', 'A:maj', '<bar>', 'position_0x00', 'A:maj', '<bar>', 'position_0x00', 'A:maj', '<bar>', 'position_0x00', 'A:maj', '<bar>', 'position_0x00', 'A:maj', '<bar>', 'position_0x00', 'A:maj', '<bar>', 'position_0x00', 'A:maj', '<bar>', 'position_0x00', 'A:maj', '<bar>', 'position_0x00', 'A:maj', '<bar>', 'position_0x00', 'A:maj', '<bar>', 'position_0x00', 'A:maj', '<bar>', 'position_0x00', 'A:maj', '</s>']\n",
      "/media/maindisk/maximos/repos/MaskedMelHarm\n"
     ]
    }
   ],
   "source": [
    "import os\n",
    "print(output_tokens)\n",
    "print(os.getcwd())"
   ]
  },
  {
   "cell_type": "code",
   "execution_count": 41,
   "id": "1bcada86",
   "metadata": {},
   "outputs": [
    {
     "name": "stdout",
     "output_type": "stream",
     "text": [
      "Saved as /media/maindisk/maximos/repos/MaskedMelHarm/basetest.mxl\n"
     ]
    }
   ],
   "source": [
    "bm.baseline_tokenizer.decode(output_tokens, output_format='file', output_path=os.getcwd()+'/basetest.mxl')"
   ]
  }
 ],
 "metadata": {
  "kernelspec": {
   "display_name": "torch",
   "language": "python",
   "name": "python3"
  },
  "language_info": {
   "codemirror_mode": {
    "name": "ipython",
    "version": 3
   },
   "file_extension": ".py",
   "mimetype": "text/x-python",
   "name": "python",
   "nbconvert_exporter": "python",
   "pygments_lexer": "ipython3",
   "version": "3.12.2"
  }
 },
 "nbformat": 4,
 "nbformat_minor": 5
}
