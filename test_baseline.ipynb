{
 "cells": [
  {
   "cell_type": "code",
   "execution_count": 1,
   "id": "520234d6",
   "metadata": {},
   "outputs": [
    {
     "name": "stderr",
     "output_type": "stream",
     "text": [
      "/home/maximos/miniconda3/envs/torch/lib/python3.12/site-packages/tqdm/auto.py:21: TqdmWarning: IProgress not found. Please update jupyter and ipywidgets. See https://ipywidgets.readthedocs.io/en/stable/user_install.html\n",
      "  from .autonotebook import tqdm as notebook_tqdm\n"
     ]
    }
   ],
   "source": [
    "import baseline_models as bm\n",
    "import numpy as np\n",
    "import os"
   ]
  },
  {
   "cell_type": "code",
   "execution_count": 2,
   "id": "85a1d7e0",
   "metadata": {},
   "outputs": [
    {
     "name": "stderr",
     "output_type": "stream",
     "text": [
      "/home/maximos/miniconda3/envs/torch/lib/python3.12/site-packages/music21/stream/base.py:3694: Music21DeprecationWarning: .flat is deprecated.  Call .flatten() instead\n",
      "  return self.iter().getElementsByClass(classFilterList)\n"
     ]
    },
    {
     "name": "stdout",
     "output_type": "stream",
     "text": [
      "Saved as /media/maindisk/maximos/repos/MaskedMelHarm/test_gpt2.mxl\n"
     ]
    }
   ],
   "source": [
    "# gpt_model, gpt_dataset = bm.get_gpt2_and_dataset()\n",
    "\n",
    "# d = gpt_dataset[11]\n",
    "# start_harmony_position = np.where( d['input_ids'] == bm.baseline_tokenizer.vocab['<h>'] )[0][0]\n",
    "# input_ids = d['input_ids'][:(start_harmony_position+1)]#.to(device)\n",
    "# print(d.keys())\n",
    "# print(input_ids)\n",
    "\n",
    "# outputs = gpt_model.generate(\n",
    "#     input_ids=input_ids.reshape(1, input_ids.shape[0]),\n",
    "#     eos_token_id=bm.baseline_tokenizer.eos_token_id,\n",
    "#     max_length=gpt_model.config.max_position_embeddings,\n",
    "#     num_beams=5,\n",
    "#     do_sample=True,\n",
    "#     temperature=1\n",
    "# )\n",
    "\n",
    "# output_tokens = [bm.baseline_tokenizer.ids_to_tokens[t] for t in outputs[0].tolist()]\n",
    "\n",
    "# bm.baseline_tokenizer.decode(output_tokens, output_format='file', output_path=os.getcwd()+'/gpt2test.mxl')\n",
    "bm.generate_save_with_gpt2_baseline(28, os.getcwd()+'/test_gpt2.mxl')"
   ]
  },
  {
   "cell_type": "code",
   "execution_count": 3,
   "id": "53c81b16",
   "metadata": {},
   "outputs": [
    {
     "name": "stderr",
     "output_type": "stream",
     "text": [
      "/home/maximos/miniconda3/envs/torch/lib/python3.12/site-packages/music21/stream/base.py:3694: Music21DeprecationWarning: .flat is deprecated.  Call .flatten() instead\n",
      "  return self.iter().getElementsByClass(classFilterList)\n"
     ]
    },
    {
     "name": "stdout",
     "output_type": "stream",
     "text": [
      "Saved as /media/maindisk/maximos/repos/MaskedMelHarm/test_bart.mxl\n"
     ]
    }
   ],
   "source": [
    "# bart_model, bart_dataset = bm.get_bart_and_dataset()\n",
    "\n",
    "# d = bart_dataset[11]\n",
    "# input_ids = d['input_ids']#.to(device)\n",
    "# print(d.keys())\n",
    "# print(input_ids)\n",
    "\n",
    "# outputs = bart_model.generate(\n",
    "#     input_ids=input_ids.reshape(1, input_ids.shape[0]),\n",
    "#     eos_token_id=bm.baseline_tokenizer.eos_token_id,\n",
    "#     max_length=gpt_model.config.max_position_embeddings,\n",
    "#     num_beams=5,\n",
    "#     do_sample=True,\n",
    "#     temperature=1\n",
    "# )\n",
    "\n",
    "# output_tokens = [bm.baseline_tokenizer.ids_to_tokens[t] for t in input_ids.tolist()] + [bm.baseline_tokenizer.ids_to_tokens[t] for t in outputs[0].tolist()[1:]]\n",
    "# print(output_tokens)\n",
    "# bm.baseline_tokenizer.decode(output_tokens, output_format='file', output_path=os.getcwd()+'/barttest.mxl')\n",
    "bm.generate_save_with_bart_baseline(28, os.getcwd()+'/test_bart.mxl')"
   ]
  }
 ],
 "metadata": {
  "kernelspec": {
   "display_name": "torch",
   "language": "python",
   "name": "python3"
  },
  "language_info": {
   "codemirror_mode": {
    "name": "ipython",
    "version": 3
   },
   "file_extension": ".py",
   "mimetype": "text/x-python",
   "name": "python",
   "nbconvert_exporter": "python",
   "pygments_lexer": "ipython3",
   "version": "3.12.2"
  }
 },
 "nbformat": 4,
 "nbformat_minor": 5
}
