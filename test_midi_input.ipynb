{
 "cells": [
  {
   "cell_type": "code",
   "execution_count": 1,
   "id": "542ca197",
   "metadata": {},
   "outputs": [
    {
     "name": "stderr",
     "output_type": "stream",
     "text": [
      "/home/maximos/miniconda3/envs/torch/lib/python3.12/site-packages/tqdm/auto.py:21: TqdmWarning: IProgress not found. Please update jupyter and ipywidgets. See https://ipywidgets.readthedocs.io/en/stable/user_install.html\n",
      "  from .autonotebook import tqdm as notebook_tqdm\n"
     ]
    }
   ],
   "source": [
    "import music21 as m21\n",
    "import os\n",
    "from GridMLM_tokenizers import CSGridMLMTokenizer\n",
    "import numpy as np\n",
    "from generate_utils import overlay_generated_harmony\n",
    "import matplotlib.pyplot as plt"
   ]
  },
  {
   "cell_type": "code",
   "execution_count": 2,
   "id": "17d5f65b",
   "metadata": {},
   "outputs": [
    {
     "name": "stdout",
     "output_type": "stream",
     "text": [
      "547\n"
     ]
    }
   ],
   "source": [
    "# data_dir = '/media/maindisk/data/hooktheory_midi_hr/CA_train/'\n",
    "data_dir = '/media/maindisk/data/gjt_melodies/gjt_CA/'\n",
    "data_files = []\n",
    "for dirpath, _, filenames in os.walk(data_dir):\n",
    "    for file in filenames:\n",
    "        if file.endswith('.mid') or file.endswith('.midi') or file.endswith('.mxl') or file.endswith('.xml'):\n",
    "            full_path = os.path.join(dirpath, file)\n",
    "            data_files.append(full_path)\n",
    "print(len(data_files))"
   ]
  },
  {
   "cell_type": "code",
   "execution_count": 3,
   "id": "da14d918",
   "metadata": {},
   "outputs": [],
   "source": [
    "tokenizer = CSGridMLMTokenizer(fixed_length=256)"
   ]
  },
  {
   "cell_type": "code",
   "execution_count": 4,
   "id": "fd5a5582",
   "metadata": {},
   "outputs": [
    {
     "name": "stdout",
     "output_type": "stream",
     "text": [
      "/media/maindisk/data/gjt_melodies/gjt_CA/Bohemia_After_Dark.mxl\n",
      "['<bar>', 'A:min7', 'A:min7', 'A:min7', 'A:min7', 'A:min7', 'A:min7', 'A:min7', 'A:min7', 'A:min7', 'A:min7', 'A:min7', 'A:min7', 'A:min7', 'A:min7', 'A:min7', 'A:min7', '<bar>', 'B:hdim7', 'B:hdim7', 'B:hdim7', 'B:hdim7', 'B:hdim7', 'B:hdim7', 'B:hdim7', 'B:hdim7', 'E:7(b9)', 'E:7(b9)', 'E:7(b9)', 'E:7(b9)', 'E:7(b9)', 'E:7(b9)', 'E:7(b9)', 'E:7(b9)', '<bar>', 'A:min7', 'A:min7', 'A:min7', 'A:min7', 'A:min7', 'A:min7', 'A:min7', 'A:min7', 'A:min7', 'A:min7', 'A:min7', 'A:min7', 'A:min7', 'A:min7', 'A:min7', 'A:min7', '<bar>', 'B:hdim7', 'B:hdim7', 'B:hdim7', 'B:hdim7', 'B:hdim7', 'B:hdim7', 'B:hdim7', 'B:hdim7', 'E:7(b9)', 'E:7(b9)', 'E:7(b9)', 'E:7(b9)', 'E:7(b9)', 'E:7(b9)', 'E:7(b9)', 'E:7(b9)', '<bar>', 'A:min7', 'A:min7', 'A:min7', 'A:min7', 'A:min7', 'A:min7', 'A:min7', 'A:min7', 'A:min7', 'A:min7', 'A:min7', 'A:min7', 'A:min7', 'A:min7', 'A:min7', 'A:min7', '<bar>', 'B:hdim7', 'B:hdim7', 'B:hdim7', 'B:hdim7', 'B:hdim7', 'B:hdim7', 'B:hdim7', 'B:hdim7', 'E:7(b9)', 'E:7(b9)', 'E:7(b9)', 'E:7(b9)', 'E:7(b9)', 'E:7(b9)', 'E:7(b9)', 'E:7(b9)', '<bar>', 'A:min7', 'A:min7', 'A:min7', 'A:min7', 'A:min7', 'A:min7', 'A:min7', 'A:min7', 'A:min7', 'A:min7', 'A:min7', 'A:min7', 'A:min7', 'A:min7', 'A:min7', 'A:min7', '<bar>', 'E:7(b9)', 'E:7(b9)', 'E:7(b9)', 'E:7(b9)', 'E:7(b9)', 'E:7(b9)', 'E:7(b9)', 'E:7(b9)', 'A:min7', 'A:min7', 'A:min7', 'A:min7', 'A:min7', 'A:min7', 'A:min7', 'A:min7', '<bar>', 'A:min7', 'A:min7', 'A:min7', 'A:min7', 'A:min7', 'A:min7', 'A:min7', 'A:min7', 'A:min7', 'A:min7', 'A:min7', 'A:min7', 'A:min7', 'A:min7', 'A:min7', 'A:min7', '<bar>', 'D:7', 'D:7', 'D:7', 'D:7', 'D:7', 'D:7', 'D:7', 'D:7', 'D:7', 'D:7', 'D:7', 'D:7', 'D:7', 'D:7', 'D:7', 'D:7', '<bar>', 'D:7', 'D:7', 'D:7', 'D:7', 'D:7', 'D:7', 'D:7', 'D:7', 'D:7', 'D:7', 'D:7', 'D:7', 'D:7', 'D:7', 'D:7', 'D:7', '<bar>', 'D:7', 'D:7', 'D:7', 'D:7', 'D:7', 'D:7', 'D:7', 'D:7', 'D:7', 'D:7', 'D:7', 'D:7', 'D:7', 'D:7', 'D:7', 'D:7', '<bar>', 'D:7', 'D:7', 'D:7', 'D:7', 'D:7', 'D:7', 'D:7', 'D:7', 'D:7', 'D:7', 'D:7', 'D:7', 'D:7', 'D:7', 'D:7', 'D:7', '<bar>', 'D:7', 'D:7', 'D:7', 'D:7', 'D:7', 'D:7', 'D:7', 'D:7', 'D:7', 'D:7', 'D:7', 'D:7', 'D:7', 'D:7', 'D:7', 'D:7', '<bar>', 'D:7', 'D:7', 'D:7', 'D:7', 'D:7', 'D:7', 'D:7', 'D:7', 'D:7', 'D:7', 'D:7', 'D:7', 'D:7', 'D:7', 'D:7', 'D:7', '<bar>']\n"
     ]
    }
   ],
   "source": [
    "print(data_files[0])\n",
    "x = tokenizer.encode( data_files[0] )\n",
    "print(x['input_tokens'])"
   ]
  },
  {
   "cell_type": "code",
   "execution_count": 6,
   "id": "74473cfa",
   "metadata": {},
   "outputs": [
    {
     "name": "stdout",
     "output_type": "stream",
     "text": [
      "['<bar>', 'C:maj7', '<nc>', '<nc>', '<nc>', '<nc>', '<nc>', '<nc>', '<nc>', '<nc>', '<nc>', '<nc>', '<nc>', '<bar>', 'A:min7', '<nc>', '<nc>', '<nc>', '<nc>', '<nc>', '<nc>', '<nc>', '<nc>', '<nc>', '<nc>', '<nc>', '<bar>', 'D:min7', '<nc>', '<nc>', '<nc>', '<nc>', '<nc>', '<nc>', '<nc>', '<nc>', '<nc>', '<nc>', '<nc>', '<bar>', 'G:7', '<nc>', '<nc>', '<nc>', '<nc>', '<nc>', 'G#:dim7', '<nc>', '<nc>', '<nc>', '<nc>', '<nc>', '<bar>', 'A:min7', '<nc>', '<nc>', '<nc>', '<nc>', '<nc>', '<nc>', '<nc>', '<nc>', '<nc>', '<nc>', '<nc>', '<bar>', 'A:min7', '<nc>', '<nc>', '<nc>', '<nc>', '<nc>', '<nc>', '<nc>', '<nc>', '<nc>', '<nc>', '<nc>', '<bar>', 'F#:hdim7', '<nc>', '<nc>', '<nc>', '<nc>', '<nc>', '<nc>', '<nc>', '<nc>', '<nc>', '<nc>', '<nc>', '<bar>', 'F:minmaj7', '<nc>', '<nc>', '<nc>', '<nc>', '<nc>', '<nc>', '<nc>', '<nc>', '<nc>', '<nc>', '<nc>', '<bar>', 'F:maj7', '<nc>', '<nc>', '<nc>', '<nc>', '<nc>', '<nc>', '<nc>', '<nc>', '<nc>', '<nc>', '<nc>', '<bar>', 'D#:dim7', '<nc>', '<nc>', '<nc>', '<nc>', '<nc>', '<nc>', '<nc>', '<nc>', '<nc>', '<nc>', '<nc>', '<bar>', 'D:min7', '<nc>', '<nc>', '<nc>', '<nc>', '<nc>', '<nc>', '<nc>', '<nc>', '<nc>', '<nc>', '<nc>', '<bar>', 'E:7', '<nc>', '<nc>', '<nc>', '<nc>', '<nc>', '<nc>', '<nc>', '<nc>', '<nc>', '<nc>', '<nc>', '<bar>', 'A:min7', '<nc>', '<nc>', '<nc>', '<nc>', '<nc>', '<nc>', '<nc>', '<nc>', '<nc>', '<nc>', '<nc>', '<bar>', 'B:7', '<nc>', '<nc>', '<nc>', '<nc>', '<nc>', '<nc>', '<nc>', '<nc>', '<nc>', '<nc>', '<nc>', '<bar>', 'E:min7', '<nc>', '<nc>', '<nc>', '<nc>', '<nc>', 'A:7', '<nc>', '<nc>', '<nc>', '<nc>', '<nc>', '<bar>', 'D:min7', '<nc>', '<nc>', '<nc>', '<nc>', '<nc>', 'G:7', '<nc>', '<nc>', '<nc>', '<nc>', '<nc>', '<bar>', 'C:maj', '<nc>', '<nc>', '<nc>', '<nc>', '<nc>', '<nc>', '<nc>', '<nc>', '<nc>', '<nc>', '<nc>', '<bar>', 'D#:dim7', '<nc>', '<nc>', '<nc>', '<nc>', '<nc>', '<nc>', '<nc>', '<nc>', '<nc>', '<nc>', '<nc>', '<bar>', 'D:min7', '<nc>', '<nc>', '<nc>', '<nc>', '<nc>', '<nc>', '<nc>', '<nc>', '<nc>', '<nc>', '<nc>', '<bar>', 'E:7', '<nc>', '<nc>', '<nc>', '<nc>', '<nc>', '<nc>', '<nc>']\n",
      "256\n",
      "dict_keys(['input_tokens', 'input_ids', 'pianoroll', 'time_signature', 'attention_mask', 'skip_steps', 'melody_part', 'ql_per_quantum', 'back_interval'])\n",
      "0\n",
      "0.25\n",
      "(256, 101)\n"
     ]
    }
   ],
   "source": [
    "# x = tokenizer.encode( 'example_inputs/test_midi_constraints.mid', keep_durations=True )\n",
    "x = tokenizer.encode( data_files[10], keep_durations=True )\n",
    "print(x['input_tokens'])\n",
    "print(len(x['input_tokens']))\n",
    "print(x.keys())\n",
    "print(x['skip_steps'])\n",
    "print(x['ql_per_quantum'])\n",
    "print(x['pianoroll'].shape)"
   ]
  },
  {
   "cell_type": "code",
   "execution_count": 7,
   "id": "a2b6ece1",
   "metadata": {},
   "outputs": [
    {
     "data": {
      "text/plain": [
       "<matplotlib.image.AxesImage at 0x77bbc159fd70>"
      ]
     },
     "execution_count": 7,
     "metadata": {},
     "output_type": "execute_result"
    },
    {
     "data": {
      "image/png": "[encoded data removed]",
      "text/plain": [
       "<Figure size 640x480 with 1 Axes>"
      ]
     },
     "metadata": {
      "image/png": {
       "height": 361,
       "width": 554
      }
     },
     "output_type": "display_data"
    }
   ],
   "source": [
    "plt.imshow(x['pianoroll'][:64,:])"
   ]
  },
  {
   "cell_type": "code",
   "execution_count": 7,
   "id": "906bf630",
   "metadata": {},
   "outputs": [
    {
     "name": "stderr",
     "output_type": "stream",
     "text": [
      "/home/maximos/miniconda3/envs/torch/lib/python3.12/site-packages/music21/base.py:559: UserWarning: Setting an ID that could be mistaken for a memory location is discouraged: got 130404102104768\n",
      "  warnings.warn(msg)\n"
     ]
    }
   ],
   "source": [
    "s = overlay_generated_harmony(x['melody_part'], x['input_tokens'], x['ql_per_quantum'], x['skip_steps'])"
   ]
  },
  {
   "cell_type": "code",
   "execution_count": 8,
   "id": "691e9e90",
   "metadata": {},
   "outputs": [
    {
     "name": "stdout",
     "output_type": "stream",
     "text": [
      "{0.0} <music21.stream.Part 0x769a11e24680>\n",
      "    {0.0} <music21.stream.Measure 1 offset=0.0>\n",
      "        {0.0} <music21.clef.BassClef>\n",
      "        {0.0} <music21.tempo.MetronomeMark allegro moderato Quarter=128>\n",
      "        {0.0} <music21.key.Key of G major>\n",
      "        {0.0} <music21.meter.TimeSignature 4/4>\n",
      "        {0.0} <music21.note.Note G>\n",
      "        {0.25} <music21.note.Rest eighth>\n",
      "        {0.75} <music21.note.Note G>\n",
      "        {1.25} <music21.note.Rest 16th>\n",
      "        {1.5} <music21.note.Note G>\n",
      "        {2.0} <music21.note.Note B>\n",
      "        {2.5} <music21.note.Note G>\n",
      "        {3.0} <music21.note.Note A>\n",
      "        {3.5} <music21.note.Note G>\n",
      "    {4.0} <music21.stream.Measure 2 offset=4.0>\n",
      "        {0.0} <music21.note.Note G>\n",
      "        {0.25} <music21.note.Rest eighth>\n",
      "        {0.75} <music21.note.Note G>\n",
      "        {1.25} <music21.note.Rest 16th>\n",
      "        {1.5} <music21.note.Note G>\n",
      "        {2.0} <music21.note.Note B>\n",
      "        {2.5} <music21.note.Note D>\n",
      "        {3.0} <music21.note.Note A>\n",
      "        {3.5} <music21.note.Note D>\n",
      "    {8.0} <music21.stream.Measure 3 offset=8.0>\n",
      "        {0.0} <music21.note.Note G>\n",
      "        {0.25} <music21.note.Rest eighth>\n",
      "        {0.75} <music21.note.Note G>\n",
      "        {1.25} <music21.note.Rest 16th>\n",
      "        {1.5} <music21.note.Note G>\n",
      "        {2.0} <music21.note.Note B>\n",
      "        {2.5} <music21.note.Note G>\n",
      "        {3.0} <music21.note.Note A>\n",
      "        {3.5} <music21.note.Note G>\n",
      "    {12.0} <music21.stream.Measure 4 offset=12.0>\n",
      "        {0.0} <music21.note.Note D>\n",
      "        {0.25} <music21.note.Rest eighth>\n",
      "        {0.75} <music21.note.Note D>\n",
      "        {1.25} <music21.note.Rest 16th>\n",
      "        {1.5} <music21.note.Note D>\n",
      "        {2.0} <music21.note.Note B>\n",
      "        {2.5} <music21.note.Note D>\n",
      "        {3.0} <music21.note.Note B>\n",
      "        {3.5} <music21.note.Note D>\n",
      "    {16.0} <music21.stream.Measure 5 offset=16.0>\n",
      "        {0.0} <music21.note.Note G>\n",
      "        {0.25} <music21.note.Rest eighth>\n",
      "        {0.75} <music21.note.Note G>\n",
      "        {1.25} <music21.note.Rest 16th>\n",
      "        {1.5} <music21.note.Note G>\n",
      "        {2.0} <music21.note.Note B>\n",
      "        {2.5} <music21.note.Note G>\n",
      "        {3.0} <music21.note.Note A>\n",
      "        {3.5} <music21.note.Note G>\n",
      "    {20.0} <music21.stream.Measure 6 offset=20.0>\n",
      "        {0.0} <music21.note.Note G>\n",
      "        {0.25} <music21.note.Rest eighth>\n",
      "        {0.75} <music21.note.Note G>\n",
      "        {1.25} <music21.note.Rest 16th>\n",
      "        {1.5} <music21.note.Note G>\n",
      "        {2.0} <music21.note.Note B>\n",
      "        {2.5} <music21.note.Note D>\n",
      "        {3.0} <music21.note.Note A>\n",
      "        {3.5} <music21.note.Note D>\n",
      "    {24.0} <music21.stream.Measure 7 offset=24.0>\n",
      "        {0.0} <music21.note.Note G>\n",
      "        {0.75} <music21.note.Note G>\n",
      "        {1.5} <music21.note.Note G>\n",
      "        {2.0} <music21.note.Note B>\n",
      "        {2.5} <music21.note.Note G>\n",
      "        {3.0} <music21.note.Note A>\n",
      "        {3.5} <music21.note.Note G>\n",
      "    {28.0} <music21.stream.Measure 8 offset=28.0>\n",
      "        {0.0} <music21.note.Note D>\n",
      "        {0.25} <music21.note.Rest eighth>\n",
      "        {0.75} <music21.note.Note D>\n",
      "        {1.25} <music21.note.Rest 16th>\n",
      "        {1.5} <music21.note.Note D>\n",
      "        {2.0} <music21.note.Note B>\n",
      "        {3.0} <music21.note.Note D>\n",
      "        {4.0} <music21.bar.Barline type=final>\n",
      "{0.0} <music21.stream.Part 0x769a1209edb0>\n",
      "    {0.0} <music21.stream.Measure 1 offset=0.0>\n",
      "        {0.0} <music21.clef.BassClef>\n",
      "        {0.0} <music21.tempo.MetronomeMark allegro moderato Quarter=128>\n",
      "        {0.0} <music21.key.Key of G major>\n",
      "        {0.0} <music21.meter.TimeSignature 4/4>\n",
      "        {0.0} <music21.note.Rest whole>\n",
      "    {4.0} <music21.stream.Measure 2 offset=4.0>\n",
      "        {0.0} <music21.note.Rest whole>\n",
      "    {8.0} <music21.stream.Measure 3 offset=8.0>\n",
      "        {0.0} <music21.note.Rest whole>\n",
      "    {12.0} <music21.stream.Measure 4 offset=12.0>\n",
      "        {3.0} <music21.chord.Chord D3 F#3 A3>\n",
      "    {16.0} <music21.stream.Measure 5 offset=16.0>\n",
      "        {0.0} <music21.chord.Chord D3 F#3 A3>\n",
      "    {20.0} <music21.stream.Measure 6 offset=20.0>\n",
      "        {0.0} <music21.chord.Chord D3 F#3 A3>\n",
      "    {24.0} <music21.stream.Measure 7 offset=24.0>\n",
      "        {0.0} <music21.chord.Chord D3 F#3 A3>\n",
      "        {1.75} <music21.chord.Chord C3 E3 G3>\n",
      "    {28.0} <music21.stream.Measure 8 offset=28.0>\n",
      "        {0.0} <music21.chord.Chord C3 E3 G3>\n",
      "        {1.0} <music21.bar.Barline type=final>\n"
     ]
    }
   ],
   "source": [
    "s.show('t')"
   ]
  },
  {
   "cell_type": "code",
   "execution_count": 8,
   "id": "ab8ffe25",
   "metadata": {},
   "outputs": [],
   "source": [
    "m = m21.converter.parse('example_inputs/test_midi_constraints.mid')"
   ]
  },
  {
   "cell_type": "code",
   "execution_count": 10,
   "id": "3414345f",
   "metadata": {},
   "outputs": [
    {
     "name": "stdout",
     "output_type": "stream",
     "text": [
      "{0.0} <music21.stream.Measure 1 offset=0.0>\n",
      "    {0.0} <music21.instrument.Piano 'Piano, Piano: Piano, Piano'>\n",
      "    {0.0} <music21.clef.BassClef>\n",
      "    {0.0} <music21.key.Key of G major>\n",
      "    {0.0} <music21.meter.TimeSignature 4/4>\n",
      "    {0.0} <music21.note.Rest whole>\n",
      "{4.0} <music21.stream.Measure 2 offset=4.0>\n",
      "    {0.0} <music21.note.Rest whole>\n",
      "{8.0} <music21.stream.Measure 3 offset=8.0>\n",
      "    {0.0} <music21.note.Rest whole>\n",
      "{12.0} <music21.stream.Measure 4 offset=12.0>\n",
      "    {0.0} <music21.note.Rest half>\n",
      "    {2.0} <music21.chord.Chord D3 F#3 A3>\n",
      "{16.0} <music21.stream.Measure 5 offset=16.0>\n",
      "    {0.0} <music21.note.Rest whole>\n",
      "{20.0} <music21.stream.Measure 6 offset=20.0>\n",
      "    {0.0} <music21.note.Rest whole>\n",
      "{24.0} <music21.stream.Measure 7 offset=24.0>\n",
      "    {0.0} <music21.stream.Voice 0x7ad060b970e0>\n",
      "        {0.0} <music21.note.Note G>\n",
      "        {0.75} <music21.note.Rest 3.25ql>\n",
      "    {0.0} <music21.stream.Voice 0x7ad060b97a70>\n",
      "        {0.0} <music21.chord.Chord C3 E3>\n",
      "        {3.75} <music21.note.Rest 16th>\n",
      "    {4.0} <music21.bar.Barline type=final>\n",
      "{0.0} <music21.stream.Measure 1 offset=0.0>\n",
      "    {0.0} <music21.instrument.Piano 'Piano, Piano: Piano, Piano'>\n",
      "    {0.0} <music21.clef.BassClef>\n",
      "    {0.0} <music21.key.Key of G major>\n",
      "    {0.0} <music21.meter.TimeSignature 4/4>\n",
      "    {0.0} <music21.note.Rest whole>\n",
      "{4.0} <music21.stream.Measure 2 offset=4.0>\n",
      "    {0.0} <music21.note.Rest whole>\n",
      "{8.0} <music21.stream.Measure 3 offset=8.0>\n",
      "    {0.0} <music21.note.Rest whole>\n",
      "{12.0} <music21.stream.Measure 4 offset=12.0>\n",
      "    {0.0} <music21.note.Rest half>\n",
      "    {2.0} <music21.chord.Chord D3 F#3 A3>\n",
      "{16.0} <music21.stream.Measure 5 offset=16.0>\n",
      "    {0.0} <music21.note.Rest whole>\n",
      "{20.0} <music21.stream.Measure 6 offset=20.0>\n",
      "    {0.0} <music21.note.Rest whole>\n",
      "{24.0} <music21.stream.Measure 7 offset=24.0>\n",
      "    {0.0} <music21.chord.Chord C3 E3 G3>\n",
      "    {0.75} <music21.chord.Chord C3 E3>\n",
      "    {3.75} <music21.note.Rest 16th>\n",
      "    {4.0} <music21.bar.Barline type=final>\n",
      "{0.0} <music21.instrument.Piano 'Piano, Piano: Piano, Piano'>\n",
      "{0.0} <music21.clef.BassClef>\n",
      "{0.0} <music21.key.Key of G major>\n",
      "{0.0} <music21.meter.TimeSignature 4/4>\n",
      "{0.0} <music21.note.Rest whole>\n",
      "{4.0} <music21.note.Rest whole>\n",
      "{8.0} <music21.note.Rest whole>\n",
      "{12.0} <music21.note.Rest half>\n",
      "{14.0} <music21.chord.Chord D3 F#3 A3>\n",
      "{16.0} <music21.note.Rest whole>\n",
      "{20.0} <music21.note.Rest whole>\n",
      "{24.0} <music21.chord.Chord C3 E3 G3>\n",
      "{24.75} <music21.chord.Chord C3 E3>\n",
      "{27.75} <music21.note.Rest 16th>\n",
      "{28.0} <music21.bar.Barline type=final>\n"
     ]
    }
   ],
   "source": [
    "p1 = m.parts[1]\n",
    "c1 = p1.chordify()\n",
    "f1 = c1.flatten()\n",
    "p1.show('t')\n",
    "c1.show('t')\n",
    "f1.show('t')"
   ]
  }
 ],
 "metadata": {
  "kernelspec": {
   "display_name": "torch",
   "language": "python",
   "name": "python3"
  },
  "language_info": {
   "codemirror_mode": {
    "name": "ipython",
    "version": 3
   },
   "file_extension": ".py",
   "mimetype": "text/x-python",
   "name": "python",
   "nbconvert_exporter": "python",
   "pygments_lexer": "ipython3",
   "version": "3.12.2"
  }
 },
 "nbformat": 4,
 "nbformat_minor": 5
}
