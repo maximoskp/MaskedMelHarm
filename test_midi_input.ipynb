{
 "cells": [
  {
   "cell_type": "code",
   "execution_count": 1,
   "id": "542ca197",
   "metadata": {},
   "outputs": [
    {
     "name": "stderr",
     "output_type": "stream",
     "text": [
      "/home/maximos/miniconda3/envs/torch/lib/python3.12/site-packages/tqdm/auto.py:21: TqdmWarning: IProgress not found. Please update jupyter and ipywidgets. See https://ipywidgets.readthedocs.io/en/stable/user_install.html\n",
      "  from .autonotebook import tqdm as notebook_tqdm\n"
     ]
    }
   ],
   "source": [
    "import music21 as m21\n",
    "import os\n",
    "from GridMLM_tokenizers import CSGridMLMTokenizer\n",
    "import numpy as np"
   ]
  },
  {
   "cell_type": "code",
   "execution_count": 2,
   "id": "17d5f65b",
   "metadata": {},
   "outputs": [
    {
     "name": "stdout",
     "output_type": "stream",
     "text": [
      "17779\n"
     ]
    }
   ],
   "source": [
    "data_dir = '/media/maindisk/data/hooktheory_hr/nokey/'\n",
    "data_files = []\n",
    "for dirpath, _, filenames in os.walk(data_dir):\n",
    "    for file in filenames:\n",
    "        if file.endswith('.mid') or file.endswith('.midi'):\n",
    "            full_path = os.path.join(dirpath, file)\n",
    "            data_files.append(full_path)\n",
    "print(len(data_files))"
   ]
  },
  {
   "cell_type": "code",
   "execution_count": 3,
   "id": "da14d918",
   "metadata": {},
   "outputs": [],
   "source": [
    "tokenizer = CSGridMLMTokenizer(fixed_length=256)"
   ]
  },
  {
   "cell_type": "code",
   "execution_count": 4,
   "id": "fd5a5582",
   "metadata": {},
   "outputs": [
    {
     "name": "stdout",
     "output_type": "stream",
     "text": [
      "/media/maindisk/data/hooktheory_hr/nokey/11363_muse_the-small-print_chorus.mid\n",
      "['C:min', 'C:min', 'C:min', 'C:min', 'C:min', 'C:min', 'C:min', 'C:min', 'G:maj', 'G:maj', 'G:maj', 'G:maj', 'G:maj', 'G:maj', 'G:maj', 'G:maj', 'D#:maj', 'D#:maj', 'D#:maj', 'D#:maj', 'D#:maj', 'D#:maj', 'D#:maj', 'D#:maj', 'G:maj', 'G:maj', 'G:maj', 'G:maj', 'G:maj', 'G:maj', 'G:maj', 'G:maj', 'C:min', 'C:min', 'C:min', 'C:min', 'C:min', 'C:min', 'C:min', 'C:min', 'G:maj', 'G:maj', 'G:maj', 'G:maj', 'G:maj', 'G:maj', 'G:maj', 'G:maj', 'D#:maj', 'D#:maj', 'D#:maj', 'D#:maj', 'D#:maj', 'D#:maj', 'D#:maj', 'D#:maj', 'G:maj', 'G:maj', 'G:maj', 'G:maj', 'G:maj', 'G:maj', 'G:maj', 'G:maj', 'F:min', 'F:min', 'F:min', 'F:min', 'F:min', 'F:min', 'F:min', 'F:min', 'G:maj', 'G:maj', 'G:maj', 'G:maj', 'G:maj', 'G:maj', 'G:maj', 'G:maj', 'C:min', 'C:min', 'C:min', 'C:min', 'C:min', 'C:min', 'C:min', 'C:min', 'D#:maj', 'D#:maj', 'D#:maj', 'D#:maj', 'D#:maj', 'D#:maj', 'D#:maj', 'D#:maj', 'G:maj', 'G:maj', 'G:maj', 'G:maj', 'G:maj', 'G:maj', 'G:maj', 'G:maj', 'G:maj', 'G:maj', 'G:maj', 'G:maj', 'G:maj', 'G:maj', 'G:maj', 'G:maj', 'F:min', 'F:min', 'F:min', 'F:min', 'F:min', 'F:min', 'F:min', 'F:min', 'A#:maj', 'A#:maj', 'A#:maj', 'A#:maj', 'A#:maj', 'A#:maj', 'A#:maj', 'A#:maj', 'D#:maj', 'D#:maj', 'D#:maj', 'D#:maj', 'D#:maj', 'D#:maj', 'D#:maj', 'D#:maj', 'D#:maj', 'D#:maj', 'D#:maj', 'D#:maj', 'D#:maj', 'D#:maj', 'D#:maj', 'D#:maj', 'C:min', 'C:min', 'C:min', 'C:min', 'C:min', 'C:min', 'C:min', 'C:min', 'C:min', 'C:min', 'C:min', 'C:min', 'C:min', 'C:min', 'C:min', 'C:min', 'D#:aug', 'D#:aug', 'D#:aug', 'D#:aug', 'D#:aug', 'D#:aug', 'D#:aug', 'D#:aug', 'D#:aug', 'D#:aug', 'D#:aug', 'D#:aug', 'D#:aug', 'D#:aug', 'D#:aug', 'D#:aug', '<pad>', '<pad>', '<pad>', '<pad>', '<pad>', '<pad>', '<pad>', '<pad>', '<pad>', '<pad>', '<pad>', '<pad>', '<pad>', '<pad>', '<pad>', '<pad>', '<pad>', '<pad>', '<pad>', '<pad>', '<pad>', '<pad>', '<pad>', '<pad>', '<pad>', '<pad>', '<pad>', '<pad>', '<pad>', '<pad>', '<pad>', '<pad>', '<pad>', '<pad>', '<pad>', '<pad>', '<pad>', '<pad>', '<pad>', '<pad>', '<pad>', '<pad>', '<pad>', '<pad>', '<pad>', '<pad>', '<pad>', '<pad>', '<pad>', '<pad>', '<pad>', '<pad>', '<pad>', '<pad>', '<pad>', '<pad>', '<pad>', '<pad>', '<pad>', '<pad>', '<pad>', '<pad>', '<pad>', '<pad>', '<pad>', '<pad>', '<pad>', '<pad>', '<pad>', '<pad>', '<pad>', '<pad>', '<pad>', '<pad>', '<pad>', '<pad>', '<pad>', '<pad>', '<pad>', '<pad>']\n"
     ]
    },
    {
     "name": "stderr",
     "output_type": "stream",
     "text": [
      "/home/maximos/miniconda3/envs/torch/lib/python3.12/site-packages/music21/stream/base.py:3694: Music21DeprecationWarning: .flat is deprecated.  Call .flatten() instead\n",
      "  return self.iter().getElementsByClass(classFilterList)\n"
     ]
    }
   ],
   "source": [
    "print(data_files[0])\n",
    "x = tokenizer.encode( data_files[0] )\n",
    "print(x['input_tokens'])"
   ]
  }
 ],
 "metadata": {
  "kernelspec": {
   "display_name": "torch",
   "language": "python",
   "name": "python3"
  },
  "language_info": {
   "codemirror_mode": {
    "name": "ipython",
    "version": 3
   },
   "file_extension": ".py",
   "mimetype": "text/x-python",
   "name": "python",
   "nbconvert_exporter": "python",
   "pygments_lexer": "ipython3",
   "version": "3.12.2"
  }
 },
 "nbformat": 4,
 "nbformat_minor": 5
}
