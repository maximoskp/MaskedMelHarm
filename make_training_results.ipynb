{
 "cells": [
  {
   "cell_type": "code",
   "execution_count": 33,
   "id": "9e8f0d1a",
   "metadata": {},
   "outputs": [],
   "source": [
    "import pandas as pd"
   ]
  },
  {
   "cell_type": "code",
   "execution_count": 34,
   "id": "de2ae38a",
   "metadata": {},
   "outputs": [],
   "source": [
    "base_path = 'results/CA/'\n",
    "\n",
    "base2 = pd.read_csv( base_path + 'base2.csv' )\n",
    "random10 = pd.read_csv( base_path + 'random10.csv' )\n",
    "random20 = pd.read_csv( base_path + 'random20.csv' )\n",
    "\n",
    "base2_noPCs = pd.read_csv( base_path + 'noPCs/base2.csv' )\n",
    "random10_noPCs = pd.read_csv( base_path + 'noPCs/random10.csv' )\n",
    "random20_noPCs = pd.read_csv( base_path + 'noPCs/random20.csv' )\n",
    "\n",
    "base2_no_stage = pd.read_csv( base_path + 'no_stage/base2.csv' )\n",
    "random10_no_stage = pd.read_csv( base_path + 'no_stage/random10.csv' )\n",
    "random20_no_stage = pd.read_csv( base_path + 'no_stage/random20.csv' )"
   ]
  },
  {
   "cell_type": "code",
   "execution_count": 35,
   "id": "708bf49c",
   "metadata": {},
   "outputs": [
    {
     "data": {
      "text/html": [
       "<div>\n",
       "<style scoped>\n",
       "    .dataframe tbody tr th:only-of-type {\n",
       "        vertical-align: middle;\n",
       "    }\n",
       "\n",
       "    .dataframe tbody tr th {\n",
       "        vertical-align: top;\n",
       "    }\n",
       "\n",
       "    .dataframe thead th {\n",
       "        text-align: right;\n",
       "    }\n",
       "</style>\n",
       "<table border=\"1\" class=\"dataframe\">\n",
       "  <thead>\n",
       "    <tr style=\"text-align: right;\">\n",
       "      <th></th>\n",
       "      <th>epoch</th>\n",
       "      <th>step</th>\n",
       "      <th>train_loss</th>\n",
       "      <th>train_acc</th>\n",
       "      <th>train_ppl</th>\n",
       "      <th>train_te</th>\n",
       "      <th>val_loss</th>\n",
       "      <th>val_acc</th>\n",
       "      <th>val_ppl</th>\n",
       "      <th>val_te</th>\n",
       "      <th>sav_version</th>\n",
       "    </tr>\n",
       "  </thead>\n",
       "  <tbody>\n",
       "    <tr>\n",
       "      <th>0</th>\n",
       "      <td>0</td>\n",
       "      <td>734</td>\n",
       "      <td>2.476400</td>\n",
       "      <td>0.523600</td>\n",
       "      <td>43.790321</td>\n",
       "      <td>0.608185</td>\n",
       "      <td>1.057541</td>\n",
       "      <td>0.737515</td>\n",
       "      <td>2.963095</td>\n",
       "      <td>0.285876</td>\n",
       "      <td>1</td>\n",
       "    </tr>\n",
       "    <tr>\n",
       "      <th>1</th>\n",
       "      <td>1</td>\n",
       "      <td>1468</td>\n",
       "      <td>0.938333</td>\n",
       "      <td>0.751283</td>\n",
       "      <td>2.634843</td>\n",
       "      <td>0.264468</td>\n",
       "      <td>0.679570</td>\n",
       "      <td>0.778180</td>\n",
       "      <td>1.993551</td>\n",
       "      <td>0.159445</td>\n",
       "      <td>2</td>\n",
       "    </tr>\n",
       "    <tr>\n",
       "      <th>2</th>\n",
       "      <td>2</td>\n",
       "      <td>2202</td>\n",
       "      <td>0.684963</td>\n",
       "      <td>0.783650</td>\n",
       "      <td>2.010870</td>\n",
       "      <td>0.189963</td>\n",
       "      <td>0.511831</td>\n",
       "      <td>0.810969</td>\n",
       "      <td>1.677732</td>\n",
       "      <td>0.139400</td>\n",
       "      <td>3</td>\n",
       "    </tr>\n",
       "    <tr>\n",
       "      <th>3</th>\n",
       "      <td>3</td>\n",
       "      <td>2936</td>\n",
       "      <td>0.480357</td>\n",
       "      <td>0.845129</td>\n",
       "      <td>1.635405</td>\n",
       "      <td>0.160757</td>\n",
       "      <td>0.227551</td>\n",
       "      <td>0.934776</td>\n",
       "      <td>1.260274</td>\n",
       "      <td>0.095319</td>\n",
       "      <td>4</td>\n",
       "    </tr>\n",
       "    <tr>\n",
       "      <th>4</th>\n",
       "      <td>4</td>\n",
       "      <td>3670</td>\n",
       "      <td>0.195771</td>\n",
       "      <td>0.949838</td>\n",
       "      <td>1.221099</td>\n",
       "      <td>0.127689</td>\n",
       "      <td>0.126638</td>\n",
       "      <td>0.970494</td>\n",
       "      <td>1.137903</td>\n",
       "      <td>0.096580</td>\n",
       "      <td>5</td>\n",
       "    </tr>\n",
       "  </tbody>\n",
       "</table>\n",
       "</div>"
      ],
      "text/plain": [
       "   epoch  step  train_loss  train_acc  train_ppl  train_te  val_loss  \\\n",
       "0      0   734    2.476400   0.523600  43.790321  0.608185  1.057541   \n",
       "1      1  1468    0.938333   0.751283   2.634843  0.264468  0.679570   \n",
       "2      2  2202    0.684963   0.783650   2.010870  0.189963  0.511831   \n",
       "3      3  2936    0.480357   0.845129   1.635405  0.160757  0.227551   \n",
       "4      4  3670    0.195771   0.949838   1.221099  0.127689  0.126638   \n",
       "\n",
       "    val_acc   val_ppl    val_te  sav_version  \n",
       "0  0.737515  2.963095  0.285876            1  \n",
       "1  0.778180  1.993551  0.159445            2  \n",
       "2  0.810969  1.677732  0.139400            3  \n",
       "3  0.934776  1.260274  0.095319            4  \n",
       "4  0.970494  1.137903  0.096580            5  "
      ]
     },
     "execution_count": 35,
     "metadata": {},
     "output_type": "execute_result"
    }
   ],
   "source": [
    "base2.head()"
   ]
  },
  {
   "cell_type": "code",
   "execution_count": 36,
   "id": "d8c66a82",
   "metadata": {},
   "outputs": [],
   "source": [
    "results = pd.DataFrame(\n",
    "    columns=['MD', 'R10', 'R05', 'MD_NPC', 'R10_NPC', 'R05_NPC', 'MD_NS',  'R10_NS', 'R05_NS'],\n",
    "    index=['loss', 'acc']\n",
    ")"
   ]
  },
  {
   "cell_type": "code",
   "execution_count": null,
   "id": "a2a4a7b2",
   "metadata": {},
   "outputs": [
    {
     "ename": "KeyError",
     "evalue": "'loss'",
     "output_type": "error",
     "traceback": [
      "\u001b[0;31m---------------------------------------------------------------------------\u001b[0m",
      "\u001b[0;31mKeyError\u001b[0m                                  Traceback (most recent call last)",
      "File \u001b[0;32m~/miniconda3/envs/torch/lib/python3.12/site-packages/pandas/core/indexes/base.py:3805\u001b[0m, in \u001b[0;36mIndex.get_loc\u001b[0;34m(self, key)\u001b[0m\n\u001b[1;32m   3804\u001b[0m \u001b[38;5;28;01mtry\u001b[39;00m:\n\u001b[0;32m-> 3805\u001b[0m     \u001b[38;5;28;01mreturn\u001b[39;00m \u001b[38;5;28;43mself\u001b[39;49m\u001b[38;5;241;43m.\u001b[39;49m\u001b[43m_engine\u001b[49m\u001b[38;5;241;43m.\u001b[39;49m\u001b[43mget_loc\u001b[49m\u001b[43m(\u001b[49m\u001b[43mcasted_key\u001b[49m\u001b[43m)\u001b[49m\n\u001b[1;32m   3806\u001b[0m \u001b[38;5;28;01mexcept\u001b[39;00m \u001b[38;5;167;01mKeyError\u001b[39;00m \u001b[38;5;28;01mas\u001b[39;00m err:\n",
      "File \u001b[0;32mindex.pyx:167\u001b[0m, in \u001b[0;36mpandas._libs.index.IndexEngine.get_loc\u001b[0;34m()\u001b[0m\n",
      "File \u001b[0;32mindex.pyx:196\u001b[0m, in \u001b[0;36mpandas._libs.index.IndexEngine.get_loc\u001b[0;34m()\u001b[0m\n",
      "File \u001b[0;32mpandas/_libs/hashtable_class_helper.pxi:7081\u001b[0m, in \u001b[0;36mpandas._libs.hashtable.PyObjectHashTable.get_item\u001b[0;34m()\u001b[0m\n",
      "File \u001b[0;32mpandas/_libs/hashtable_class_helper.pxi:7089\u001b[0m, in \u001b[0;36mpandas._libs.hashtable.PyObjectHashTable.get_item\u001b[0;34m()\u001b[0m\n",
      "\u001b[0;31mKeyError\u001b[0m: 'loss'",
      "\nThe above exception was the direct cause of the following exception:\n",
      "\u001b[0;31mKeyError\u001b[0m                                  Traceback (most recent call last)",
      "Cell \u001b[0;32mIn[43], line 3\u001b[0m\n\u001b[1;32m      1\u001b[0m md_loss, i \u001b[38;5;241m=\u001b[39m base2[\u001b[38;5;124m'\u001b[39m\u001b[38;5;124mval_loss\u001b[39m\u001b[38;5;124m'\u001b[39m]\u001b[38;5;241m.\u001b[39mmin(), base2[\u001b[38;5;124m'\u001b[39m\u001b[38;5;124mval_loss\u001b[39m\u001b[38;5;124m'\u001b[39m]\u001b[38;5;241m.\u001b[39margmin()\n\u001b[1;32m      2\u001b[0m md_acc \u001b[38;5;241m=\u001b[39m base2[\u001b[38;5;124m'\u001b[39m\u001b[38;5;124mval_acc\u001b[39m\u001b[38;5;124m'\u001b[39m][i]\n\u001b[0;32m----> 3\u001b[0m \u001b[43mresults\u001b[49m\u001b[43m[\u001b[49m\u001b[38;5;124;43m'\u001b[39;49m\u001b[38;5;124;43mloss\u001b[39;49m\u001b[38;5;124;43m'\u001b[39;49m\u001b[43m]\u001b[49m[\u001b[38;5;124m'\u001b[39m\u001b[38;5;124mMD\u001b[39m\u001b[38;5;124m'\u001b[39m], results[\u001b[38;5;124m'\u001b[39m\u001b[38;5;124macc\u001b[39m\u001b[38;5;124m'\u001b[39m, \u001b[38;5;124m'\u001b[39m\u001b[38;5;124mMD\u001b[39m\u001b[38;5;124m'\u001b[39m] \u001b[38;5;241m=\u001b[39m md_loss, md_acc\n\u001b[1;32m      5\u001b[0m r10_loss, i \u001b[38;5;241m=\u001b[39m random10[\u001b[38;5;124m'\u001b[39m\u001b[38;5;124mval_loss\u001b[39m\u001b[38;5;124m'\u001b[39m]\u001b[38;5;241m.\u001b[39mmin(), random10[\u001b[38;5;124m'\u001b[39m\u001b[38;5;124mval_loss\u001b[39m\u001b[38;5;124m'\u001b[39m]\u001b[38;5;241m.\u001b[39margmin()\n\u001b[1;32m      6\u001b[0m r10_acc \u001b[38;5;241m=\u001b[39m random10[\u001b[38;5;124m'\u001b[39m\u001b[38;5;124mval_acc\u001b[39m\u001b[38;5;124m'\u001b[39m][i]\n",
      "File \u001b[0;32m~/miniconda3/envs/torch/lib/python3.12/site-packages/pandas/core/frame.py:4102\u001b[0m, in \u001b[0;36mDataFrame.__getitem__\u001b[0;34m(self, key)\u001b[0m\n\u001b[1;32m   4100\u001b[0m \u001b[38;5;28;01mif\u001b[39;00m \u001b[38;5;28mself\u001b[39m\u001b[38;5;241m.\u001b[39mcolumns\u001b[38;5;241m.\u001b[39mnlevels \u001b[38;5;241m>\u001b[39m \u001b[38;5;241m1\u001b[39m:\n\u001b[1;32m   4101\u001b[0m     \u001b[38;5;28;01mreturn\u001b[39;00m \u001b[38;5;28mself\u001b[39m\u001b[38;5;241m.\u001b[39m_getitem_multilevel(key)\n\u001b[0;32m-> 4102\u001b[0m indexer \u001b[38;5;241m=\u001b[39m \u001b[38;5;28;43mself\u001b[39;49m\u001b[38;5;241;43m.\u001b[39;49m\u001b[43mcolumns\u001b[49m\u001b[38;5;241;43m.\u001b[39;49m\u001b[43mget_loc\u001b[49m\u001b[43m(\u001b[49m\u001b[43mkey\u001b[49m\u001b[43m)\u001b[49m\n\u001b[1;32m   4103\u001b[0m \u001b[38;5;28;01mif\u001b[39;00m is_integer(indexer):\n\u001b[1;32m   4104\u001b[0m     indexer \u001b[38;5;241m=\u001b[39m [indexer]\n",
      "File \u001b[0;32m~/miniconda3/envs/torch/lib/python3.12/site-packages/pandas/core/indexes/base.py:3812\u001b[0m, in \u001b[0;36mIndex.get_loc\u001b[0;34m(self, key)\u001b[0m\n\u001b[1;32m   3807\u001b[0m     \u001b[38;5;28;01mif\u001b[39;00m \u001b[38;5;28misinstance\u001b[39m(casted_key, \u001b[38;5;28mslice\u001b[39m) \u001b[38;5;129;01mor\u001b[39;00m (\n\u001b[1;32m   3808\u001b[0m         \u001b[38;5;28misinstance\u001b[39m(casted_key, abc\u001b[38;5;241m.\u001b[39mIterable)\n\u001b[1;32m   3809\u001b[0m         \u001b[38;5;129;01mand\u001b[39;00m \u001b[38;5;28many\u001b[39m(\u001b[38;5;28misinstance\u001b[39m(x, \u001b[38;5;28mslice\u001b[39m) \u001b[38;5;28;01mfor\u001b[39;00m x \u001b[38;5;129;01min\u001b[39;00m casted_key)\n\u001b[1;32m   3810\u001b[0m     ):\n\u001b[1;32m   3811\u001b[0m         \u001b[38;5;28;01mraise\u001b[39;00m InvalidIndexError(key)\n\u001b[0;32m-> 3812\u001b[0m     \u001b[38;5;28;01mraise\u001b[39;00m \u001b[38;5;167;01mKeyError\u001b[39;00m(key) \u001b[38;5;28;01mfrom\u001b[39;00m \u001b[38;5;21;01merr\u001b[39;00m\n\u001b[1;32m   3813\u001b[0m \u001b[38;5;28;01mexcept\u001b[39;00m \u001b[38;5;167;01mTypeError\u001b[39;00m:\n\u001b[1;32m   3814\u001b[0m     \u001b[38;5;66;03m# If we have a listlike key, _check_indexing_error will raise\u001b[39;00m\n\u001b[1;32m   3815\u001b[0m     \u001b[38;5;66;03m#  InvalidIndexError. Otherwise we fall through and re-raise\u001b[39;00m\n\u001b[1;32m   3816\u001b[0m     \u001b[38;5;66;03m#  the TypeError.\u001b[39;00m\n\u001b[1;32m   3817\u001b[0m     \u001b[38;5;28mself\u001b[39m\u001b[38;5;241m.\u001b[39m_check_indexing_error(key)\n",
      "\u001b[0;31mKeyError\u001b[0m: 'loss'"
     ]
    }
   ],
   "source": [
    "md_loss, i = base2['val_loss'].min(), base2['val_loss'].argmin()\n",
    "md_acc = base2['val_acc'][i]\n",
    "results.loc['loss', 'MD'], results.loc['acc', 'MD'] = md_loss, md_acc\n",
    "\n",
    "r10_loss, i = random10['val_loss'].min(), random10['val_loss'].argmin()\n",
    "r10_acc = random10['val_acc'][i]\n",
    "results.loc['loss', 'R10'], results.loc['acc', 'R10'] = r10_loss, r10_acc\n",
    "\n",
    "r05_loss, i = random20['val_loss'].min(), random20['val_loss'].argmin()\n",
    "r05_acc = random20['val_acc'][i]\n",
    "results.loc['loss', 'R05'], results.loc['acc', 'R05'] = r05_loss, r05_acc"
   ]
  },
  {
   "cell_type": "code",
   "execution_count": null,
   "id": "f4ca70ba",
   "metadata": {},
   "outputs": [],
   "source": [
    "md_loss, i = base2_noPCs['val_loss'].min(), base2_noPCs['val_loss'].argmin()\n",
    "md_acc = base2_noPCs['val_acc'][i]\n",
    "results.loc['loss', 'MD_NPC'], results.loc['acc', 'MD_NPC'] = md_loss, md_acc\n",
    "\n",
    "r10_loss, i = random10_noPCs['val_loss'].min(), random10_noPCs['val_loss'].argmin()\n",
    "r10_acc = random10_noPCs['val_acc'][i]\n",
    "results.loc['loss', 'R10_NPC'], results.loc['acc', 'R10_NPC'] = r10_loss, r10_acc\n",
    "\n",
    "r05_loss, i = random20_noPCs['val_loss'].min(), random20_noPCs['val_loss'].argmin()\n",
    "r05_acc = random20_noPCs['val_acc'][i]\n",
    "results.loc['loss', 'R05_NPC'], results.loc['acc', 'R05_NPC'] = r05_loss, r05_acc"
   ]
  },
  {
   "cell_type": "code",
   "execution_count": null,
   "id": "908a9f92",
   "metadata": {},
   "outputs": [],
   "source": [
    "md_loss, i = base2_no_stage['val_loss'].min(), base2_no_stage['val_loss'].argmin()\n",
    "md_acc = base2_no_stage['val_acc'][i]\n",
    "results.loc['loss', 'MD_NS'], results.loc['acc', 'MD_NS'] = md_loss, md_acc\n",
    "\n",
    "r10_loss, i = random10_no_stage['val_loss'].min(), random10_no_stage['val_loss'].argmin()\n",
    "r10_acc = random10_no_stage['val_acc'][i]\n",
    "results.loc['loss', 'R10_NS'], results.loc['acc', 'R10_NS'] = r10_loss, r10_acc\n",
    "\n",
    "r05_loss, i = random20_no_stage['val_loss'].min(), random20_no_stage['val_loss'].argmin()\n",
    "r05_acc = random20_no_stage['val_acc'][i]\n",
    "results.loc['loss', 'R05_NS'], results.loc['acc', 'R05_NS'] = r05_loss, r05_acc"
   ]
  },
  {
   "cell_type": "code",
   "execution_count": 40,
   "id": "7727245e",
   "metadata": {},
   "outputs": [
    {
     "name": "stdout",
     "output_type": "stream",
     "text": [
      "       MD  R10  R05 MD_NPC R10_NPC R05_NPC MD_NS R10_NS R05_NS  (loss, MD)  \\\n",
      "loss  NaN  NaN  NaN    NaN     NaN     NaN   NaN    NaN    NaN    0.062481   \n",
      "acc   NaN  NaN  NaN    NaN     NaN     NaN   NaN    NaN    NaN    0.062481   \n",
      "\n",
      "      ...  (loss, R10_NPC)  (acc, R10_NPC)  (loss, R05_NPC)  (acc, R05_NPC)  \\\n",
      "loss  ...         0.049671        0.987273         0.049884        0.987006   \n",
      "acc   ...         0.049671        0.987273         0.049884        0.987006   \n",
      "\n",
      "      (loss, MD_NS)  (acc, MD_NS)  (loss, R10_NS)  (acc, R10_NS)  \\\n",
      "loss        0.06688      0.984622        0.048604       0.987111   \n",
      "acc         0.06688      0.984622        0.048604       0.987111   \n",
      "\n",
      "      (loss, R05_NS)  (acc, R05_NS)  \n",
      "loss        0.043692       0.988284  \n",
      "acc         0.043692       0.988284  \n",
      "\n",
      "[2 rows x 27 columns]\n"
     ]
    }
   ],
   "source": [
    "print(results)"
   ]
  }
 ],
 "metadata": {
  "kernelspec": {
   "display_name": "torch",
   "language": "python",
   "name": "python3"
  },
  "language_info": {
   "codemirror_mode": {
    "name": "ipython",
    "version": 3
   },
   "file_extension": ".py",
   "mimetype": "text/x-python",
   "name": "python",
   "nbconvert_exporter": "python",
   "pygments_lexer": "ipython3",
   "version": "3.12.2"
  }
 },
 "nbformat": 4,
 "nbformat_minor": 5
}
