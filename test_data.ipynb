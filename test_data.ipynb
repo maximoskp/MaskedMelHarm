{
 "cells": [
  {
   "cell_type": "code",
   "execution_count": 20,
   "id": "a177ec9c",
   "metadata": {},
   "outputs": [],
   "source": [
    "from music21 import converter, note, chord, harmony, meter, stream\n",
    "import numpy as np\n",
    "\n",
    "def extract_lead_sheet_info(xml_path, quantization='16th', fixed_length=None):\n",
    "    # Load the score and flatten\n",
    "    score = converter.parse(xml_path)\n",
    "    melody_part = score.parts[0].flat\n",
    "\n",
    "    # Define 16th note length\n",
    "    ql_per_16th = 0.25 / 4\n",
    "\n",
    "    # Get pitch range: MIDI 21 (A0) to 108 (C8) -> 88 notes\n",
    "    pitch_range = list(range(21, 109))\n",
    "    n_pitch = len(pitch_range)\n",
    "\n",
    "    # Step 1: Find first chord symbol and bar to trim before it\n",
    "    first_chord_offset = None\n",
    "    for el in melody_part.recurse().getElementsByClass(harmony.ChordSymbol):\n",
    "        first_chord_offset = el.offset\n",
    "        break\n",
    "\n",
    "    measure_start_offset = 0.0\n",
    "    if first_chord_offset is not None:\n",
    "        for meas in melody_part.getElementsByClass(stream.Measure):\n",
    "            if meas.offset <= first_chord_offset < meas.offset + meas.duration.quarterLength:\n",
    "                measure_start_offset = meas.offset\n",
    "                break\n",
    "\n",
    "    skip_steps = int(np.round(measure_start_offset / ql_per_16th))\n",
    "\n",
    "    # Determine total length in 16th notes\n",
    "    total_duration_q = melody_part.highestTime\n",
    "    total_steps = int(np.ceil(total_duration_q / ql_per_16th))\n",
    "\n",
    "    # Allocate raw matrices (we will trim/pad later)\n",
    "    raw_pianoroll = np.zeros((total_steps, n_pitch), dtype=np.uint8)\n",
    "    raw_chords = [None] * total_steps\n",
    "\n",
    "    # Fill pianoroll\n",
    "    for el in melody_part.notesAndRests:\n",
    "        start = int(np.round(el.offset / ql_per_16th))\n",
    "        dur_steps = int(np.round(el.quarterLength / ql_per_16th))\n",
    "\n",
    "        if isinstance(el, note.Note):\n",
    "            midi = el.pitch.midi\n",
    "            if midi in pitch_range:\n",
    "                idx = pitch_range.index(midi)\n",
    "                raw_pianoroll[start:start+dur_steps, idx] = 1\n",
    "\n",
    "        elif isinstance(el, chord.Chord):  # Just in case\n",
    "            for pitch in el.pitches:\n",
    "                midi = pitch.midi\n",
    "                if midi in pitch_range:\n",
    "                    idx = pitch_range.index(midi)\n",
    "                    raw_pianoroll[start:start+dur_steps, idx] = 1\n",
    "\n",
    "    # Fill chord grid\n",
    "    for el in melody_part.recurse().getElementsByClass(harmony.ChordSymbol):\n",
    "        start = int(np.round(el.offset / ql_per_16th))\n",
    "        if 0 <= start < len(raw_chords):\n",
    "            raw_chords[start] = el.figure\n",
    "\n",
    "    # Propagate chord forward\n",
    "    for i in range(1, len(raw_chords)):\n",
    "        if raw_chords[i] is None:\n",
    "            raw_chords[i] = raw_chords[i-1]\n",
    "\n",
    "    # Fill missing with <pad> or <nc>\n",
    "    for i in range(len(raw_chords)):\n",
    "        if raw_chords[i] is None:\n",
    "            raw_chords[i] = \"<nc>\"  # Or use \"<pad>\" if preferred\n",
    "\n",
    "    # Trim to start at first chord bar\n",
    "    raw_pianoroll = raw_pianoroll[skip_steps:]\n",
    "    raw_chords = raw_chords[skip_steps:]\n",
    "\n",
    "    # Add pitch class profile (top 12 dims)\n",
    "    n_steps = len(raw_pianoroll)\n",
    "    pitch_classes = np.zeros((n_steps, 12), dtype=np.uint8)\n",
    "    for i in range(n_steps):\n",
    "        pitch_indices = np.where(raw_pianoroll[i] > 0)[0]\n",
    "        for idx in pitch_indices:\n",
    "            midi = pitch_range[idx]\n",
    "            pitch_classes[i, midi % 12] = 1\n",
    "    full_pianoroll = np.hstack([pitch_classes, raw_pianoroll])  # Shape: (T, 12 + 88)\n",
    "\n",
    "    # Apply fixed length (pad or trim)\n",
    "    if fixed_length is not None:\n",
    "        if n_steps > fixed_length:\n",
    "            full_pianoroll = full_pianoroll[:fixed_length]\n",
    "            raw_chords = raw_chords[:fixed_length]\n",
    "        elif n_steps < fixed_length:\n",
    "            pad_len = fixed_length - n_steps\n",
    "            pad_pr = np.zeros((pad_len, full_pianoroll.shape[1]), dtype=np.uint8)\n",
    "            pad_ch = [\"<pad>\"] * pad_len\n",
    "            full_pianoroll = np.vstack([full_pianoroll, pad_pr])\n",
    "            raw_chords += pad_ch\n",
    "\n",
    "    return full_pianoroll, raw_chords\n"
   ]
  },
  {
   "cell_type": "code",
   "execution_count": 22,
   "id": "59a40ee0",
   "metadata": {},
   "outputs": [
    {
     "name": "stdout",
     "output_type": "stream",
     "text": [
      "/media/maindisk/maximos/data/hooktheory_train/h/haim/dont-save-me/chorus.xml\n",
      "Pianoroll shape: (256, 100)\n",
      "Chord seq length: 256\n",
      "Chord at step 0: Em\n"
     ]
    }
   ],
   "source": [
    "import os\n",
    "root_dir = '/media/maindisk/maximos/data/hooktheory_train/'\n",
    "\n",
    "for dirpath, _, filenames in os.walk(root_dir):\n",
    "    for file in filenames:\n",
    "        if file.endswith('.xml') or file.endswith('.mxl') or file.endswith('.musicxml'):\n",
    "            full_path = os.path.join(dirpath, file)\n",
    "            break\n",
    "print(full_path)\n",
    "\n",
    "pianoroll, chord_seq = extract_lead_sheet_info(full_path, fixed_length=256)\n",
    "\n",
    "print(\"Pianoroll shape:\", pianoroll.shape)  # (256, 100) -> 12 pitch class + 88 piano roll\n",
    "print(\"Chord seq length:\", len(chord_seq))  # Should match T\n",
    "print(\"Chord at step 0:\", chord_seq[0])\n"
   ]
  },
  {
   "cell_type": "code",
   "execution_count": 15,
   "id": "a7d290ad",
   "metadata": {},
   "outputs": [
    {
     "name": "stdout",
     "output_type": "stream",
     "text": [
      "512\n",
      "['Em', 'Em', 'Em', 'Em', 'Em', 'Em', 'Em', 'Em', 'Em', 'Em', 'Em', 'Em', 'Em', 'Em', 'Em', 'Em', 'Em', 'Em', 'Em', 'Em', 'Em', 'Em', 'Em', 'Em', 'Em', 'Em', 'Em', 'Em', 'Em', 'Em', 'Em', 'Em', 'Em', 'Em', 'Em', 'Em', 'Em', 'Em', 'Em', 'Em', 'Em', 'Em', 'Em', 'Em', 'Em', 'Em', 'Em', 'Em', 'Em', 'Em', 'Em', 'Em', 'Em', 'Em', 'Em', 'Em', 'Em', 'Em', 'Em', 'Em', 'Em', 'Em', 'Em', 'Em', 'F', 'F', 'F', 'F', 'F', 'F', 'F', 'F', 'F', 'F', 'F', 'F', 'F', 'F', 'F', 'F', 'F', 'F', 'F', 'F', 'F', 'F', 'F', 'F', 'F', 'F', 'F', 'F', 'F', 'F', 'F', 'F', 'F', 'F', 'F', 'F', 'F', 'F', 'F', 'F', 'F', 'F', 'F', 'F', 'F', 'F', 'F', 'F', 'F', 'F', 'F', 'F', 'F', 'F', 'F', 'F', 'F', 'F', 'F', 'F', 'F', 'F', 'F', 'F', 'Am', 'Am', 'Am', 'Am', 'Am', 'Am', 'Am', 'Am', 'Am', 'Am', 'Am', 'Am', 'Am', 'Am', 'Am', 'Am', 'Am', 'Am', 'Am', 'Am', 'Am', 'Am', 'Am', 'Am', 'Am', 'Am', 'Am', 'Am', 'Am', 'Am', 'Am', 'Am', 'Am', 'Am', 'Am', 'Am', 'Am', 'Am', 'Am', 'Am', 'Am', 'Am', 'Am', 'Am', 'Am', 'Am', 'Am', 'Am', 'Am', 'Am', 'Am', 'Am', 'Am', 'Am', 'Am', 'Am', 'Am', 'Am', 'Am', 'Am', 'Am', 'Am', 'Am', 'Am', 'G', 'G', 'G', 'G', 'G', 'G', 'G', 'G', 'G', 'G', 'G', 'G', 'G', 'G', 'G', 'G', 'G', 'G', 'G', 'G', 'G', 'G', 'G', 'G', 'G', 'G', 'G', 'G', 'G', 'G', 'G', 'G', 'G', 'G', 'G', 'G', 'G', 'G', 'G', 'G', 'G', 'G', 'G', 'G', 'G', 'G', 'G', 'G', 'G', 'G', 'G', 'G', 'G', 'G', 'G', 'G', 'G', 'G', 'G', 'G', 'G', 'G', 'G', 'G', 'Em', 'Em', 'Em', 'Em', 'Em', 'Em', 'Em', 'Em', 'Em', 'Em', 'Em', 'Em', 'Em', 'Em', 'Em', 'Em', 'Em', 'Em', 'Em', 'Em', 'Em', 'Em', 'Em', 'Em', 'Em', 'Em', 'Em', 'Em', 'Em', 'Em', 'Em', 'Em', 'Em', 'Em', 'Em', 'Em', 'Em', 'Em', 'Em', 'Em', 'Em', 'Em', 'Em', 'Em', 'Em', 'Em', 'Em', 'Em', 'Em', 'Em', 'Em', 'Em', 'Em', 'Em', 'Em', 'Em', 'Em', 'Em', 'Em', 'Em', 'Em', 'Em', 'Em', 'Em', 'F', 'F', 'F', 'F', 'F', 'F', 'F', 'F', 'F', 'F', 'F', 'F', 'F', 'F', 'F', 'F', 'F', 'F', 'F', 'F', 'F', 'F', 'F', 'F', 'F', 'F', 'F', 'F', 'F', 'F', 'F', 'F', 'F', 'F', 'F', 'F', 'F', 'F', 'F', 'F', 'F', 'F', 'F', 'F', 'F', 'F', 'F', 'F', 'F', 'F', 'F', 'F', 'F', 'F', 'F', 'F', 'F', 'F', 'F', 'F', 'F', 'F', 'F', 'F', 'Am', 'Am', 'Am', 'Am', 'Am', 'Am', 'Am', 'Am', 'Am', 'Am', 'Am', 'Am', 'Am', 'Am', 'Am', 'Am', 'Am', 'Am', 'Am', 'Am', 'Am', 'Am', 'Am', 'Am', 'Am', 'Am', 'Am', 'Am', 'Am', 'Am', 'Am', 'Am', 'Am', 'Am', 'Am', 'Am', 'Am', 'Am', 'Am', 'Am', 'Am', 'Am', 'Am', 'Am', 'Am', 'Am', 'Am', 'Am', 'Am', 'Am', 'Am', 'Am', 'Am', 'Am', 'Am', 'Am', 'Am', 'Am', 'Am', 'Am', 'Am', 'Am', 'Am', 'Am', 'G', 'G', 'G', 'G', 'G', 'G', 'G', 'G', 'G', 'G', 'G', 'G', 'G', 'G', 'G', 'G', 'G', 'G', 'G', 'G', 'G', 'G', 'G', 'G', 'G', 'G', 'G', 'G', 'G', 'G', 'G', 'G', 'G', 'G', 'G', 'G', 'G', 'G', 'G', 'G', 'G', 'G', 'G', 'G', 'G', 'G', 'G', 'G', 'G', 'G', 'G', 'G', 'G', 'G', 'G', 'G', 'G', 'G', 'G', 'G', 'G', 'G', 'G', 'G']\n"
     ]
    }
   ],
   "source": [
    "print(len(chord_seq))\n",
    "print(chord_seq)"
   ]
  }
 ],
 "metadata": {
  "kernelspec": {
   "display_name": "torch",
   "language": "python",
   "name": "python3"
  },
  "language_info": {
   "codemirror_mode": {
    "name": "ipython",
    "version": 3
   },
   "file_extension": ".py",
   "mimetype": "text/x-python",
   "name": "python",
   "nbconvert_exporter": "python",
   "pygments_lexer": "ipython3",
   "version": "3.12.2"
  }
 },
 "nbformat": 4,
 "nbformat_minor": 5
}
