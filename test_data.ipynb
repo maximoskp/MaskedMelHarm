{
 "cells": [
  {
   "cell_type": "code",
   "execution_count": 1,
   "id": "a177ec9c",
   "metadata": {},
   "outputs": [
    {
     "name": "stderr",
     "output_type": "stream",
     "text": [
      "/home/maximos/miniconda3/envs/torch/lib/python3.12/site-packages/tqdm/auto.py:21: TqdmWarning: IProgress not found. Please update jupyter and ipywidgets. See https://ipywidgets.readthedocs.io/en/stable/user_install.html\n",
      "  from .autonotebook import tqdm as notebook_tqdm\n"
     ]
    }
   ],
   "source": [
    "from music21 import converter, note, chord, harmony, meter, stream\n",
    "import numpy as np\n",
    "from data_utils import extract_lead_sheet_info"
   ]
  },
  {
   "cell_type": "code",
   "execution_count": 2,
   "id": "59a40ee0",
   "metadata": {},
   "outputs": [
    {
     "name": "stdout",
     "output_type": "stream",
     "text": [
      "/media/maindisk/maximos/data/hooktheory_train/h/haim/dont-save-me/chorus.xml\n",
      "Pianoroll shape: (256, 100)\n",
      "Chord seq length: 256\n",
      "Chord at step 0: Em\n"
     ]
    },
    {
     "name": "stderr",
     "output_type": "stream",
     "text": [
      "/home/maximos/miniconda3/envs/torch/lib/python3.12/site-packages/music21/stream/base.py:3694: Music21DeprecationWarning: .flat is deprecated.  Call .flatten() instead\n",
      "  return self.iter().getElementsByClass(classFilterList)\n"
     ]
    }
   ],
   "source": [
    "import os\n",
    "root_dir = '/media/maindisk/maximos/data/hooktheory_train/'\n",
    "\n",
    "for dirpath, _, filenames in os.walk(root_dir):\n",
    "    for file in filenames:\n",
    "        if file.endswith('.xml') or file.endswith('.mxl') or file.endswith('.musicxml'):\n",
    "            full_path = os.path.join(dirpath, file)\n",
    "            break\n",
    "print(full_path)\n",
    "\n",
    "pianoroll, chord_seq = extract_lead_sheet_info(full_path, fixed_length=256)\n",
    "\n",
    "print(\"Pianoroll shape:\", pianoroll.shape)  # (256, 100) -> 12 pitch class + 88 piano roll\n",
    "print(\"Chord seq length:\", len(chord_seq))  # Should match T\n",
    "print(\"Chord at step 0:\", chord_seq[0])\n"
   ]
  },
  {
   "cell_type": "code",
   "execution_count": 3,
   "id": "a7d290ad",
   "metadata": {},
   "outputs": [
    {
     "name": "stdout",
     "output_type": "stream",
     "text": [
      "256\n",
      "['Em', 'Em', 'Em', 'Em', 'Em', 'Em', 'Em', 'Em', 'Em', 'Em', 'Em', 'Em', 'Em', 'Em', 'Em', 'Em', 'Em', 'Em', 'Em', 'Em', 'Em', 'Em', 'Em', 'Em', 'Em', 'Em', 'Em', 'Em', 'Em', 'Em', 'Em', 'Em', 'Em', 'Em', 'Em', 'Em', 'Em', 'Em', 'Em', 'Em', 'Em', 'Em', 'Em', 'Em', 'Em', 'Em', 'Em', 'Em', 'Em', 'Em', 'Em', 'Em', 'Em', 'Em', 'Em', 'Em', 'Em', 'Em', 'Em', 'Em', 'Em', 'Em', 'Em', 'Em', 'F', 'F', 'F', 'F', 'F', 'F', 'F', 'F', 'F', 'F', 'F', 'F', 'F', 'F', 'F', 'F', 'F', 'F', 'F', 'F', 'F', 'F', 'F', 'F', 'F', 'F', 'F', 'F', 'F', 'F', 'F', 'F', 'F', 'F', 'F', 'F', 'F', 'F', 'F', 'F', 'F', 'F', 'F', 'F', 'F', 'F', 'F', 'F', 'F', 'F', 'F', 'F', 'F', 'F', 'F', 'F', 'F', 'F', 'F', 'F', 'F', 'F', 'F', 'F', 'Am', 'Am', 'Am', 'Am', 'Am', 'Am', 'Am', 'Am', 'Am', 'Am', 'Am', 'Am', 'Am', 'Am', 'Am', 'Am', 'Am', 'Am', 'Am', 'Am', 'Am', 'Am', 'Am', 'Am', 'Am', 'Am', 'Am', 'Am', 'Am', 'Am', 'Am', 'Am', 'Am', 'Am', 'Am', 'Am', 'Am', 'Am', 'Am', 'Am', 'Am', 'Am', 'Am', 'Am', 'Am', 'Am', 'Am', 'Am', 'Am', 'Am', 'Am', 'Am', 'Am', 'Am', 'Am', 'Am', 'Am', 'Am', 'Am', 'Am', 'Am', 'Am', 'Am', 'Am', 'G', 'G', 'G', 'G', 'G', 'G', 'G', 'G', 'G', 'G', 'G', 'G', 'G', 'G', 'G', 'G', 'G', 'G', 'G', 'G', 'G', 'G', 'G', 'G', 'G', 'G', 'G', 'G', 'G', 'G', 'G', 'G', 'G', 'G', 'G', 'G', 'G', 'G', 'G', 'G', 'G', 'G', 'G', 'G', 'G', 'G', 'G', 'G', 'G', 'G', 'G', 'G', 'G', 'G', 'G', 'G', 'G', 'G', 'G', 'G', 'G', 'G', 'G', 'G']\n"
     ]
    }
   ],
   "source": [
    "print(len(chord_seq))\n",
    "print(chord_seq)"
   ]
  },
  {
   "cell_type": "code",
   "execution_count": 4,
   "id": "434bdb68",
   "metadata": {},
   "outputs": [],
   "source": [
    "from GridMLM_tokenizers import CSGridMLMTokenizer"
   ]
  },
  {
   "cell_type": "code",
   "execution_count": 5,
   "id": "4be3504a",
   "metadata": {},
   "outputs": [],
   "source": [
    "tokenizer = CSGridMLMTokenizer(fixed_length=256)"
   ]
  },
  {
   "cell_type": "code",
   "execution_count": 6,
   "id": "692fe807",
   "metadata": {},
   "outputs": [],
   "source": [
    "x = tokenizer.encode(full_path)"
   ]
  },
  {
   "cell_type": "code",
   "execution_count": 7,
   "id": "09e83d7a",
   "metadata": {},
   "outputs": [
    {
     "name": "stdout",
     "output_type": "stream",
     "text": [
      "[123, 123, 123, 123, 123, 123, 123, 123, 123, 123, 123, 123, 123, 123, 123, 123, 151, 151, 151, 151, 151, 151, 151, 151, 151, 151, 151, 151, 151, 151, 151, 151, 268, 268, 268, 268, 268, 268, 268, 268, 268, 268, 268, 268, 268, 268, 268, 268, 209, 209, 209, 209, 209, 209, 209, 209, 209, 209, 209, 209, 209, 209, 209, 209, 123, 123, 123, 123, 123, 123, 123, 123, 123, 123, 123, 123, 123, 123, 123, 123, 151, 151, 151, 151, 151, 151, 151, 151, 151, 151, 151, 151, 151, 151, 151, 151, 268, 268, 268, 268, 268, 268, 268, 268, 268, 268, 268, 268, 268, 268, 268, 268, 209, 209, 209, 209, 209, 209, 209, 209, 209, 209, 209, 209, 209, 209, 209, 209, 1, 1, 1, 1, 1, 1, 1, 1, 1, 1, 1, 1, 1, 1, 1, 1, 1, 1, 1, 1, 1, 1, 1, 1, 1, 1, 1, 1, 1, 1, 1, 1, 1, 1, 1, 1, 1, 1, 1, 1, 1, 1, 1, 1, 1, 1, 1, 1, 1, 1, 1, 1, 1, 1, 1, 1, 1, 1, 1, 1, 1, 1, 1, 1, 1, 1, 1, 1, 1, 1, 1, 1, 1, 1, 1, 1, 1, 1, 1, 1, 1, 1, 1, 1, 1, 1, 1, 1, 1, 1, 1, 1, 1, 1, 1, 1, 1, 1, 1, 1, 1, 1, 1, 1, 1, 1, 1, 1, 1, 1, 1, 1, 1, 1, 1, 1, 1, 1, 1, 1, 1, 1, 1, 1, 1, 1, 1, 1]\n",
      "['E:min', 'E:min', 'E:min', 'E:min', 'E:min', 'E:min', 'E:min', 'E:min', 'E:min', 'E:min', 'E:min', 'E:min', 'E:min', 'E:min', 'E:min', 'E:min', 'F:maj', 'F:maj', 'F:maj', 'F:maj', 'F:maj', 'F:maj', 'F:maj', 'F:maj', 'F:maj', 'F:maj', 'F:maj', 'F:maj', 'F:maj', 'F:maj', 'F:maj', 'F:maj', 'A:min', 'A:min', 'A:min', 'A:min', 'A:min', 'A:min', 'A:min', 'A:min', 'A:min', 'A:min', 'A:min', 'A:min', 'A:min', 'A:min', 'A:min', 'A:min', 'G:maj', 'G:maj', 'G:maj', 'G:maj', 'G:maj', 'G:maj', 'G:maj', 'G:maj', 'G:maj', 'G:maj', 'G:maj', 'G:maj', 'G:maj', 'G:maj', 'G:maj', 'G:maj', 'E:min', 'E:min', 'E:min', 'E:min', 'E:min', 'E:min', 'E:min', 'E:min', 'E:min', 'E:min', 'E:min', 'E:min', 'E:min', 'E:min', 'E:min', 'E:min', 'F:maj', 'F:maj', 'F:maj', 'F:maj', 'F:maj', 'F:maj', 'F:maj', 'F:maj', 'F:maj', 'F:maj', 'F:maj', 'F:maj', 'F:maj', 'F:maj', 'F:maj', 'F:maj', 'A:min', 'A:min', 'A:min', 'A:min', 'A:min', 'A:min', 'A:min', 'A:min', 'A:min', 'A:min', 'A:min', 'A:min', 'A:min', 'A:min', 'A:min', 'A:min', 'G:maj', 'G:maj', 'G:maj', 'G:maj', 'G:maj', 'G:maj', 'G:maj', 'G:maj', 'G:maj', 'G:maj', 'G:maj', 'G:maj', 'G:maj', 'G:maj', 'G:maj', 'G:maj', '<pad>', '<pad>', '<pad>', '<pad>', '<pad>', '<pad>', '<pad>', '<pad>', '<pad>', '<pad>', '<pad>', '<pad>', '<pad>', '<pad>', '<pad>', '<pad>', '<pad>', '<pad>', '<pad>', '<pad>', '<pad>', '<pad>', '<pad>', '<pad>', '<pad>', '<pad>', '<pad>', '<pad>', '<pad>', '<pad>', '<pad>', '<pad>', '<pad>', '<pad>', '<pad>', '<pad>', '<pad>', '<pad>', '<pad>', '<pad>', '<pad>', '<pad>', '<pad>', '<pad>', '<pad>', '<pad>', '<pad>', '<pad>', '<pad>', '<pad>', '<pad>', '<pad>', '<pad>', '<pad>', '<pad>', '<pad>', '<pad>', '<pad>', '<pad>', '<pad>', '<pad>', '<pad>', '<pad>', '<pad>', '<pad>', '<pad>', '<pad>', '<pad>', '<pad>', '<pad>', '<pad>', '<pad>', '<pad>', '<pad>', '<pad>', '<pad>', '<pad>', '<pad>', '<pad>', '<pad>', '<pad>', '<pad>', '<pad>', '<pad>', '<pad>', '<pad>', '<pad>', '<pad>', '<pad>', '<pad>', '<pad>', '<pad>', '<pad>', '<pad>', '<pad>', '<pad>', '<pad>', '<pad>', '<pad>', '<pad>', '<pad>', '<pad>', '<pad>', '<pad>', '<pad>', '<pad>', '<pad>', '<pad>', '<pad>', '<pad>', '<pad>', '<pad>', '<pad>', '<pad>', '<pad>', '<pad>', '<pad>', '<pad>', '<pad>', '<pad>', '<pad>', '<pad>', '<pad>', '<pad>', '<pad>', '<pad>', '<pad>', '<pad>']\n",
      "(256, 100)\n",
      "256\n",
      "[0, 0, 1, 0, 0, 0, 0, 0, 0, 0, 0, 0, 0, 0, 0, 1]\n"
     ]
    }
   ],
   "source": [
    "print(x['input_ids'])\n",
    "print(x['input_tokens'])\n",
    "print(x['pianoroll'].shape)\n",
    "print(len(x['attention_mask']))\n",
    "print(x['time_signature'])"
   ]
  },
  {
   "cell_type": "code",
   "execution_count": 8,
   "id": "37e2060e",
   "metadata": {},
   "outputs": [],
   "source": [
    "from models import GridMLMMelHarm"
   ]
  },
  {
   "cell_type": "code",
   "execution_count": 9,
   "id": "dc9d069f",
   "metadata": {},
   "outputs": [],
   "source": [
    "model = GridMLMMelHarm(chord_vocab_size=len(tokenizer.vocab), conditioning_dim=16)"
   ]
  },
  {
   "cell_type": "code",
   "execution_count": 10,
   "id": "9e11ecba",
   "metadata": {},
   "outputs": [],
   "source": [
    "from data_utils import CSGridMLMDataset, CSGridMLM_collate_fn\n",
    "from torch.utils.data import DataLoader"
   ]
  },
  {
   "cell_type": "code",
   "execution_count": 11,
   "id": "0bb17b86",
   "metadata": {},
   "outputs": [],
   "source": [
    "train_dir = '/media/maindisk/maximos/data/hooktheory_train'\n",
    "train_dataset = CSGridMLMDataset(train_dir, tokenizer, 512)"
   ]
  },
  {
   "cell_type": "code",
   "execution_count": 12,
   "id": "4dfbf546",
   "metadata": {},
   "outputs": [
    {
     "name": "stdout",
     "output_type": "stream",
     "text": [
      "[6, 6, 6, 6, 6, 6, 6, 6, 11, 11, 11, 11, 11, 11, 11, 11, 151, 151, 151, 151, 151, 151, 11, 11, 11, 11, 11, 11, 11, 11, 11, 11, 6, 6, 6, 6, 6, 6, 6, 6, 11, 11, 11, 11, 11, 11, 11, 11, 10, 10, 10, 10, 10, 10, 151, 151, 151, 151, 151, 151, 151, 151, 151, 151, 6, 6, 6, 6, 6, 6, 6, 6, 11, 11, 11, 11, 11, 11, 11, 11, 151, 151, 151, 151, 151, 151, 11, 11, 11, 11, 11, 11, 11, 11, 11, 11, 296, 296, 296, 296, 296, 296, 296, 151, 151, 151, 151, 151, 151, 151, 151, 151, 6, 6, 6, 6, 6, 6, 209, 209, 209, 209, 209, 209, 209, 209, 209, 209, 6, 6, 6, 6, 6, 6, 6, 6, 11, 11, 11, 11, 11, 11, 11, 11, 151, 151, 151, 151, 151, 151, 11, 11, 11, 11, 11, 11, 11, 11, 11, 11, 6, 6, 6, 6, 6, 6, 6, 6, 11, 11, 11, 11, 11, 11, 11, 11, 10, 10, 10, 10, 10, 10, 151, 151, 151, 151, 151, 151, 151, 151, 151, 151, 6, 6, 6, 6, 6, 6, 6, 6, 11, 11, 11, 11, 11, 11, 11, 11, 151, 151, 151, 151, 151, 151, 11, 11, 11, 11, 11, 11, 11, 11, 11, 11, 296, 296, 296, 296, 296, 296, 296, 151, 151, 151, 151, 151, 151, 151, 151, 151, 6, 6, 6, 6, 6, 6, 209, 209, 209, 209, 209, 209, 209, 209, 209, 209]\n"
     ]
    }
   ],
   "source": [
    "x = train_dataset[0]\n",
    "print(x['input_ids'])"
   ]
  },
  {
   "cell_type": "code",
   "execution_count": 13,
   "id": "89bbfb08",
   "metadata": {},
   "outputs": [],
   "source": [
    "trainloader = DataLoader(train_dataset, batch_size=8, shuffle=True, collate_fn=CSGridMLM_collate_fn)"
   ]
  },
  {
   "cell_type": "code",
   "execution_count": 14,
   "id": "e4bde7ce",
   "metadata": {},
   "outputs": [],
   "source": [
    "batch = next(iter(trainloader))"
   ]
  },
  {
   "cell_type": "code",
   "execution_count": 15,
   "id": "2d4e085c",
   "metadata": {},
   "outputs": [
    {
     "name": "stdout",
     "output_type": "stream",
     "text": [
      "torch.Size([8, 256])\n",
      "torch.Size([8, 256, 100])\n"
     ]
    }
   ],
   "source": [
    "print(batch['input_ids'].shape)\n",
    "print(batch['pianoroll'].shape)"
   ]
  },
  {
   "cell_type": "code",
   "execution_count": 16,
   "id": "ad57c5f1",
   "metadata": {},
   "outputs": [],
   "source": [
    "y = model( batch['time_signature'].to(model.device), batch['pianoroll'].to(model.device) )"
   ]
  },
  {
   "cell_type": "code",
   "execution_count": 17,
   "id": "64a7630f",
   "metadata": {},
   "outputs": [
    {
     "name": "stdout",
     "output_type": "stream",
     "text": [
      "torch.Size([8, 256, 354])\n"
     ]
    }
   ],
   "source": [
    "print(y.shape)"
   ]
  },
  {
   "cell_type": "code",
   "execution_count": 18,
   "id": "654bca1c",
   "metadata": {},
   "outputs": [],
   "source": [
    "from train_utils import apply_structured_masking, train_with_curriculum"
   ]
  },
  {
   "cell_type": "code",
   "execution_count": 19,
   "id": "7980629a",
   "metadata": {},
   "outputs": [],
   "source": [
    "import matplotlib.pyplot as plt\n",
    "from train_utils import apply_structured_masking"
   ]
  },
  {
   "cell_type": "code",
   "execution_count": 20,
   "id": "705e29c3",
   "metadata": {},
   "outputs": [
    {
     "data": {
      "text/plain": [
       "([], [])"
      ]
     },
     "execution_count": 20,
     "metadata": {},
     "output_type": "execute_result"
    },
    {
     "data": {
      "image/png": "[encoded data removed]",
      "text/plain": [
       "<Figure size 640x480 with 2 Axes>"
      ]
     },
     "metadata": {
      "image/png": {
       "height": 410,
       "width": 515
      }
     },
     "output_type": "display_data"
    }
   ],
   "source": [
    "mask_token_id = tokenizer.mask_token_id  # <mask> token index\n",
    "step_idx = 0\n",
    "\n",
    "masked_harmony, target = apply_structured_masking(\n",
    "    batch['input_ids'],\n",
    "    mask_token_id,\n",
    "    step_idx,\n",
    "    batch['time_signature'],\n",
    "    curriculum_type='no' # 'no', 'random', 'ts_blank', 'ts_incr'\n",
    ")\n",
    "# print(masked_harmony)\n",
    "# print(target)\n",
    "plt.subplot(2,1,1)\n",
    "plt.imshow(masked_harmony!=mask_token_id, aspect='auto', cmap='gray_r')\n",
    "plt.title('Input')\n",
    "plt.xticks([])\n",
    "plt.yticks([])\n",
    "plt.subplot(2,1,2)\n",
    "plt.imshow(target>-100, aspect='auto', cmap='gray_r')\n",
    "plt.title('Target')\n",
    "plt.xticks([])\n",
    "plt.yticks([])"
   ]
  },
  {
   "cell_type": "code",
   "execution_count": 21,
   "id": "9ef9c0a9",
   "metadata": {},
   "outputs": [
    {
     "data": {
      "text/plain": [
       "([], [])"
      ]
     },
     "execution_count": 21,
     "metadata": {},
     "output_type": "execute_result"
    },
    {
     "data": {
      "image/png": "[encoded data removed]",
      "text/plain": [
       "<Figure size 640x480 with 2 Axes>"
      ]
     },
     "metadata": {
      "image/png": {
       "height": 410,
       "width": 515
      }
     },
     "output_type": "display_data"
    }
   ],
   "source": [
    "step_idx = 0\n",
    "masked_harmony, target = apply_structured_masking(\n",
    "    batch['input_ids'],\n",
    "    mask_token_id,\n",
    "    step_idx,\n",
    "    batch['time_signature'],\n",
    "    curriculum_type='random' # 'no', 'random', 'ts_blank', 'ts_incr'\n",
    ")\n",
    "# print(masked_harmony)\n",
    "# print(target)\n",
    "plt.subplot(2,1,1)\n",
    "plt.imshow(masked_harmony!=mask_token_id, aspect='auto', cmap='gray_r')\n",
    "plt.title('Input')\n",
    "plt.xticks([])\n",
    "plt.yticks([])\n",
    "plt.subplot(2,1,2)\n",
    "plt.imshow(target>-100, aspect='auto', cmap='gray_r')\n",
    "plt.title('Target')\n",
    "plt.xticks([])\n",
    "plt.yticks([])"
   ]
  },
  {
   "cell_type": "code",
   "execution_count": 22,
   "id": "647f34f2",
   "metadata": {},
   "outputs": [
    {
     "data": {
      "text/plain": [
       "([], [])"
      ]
     },
     "execution_count": 22,
     "metadata": {},
     "output_type": "execute_result"
    },
    {
     "data": {
      "image/png": "[encoded data removed]",
      "text/plain": [
       "<Figure size 640x480 with 2 Axes>"
      ]
     },
     "metadata": {
      "image/png": {
       "height": 410,
       "width": 515
      }
     },
     "output_type": "display_data"
    }
   ],
   "source": [
    "step_idx = 1\n",
    "masked_harmony, target = apply_structured_masking(\n",
    "    batch['input_ids'],\n",
    "    mask_token_id,\n",
    "    step_idx,\n",
    "    batch['time_signature'],\n",
    "    curriculum_type='ts_blank' # 'no', 'random', 'ts_blank', 'ts_incr'\n",
    ")\n",
    "# print(masked_harmony)\n",
    "# print(target)\n",
    "plt.subplot(2,1,1)\n",
    "plt.imshow(masked_harmony!=mask_token_id, aspect='auto', cmap='gray_r')\n",
    "plt.title('Input')\n",
    "plt.xticks([])\n",
    "plt.yticks([])\n",
    "plt.subplot(2,1,2)\n",
    "plt.imshow(target>-100, aspect='auto', cmap='gray_r')\n",
    "plt.title('Target')\n",
    "plt.xticks([])\n",
    "plt.yticks([])"
   ]
  },
  {
   "cell_type": "code",
   "execution_count": 23,
   "id": "5ced947f",
   "metadata": {},
   "outputs": [
    {
     "data": {
      "text/plain": [
       "([], [])"
      ]
     },
     "execution_count": 23,
     "metadata": {},
     "output_type": "execute_result"
    },
    {
     "data": {
      "image/png": "[encoded data removed]",
      "text/plain": [
       "<Figure size 640x480 with 2 Axes>"
      ]
     },
     "metadata": {
      "image/png": {
       "height": 410,
       "width": 515
      }
     },
     "output_type": "display_data"
    }
   ],
   "source": [
    "step_idx = 1\n",
    "masked_harmony, target = apply_structured_masking(\n",
    "    batch['input_ids'],\n",
    "    mask_token_id,\n",
    "    step_idx,\n",
    "    batch['time_signature'],\n",
    "    curriculum_type='ts_incr' # 'no', 'random', 'ts_blank', 'ts_incr'\n",
    ")\n",
    "# print(masked_harmony)\n",
    "# print(target)\n",
    "plt.subplot(2,1,1)\n",
    "plt.imshow(masked_harmony!=mask_token_id, aspect='auto', cmap='gray_r')\n",
    "plt.title('Input')\n",
    "plt.xticks([])\n",
    "plt.yticks([])\n",
    "plt.subplot(2,1,2)\n",
    "plt.imshow(target>-100, aspect='auto', cmap='gray_r')\n",
    "plt.title('Target')\n",
    "plt.xticks([])\n",
    "plt.yticks([])"
   ]
  },
  {
   "cell_type": "code",
   "execution_count": null,
   "id": "4d56543e",
   "metadata": {},
   "outputs": [
    {
     "name": "stderr",
     "output_type": "stream",
     "text": [
      "Epoch 0 (step 0) | trn:   0%|          | 0/1710 [00:00<?, ?batch/s]/home/maximos/miniconda3/envs/torch/lib/python3.12/site-packages/music21/stream/base.py:3694: Music21DeprecationWarning: .flat is deprecated.  Call .flatten() instead\n",
      "  return self.iter().getElementsByClass(classFilterList)\n",
      "Epoch 0 (step 0) | trn:   2%|▏         | 26/1710 [00:07<07:46,  3.61batch/s, accuracy=0.321, loss=3.53]Exception ignored in: <bound method IPythonKernel._clean_thread_parent_frames of <ipykernel.ipkernel.IPythonKernel object at 0x75fea9b9cd10>>\n",
      "Traceback (most recent call last):\n",
      "  File \"/home/maximos/miniconda3/envs/torch/lib/python3.12/site-packages/ipykernel/ipkernel.py\", line 770, in _clean_thread_parent_frames\n",
      "    def _clean_thread_parent_frames(\n",
      "\n",
      "KeyboardInterrupt: \n",
      "Epoch 0 (step 0) | trn:   4%|▍         | 71/1710 [00:19<07:18,  3.74batch/s, accuracy=0.33, loss=3.13] "
     ]
    }
   ],
   "source": [
    "from torch.optim import AdamW\n",
    "from torch.nn import CrossEntropyLoss\n",
    "mask_token_id = tokenizer.mask_token_id  # <mask> token index\n",
    "\n",
    "lr = 0.00005\n",
    "optimizer = AdamW(model.parameters(), lr=lr)\n",
    "\n",
    "train_with_curriculum(\n",
    "    model=model,\n",
    "    optimizer=optimizer,\n",
    "    trainloader=trainloader,\n",
    "    loss_fn=CrossEntropyLoss(ignore_index=-100),\n",
    "    mask_token_id=mask_token_id,\n",
    "    epochs=20,\n",
    "    curriculum_type=\"linear\",  # or \"linear\"\n",
    "    epochs_per_stage=3        # only for linear\n",
    ")\n"
   ]
  }
 ],
 "metadata": {
  "kernelspec": {
   "display_name": "torch",
   "language": "python",
   "name": "python3"
  },
  "language_info": {
   "codemirror_mode": {
    "name": "ipython",
    "version": 3
   },
   "file_extension": ".py",
   "mimetype": "text/x-python",
   "name": "python",
   "nbconvert_exporter": "python",
   "pygments_lexer": "ipython3",
   "version": "3.12.2"
  }
 },
 "nbformat": 4,
 "nbformat_minor": 5
}
