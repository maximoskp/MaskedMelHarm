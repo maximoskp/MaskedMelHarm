{
 "cells": [
  {
   "cell_type": "code",
   "execution_count": 1,
   "id": "a177ec9c",
   "metadata": {},
   "outputs": [],
   "source": [
    "from music21 import converter, note, chord, harmony, meter, stream\n",
    "import numpy as np\n",
    "\n",
    "def extract_lead_sheet_info(xml_path, quantization='16th', fixed_length=None):\n",
    "    # Load the score and flatten\n",
    "    score = converter.parse(xml_path)\n",
    "    melody_part = score.parts[0].flat\n",
    "\n",
    "    # Define 16th note length\n",
    "    ql_per_16th = 0.25 / 4\n",
    "\n",
    "    # Get pitch range: MIDI 21 (A0) to 108 (C8) -> 88 notes\n",
    "    pitch_range = list(range(21, 109))\n",
    "    n_pitch = len(pitch_range)\n",
    "\n",
    "    # Step 1: Find first chord symbol and bar to trim before it\n",
    "    first_chord_offset = None\n",
    "    for el in melody_part.recurse().getElementsByClass(harmony.ChordSymbol):\n",
    "        first_chord_offset = el.offset\n",
    "        break\n",
    "\n",
    "    measure_start_offset = 0.0\n",
    "    if first_chord_offset is not None:\n",
    "        for meas in melody_part.getElementsByClass(stream.Measure):\n",
    "            if meas.offset <= first_chord_offset < meas.offset + meas.duration.quarterLength:\n",
    "                measure_start_offset = meas.offset\n",
    "                break\n",
    "\n",
    "    skip_steps = int(np.round(measure_start_offset / ql_per_16th))\n",
    "\n",
    "    # Determine total length in 16th notes\n",
    "    total_duration_q = melody_part.highestTime\n",
    "    total_steps = int(np.ceil(total_duration_q / ql_per_16th))\n",
    "\n",
    "    # Allocate raw matrices (we will trim/pad later)\n",
    "    raw_pianoroll = np.zeros((total_steps, n_pitch), dtype=np.uint8)\n",
    "    raw_chords = [None] * total_steps\n",
    "\n",
    "    # Fill pianoroll\n",
    "    for el in melody_part.notesAndRests:\n",
    "        start = int(np.round(el.offset / ql_per_16th))\n",
    "        dur_steps = int(np.round(el.quarterLength / ql_per_16th))\n",
    "\n",
    "        if isinstance(el, note.Note):\n",
    "            midi = el.pitch.midi\n",
    "            if midi in pitch_range:\n",
    "                idx = pitch_range.index(midi)\n",
    "                raw_pianoroll[start:start+dur_steps, idx] = 1\n",
    "\n",
    "        elif isinstance(el, chord.Chord):  # Just in case\n",
    "            for pitch in el.pitches:\n",
    "                midi = pitch.midi\n",
    "                if midi in pitch_range:\n",
    "                    idx = pitch_range.index(midi)\n",
    "                    raw_pianoroll[start:start+dur_steps, idx] = 1\n",
    "\n",
    "    # Fill chord grid\n",
    "    for el in melody_part.recurse().getElementsByClass(harmony.ChordSymbol):\n",
    "        start = int(np.round(el.offset / ql_per_16th))\n",
    "        if 0 <= start < len(raw_chords):\n",
    "            raw_chords[start] = el.figure\n",
    "\n",
    "    # Propagate chord forward\n",
    "    for i in range(1, len(raw_chords)):\n",
    "        if raw_chords[i] is None:\n",
    "            raw_chords[i] = raw_chords[i-1]\n",
    "\n",
    "    # Fill missing with <pad> or <nc>\n",
    "    for i in range(len(raw_chords)):\n",
    "        if raw_chords[i] is None:\n",
    "            raw_chords[i] = \"<nc>\"  # Or use \"<pad>\" if preferred\n",
    "\n",
    "    # Trim to start at first chord bar\n",
    "    raw_pianoroll = raw_pianoroll[skip_steps:]\n",
    "    raw_chords = raw_chords[skip_steps:]\n",
    "\n",
    "    # Add pitch class profile (top 12 dims)\n",
    "    n_steps = len(raw_pianoroll)\n",
    "    pitch_classes = np.zeros((n_steps, 12), dtype=np.uint8)\n",
    "    for i in range(n_steps):\n",
    "        pitch_indices = np.where(raw_pianoroll[i] > 0)[0]\n",
    "        for idx in pitch_indices:\n",
    "            midi = pitch_range[idx]\n",
    "            pitch_classes[i, midi % 12] = 1\n",
    "    full_pianoroll = np.hstack([pitch_classes, raw_pianoroll])  # Shape: (T, 12 + 88)\n",
    "\n",
    "    # Apply fixed length (pad or trim)\n",
    "    if fixed_length is not None:\n",
    "        if n_steps > fixed_length:\n",
    "            full_pianoroll = full_pianoroll[:fixed_length]\n",
    "            raw_chords = raw_chords[:fixed_length]\n",
    "        elif n_steps < fixed_length:\n",
    "            pad_len = fixed_length - n_steps\n",
    "            pad_pr = np.zeros((pad_len, full_pianoroll.shape[1]), dtype=np.uint8)\n",
    "            pad_ch = [\"<pad>\"] * pad_len\n",
    "            full_pianoroll = np.vstack([full_pianoroll, pad_pr])\n",
    "            raw_chords += pad_ch\n",
    "\n",
    "    return full_pianoroll, raw_chords\n"
   ]
  },
  {
   "cell_type": "code",
   "execution_count": 2,
   "id": "59a40ee0",
   "metadata": {},
   "outputs": [
    {
     "name": "stdout",
     "output_type": "stream",
     "text": [
      "/media/maindisk/maximos/data/hooktheory_train/h/haim/dont-save-me/chorus.xml\n",
      "Pianoroll shape: (256, 100)\n",
      "Chord seq length: 256\n",
      "Chord at step 0: Em\n"
     ]
    },
    {
     "name": "stderr",
     "output_type": "stream",
     "text": [
      "/home/maximos/miniconda3/envs/torch/lib/python3.12/site-packages/music21/stream/base.py:3694: Music21DeprecationWarning: .flat is deprecated.  Call .flatten() instead\n",
      "  return self.iter().getElementsByClass(classFilterList)\n"
     ]
    }
   ],
   "source": [
    "import os\n",
    "root_dir = '/media/maindisk/maximos/data/hooktheory_train/'\n",
    "\n",
    "for dirpath, _, filenames in os.walk(root_dir):\n",
    "    for file in filenames:\n",
    "        if file.endswith('.xml') or file.endswith('.mxl') or file.endswith('.musicxml'):\n",
    "            full_path = os.path.join(dirpath, file)\n",
    "            break\n",
    "print(full_path)\n",
    "\n",
    "pianoroll, chord_seq = extract_lead_sheet_info(full_path, fixed_length=256)\n",
    "\n",
    "print(\"Pianoroll shape:\", pianoroll.shape)  # (256, 100) -> 12 pitch class + 88 piano roll\n",
    "print(\"Chord seq length:\", len(chord_seq))  # Should match T\n",
    "print(\"Chord at step 0:\", chord_seq[0])\n"
   ]
  },
  {
   "cell_type": "code",
   "execution_count": 3,
   "id": "a7d290ad",
   "metadata": {},
   "outputs": [
    {
     "name": "stdout",
     "output_type": "stream",
     "text": [
      "256\n",
      "['Em', 'Em', 'Em', 'Em', 'Em', 'Em', 'Em', 'Em', 'Em', 'Em', 'Em', 'Em', 'Em', 'Em', 'Em', 'Em', 'Em', 'Em', 'Em', 'Em', 'Em', 'Em', 'Em', 'Em', 'Em', 'Em', 'Em', 'Em', 'Em', 'Em', 'Em', 'Em', 'Em', 'Em', 'Em', 'Em', 'Em', 'Em', 'Em', 'Em', 'Em', 'Em', 'Em', 'Em', 'Em', 'Em', 'Em', 'Em', 'Em', 'Em', 'Em', 'Em', 'Em', 'Em', 'Em', 'Em', 'Em', 'Em', 'Em', 'Em', 'Em', 'Em', 'Em', 'Em', 'F', 'F', 'F', 'F', 'F', 'F', 'F', 'F', 'F', 'F', 'F', 'F', 'F', 'F', 'F', 'F', 'F', 'F', 'F', 'F', 'F', 'F', 'F', 'F', 'F', 'F', 'F', 'F', 'F', 'F', 'F', 'F', 'F', 'F', 'F', 'F', 'F', 'F', 'F', 'F', 'F', 'F', 'F', 'F', 'F', 'F', 'F', 'F', 'F', 'F', 'F', 'F', 'F', 'F', 'F', 'F', 'F', 'F', 'F', 'F', 'F', 'F', 'F', 'F', 'Am', 'Am', 'Am', 'Am', 'Am', 'Am', 'Am', 'Am', 'Am', 'Am', 'Am', 'Am', 'Am', 'Am', 'Am', 'Am', 'Am', 'Am', 'Am', 'Am', 'Am', 'Am', 'Am', 'Am', 'Am', 'Am', 'Am', 'Am', 'Am', 'Am', 'Am', 'Am', 'Am', 'Am', 'Am', 'Am', 'Am', 'Am', 'Am', 'Am', 'Am', 'Am', 'Am', 'Am', 'Am', 'Am', 'Am', 'Am', 'Am', 'Am', 'Am', 'Am', 'Am', 'Am', 'Am', 'Am', 'Am', 'Am', 'Am', 'Am', 'Am', 'Am', 'Am', 'Am', 'G', 'G', 'G', 'G', 'G', 'G', 'G', 'G', 'G', 'G', 'G', 'G', 'G', 'G', 'G', 'G', 'G', 'G', 'G', 'G', 'G', 'G', 'G', 'G', 'G', 'G', 'G', 'G', 'G', 'G', 'G', 'G', 'G', 'G', 'G', 'G', 'G', 'G', 'G', 'G', 'G', 'G', 'G', 'G', 'G', 'G', 'G', 'G', 'G', 'G', 'G', 'G', 'G', 'G', 'G', 'G', 'G', 'G', 'G', 'G', 'G', 'G', 'G', 'G']\n"
     ]
    }
   ],
   "source": [
    "print(len(chord_seq))\n",
    "print(chord_seq)"
   ]
  },
  {
   "cell_type": "code",
   "execution_count": 4,
   "id": "434bdb68",
   "metadata": {},
   "outputs": [
    {
     "name": "stderr",
     "output_type": "stream",
     "text": [
      "/home/maximos/miniconda3/envs/torch/lib/python3.12/site-packages/tqdm/auto.py:21: TqdmWarning: IProgress not found. Please update jupyter and ipywidgets. See https://ipywidgets.readthedocs.io/en/stable/user_install.html\n",
      "  from .autonotebook import tqdm as notebook_tqdm\n"
     ]
    }
   ],
   "source": [
    "from MLMDif_tokenizers import CSMLMDifTokenizer"
   ]
  },
  {
   "cell_type": "code",
   "execution_count": 5,
   "id": "4be3504a",
   "metadata": {},
   "outputs": [],
   "source": [
    "tokenizer = CSMLMDifTokenizer(fixed_length=256)"
   ]
  },
  {
   "cell_type": "code",
   "execution_count": 6,
   "id": "692fe807",
   "metadata": {},
   "outputs": [
    {
     "name": "stderr",
     "output_type": "stream",
     "text": [
      "/home/maximos/miniconda3/envs/torch/lib/python3.12/site-packages/music21/stream/base.py:3694: Music21DeprecationWarning: .flat is deprecated.  Call .flatten() instead\n",
      "  return self.iter().getElementsByClass(classFilterList)\n"
     ]
    }
   ],
   "source": [
    "x = tokenizer.encode(full_path)"
   ]
  },
  {
   "cell_type": "code",
   "execution_count": 7,
   "id": "09e83d7a",
   "metadata": {},
   "outputs": [
    {
     "name": "stdout",
     "output_type": "stream",
     "text": [
      "[123, 123, 123, 123, 123, 123, 123, 123, 123, 123, 123, 123, 123, 123, 123, 123, 151, 151, 151, 151, 151, 151, 151, 151, 151, 151, 151, 151, 151, 151, 151, 151, 268, 268, 268, 268, 268, 268, 268, 268, 268, 268, 268, 268, 268, 268, 268, 268, 209, 209, 209, 209, 209, 209, 209, 209, 209, 209, 209, 209, 209, 209, 209, 209, 123, 123, 123, 123, 123, 123, 123, 123, 123, 123, 123, 123, 123, 123, 123, 123, 151, 151, 151, 151, 151, 151, 151, 151, 151, 151, 151, 151, 151, 151, 151, 151, 268, 268, 268, 268, 268, 268, 268, 268, 268, 268, 268, 268, 268, 268, 268, 268, 209, 209, 209, 209, 209, 209, 209, 209, 209, 209, 209, 209, 209, 209, 209, 209, 1, 1, 1, 1, 1, 1, 1, 1, 1, 1, 1, 1, 1, 1, 1, 1, 1, 1, 1, 1, 1, 1, 1, 1, 1, 1, 1, 1, 1, 1, 1, 1, 1, 1, 1, 1, 1, 1, 1, 1, 1, 1, 1, 1, 1, 1, 1, 1, 1, 1, 1, 1, 1, 1, 1, 1, 1, 1, 1, 1, 1, 1, 1, 1, 1, 1, 1, 1, 1, 1, 1, 1, 1, 1, 1, 1, 1, 1, 1, 1, 1, 1, 1, 1, 1, 1, 1, 1, 1, 1, 1, 1, 1, 1, 1, 1, 1, 1, 1, 1, 1, 1, 1, 1, 1, 1, 1, 1, 1, 1, 1, 1, 1, 1, 1, 1, 1, 1, 1, 1, 1, 1, 1, 1, 1, 1, 1, 1]\n",
      "['E:min', 'E:min', 'E:min', 'E:min', 'E:min', 'E:min', 'E:min', 'E:min', 'E:min', 'E:min', 'E:min', 'E:min', 'E:min', 'E:min', 'E:min', 'E:min', 'F:maj', 'F:maj', 'F:maj', 'F:maj', 'F:maj', 'F:maj', 'F:maj', 'F:maj', 'F:maj', 'F:maj', 'F:maj', 'F:maj', 'F:maj', 'F:maj', 'F:maj', 'F:maj', 'A:min', 'A:min', 'A:min', 'A:min', 'A:min', 'A:min', 'A:min', 'A:min', 'A:min', 'A:min', 'A:min', 'A:min', 'A:min', 'A:min', 'A:min', 'A:min', 'G:maj', 'G:maj', 'G:maj', 'G:maj', 'G:maj', 'G:maj', 'G:maj', 'G:maj', 'G:maj', 'G:maj', 'G:maj', 'G:maj', 'G:maj', 'G:maj', 'G:maj', 'G:maj', 'E:min', 'E:min', 'E:min', 'E:min', 'E:min', 'E:min', 'E:min', 'E:min', 'E:min', 'E:min', 'E:min', 'E:min', 'E:min', 'E:min', 'E:min', 'E:min', 'F:maj', 'F:maj', 'F:maj', 'F:maj', 'F:maj', 'F:maj', 'F:maj', 'F:maj', 'F:maj', 'F:maj', 'F:maj', 'F:maj', 'F:maj', 'F:maj', 'F:maj', 'F:maj', 'A:min', 'A:min', 'A:min', 'A:min', 'A:min', 'A:min', 'A:min', 'A:min', 'A:min', 'A:min', 'A:min', 'A:min', 'A:min', 'A:min', 'A:min', 'A:min', 'G:maj', 'G:maj', 'G:maj', 'G:maj', 'G:maj', 'G:maj', 'G:maj', 'G:maj', 'G:maj', 'G:maj', 'G:maj', 'G:maj', 'G:maj', 'G:maj', 'G:maj', 'G:maj', '<pad>', '<pad>', '<pad>', '<pad>', '<pad>', '<pad>', '<pad>', '<pad>', '<pad>', '<pad>', '<pad>', '<pad>', '<pad>', '<pad>', '<pad>', '<pad>', '<pad>', '<pad>', '<pad>', '<pad>', '<pad>', '<pad>', '<pad>', '<pad>', '<pad>', '<pad>', '<pad>', '<pad>', '<pad>', '<pad>', '<pad>', '<pad>', '<pad>', '<pad>', '<pad>', '<pad>', '<pad>', '<pad>', '<pad>', '<pad>', '<pad>', '<pad>', '<pad>', '<pad>', '<pad>', '<pad>', '<pad>', '<pad>', '<pad>', '<pad>', '<pad>', '<pad>', '<pad>', '<pad>', '<pad>', '<pad>', '<pad>', '<pad>', '<pad>', '<pad>', '<pad>', '<pad>', '<pad>', '<pad>', '<pad>', '<pad>', '<pad>', '<pad>', '<pad>', '<pad>', '<pad>', '<pad>', '<pad>', '<pad>', '<pad>', '<pad>', '<pad>', '<pad>', '<pad>', '<pad>', '<pad>', '<pad>', '<pad>', '<pad>', '<pad>', '<pad>', '<pad>', '<pad>', '<pad>', '<pad>', '<pad>', '<pad>', '<pad>', '<pad>', '<pad>', '<pad>', '<pad>', '<pad>', '<pad>', '<pad>', '<pad>', '<pad>', '<pad>', '<pad>', '<pad>', '<pad>', '<pad>', '<pad>', '<pad>', '<pad>', '<pad>', '<pad>', '<pad>', '<pad>', '<pad>', '<pad>', '<pad>', '<pad>', '<pad>', '<pad>', '<pad>', '<pad>', '<pad>', '<pad>', '<pad>', '<pad>', '<pad>', '<pad>']\n",
      "(256, 100)\n",
      "256\n",
      "[0, 0, 1, 0, 0, 0, 0, 0, 0, 0, 0, 0, 0, 0, 0, 1]\n"
     ]
    }
   ],
   "source": [
    "print(x['input_ids'])\n",
    "print(x['input_tokens'])\n",
    "print(x['pianoroll'].shape)\n",
    "print(len(x['attention_mask']))\n",
    "print(x['time_signature'])"
   ]
  },
  {
   "cell_type": "code",
   "execution_count": 8,
   "id": "37e2060e",
   "metadata": {},
   "outputs": [],
   "source": [
    "from models import MLMDifMelHarm"
   ]
  },
  {
   "cell_type": "code",
   "execution_count": 9,
   "id": "dc9d069f",
   "metadata": {},
   "outputs": [],
   "source": [
    "model = MLMDifMelHarm(chord_vocab_size=len(tokenizer.vocab), conditioning_dim=16)"
   ]
  },
  {
   "cell_type": "code",
   "execution_count": 10,
   "id": "9e11ecba",
   "metadata": {},
   "outputs": [],
   "source": [
    "from data_utils import CSMLMDifDataset, CSMLMDif_collate_fn\n",
    "from torch.utils.data import DataLoader"
   ]
  },
  {
   "cell_type": "code",
   "execution_count": 11,
   "id": "0bb17b86",
   "metadata": {},
   "outputs": [],
   "source": [
    "train_dir = '/media/maindisk/maximos/data/hooktheory_train'\n",
    "train_dataset = CSMLMDifDataset(train_dir, tokenizer, 512)"
   ]
  },
  {
   "cell_type": "code",
   "execution_count": 12,
   "id": "4dfbf546",
   "metadata": {},
   "outputs": [
    {
     "name": "stdout",
     "output_type": "stream",
     "text": [
      "[6, 6, 6, 6, 6, 6, 6, 6, 11, 11, 11, 11, 11, 11, 11, 11, 151, 151, 151, 151, 151, 151, 11, 11, 11, 11, 11, 11, 11, 11, 11, 11, 6, 6, 6, 6, 6, 6, 6, 6, 11, 11, 11, 11, 11, 11, 11, 11, 10, 10, 10, 10, 10, 10, 151, 151, 151, 151, 151, 151, 151, 151, 151, 151, 6, 6, 6, 6, 6, 6, 6, 6, 11, 11, 11, 11, 11, 11, 11, 11, 151, 151, 151, 151, 151, 151, 11, 11, 11, 11, 11, 11, 11, 11, 11, 11, 296, 296, 296, 296, 296, 296, 296, 151, 151, 151, 151, 151, 151, 151, 151, 151, 6, 6, 6, 6, 6, 6, 209, 209, 209, 209, 209, 209, 209, 209, 209, 209, 6, 6, 6, 6, 6, 6, 6, 6, 11, 11, 11, 11, 11, 11, 11, 11, 151, 151, 151, 151, 151, 151, 11, 11, 11, 11, 11, 11, 11, 11, 11, 11, 6, 6, 6, 6, 6, 6, 6, 6, 11, 11, 11, 11, 11, 11, 11, 11, 10, 10, 10, 10, 10, 10, 151, 151, 151, 151, 151, 151, 151, 151, 151, 151, 6, 6, 6, 6, 6, 6, 6, 6, 11, 11, 11, 11, 11, 11, 11, 11, 151, 151, 151, 151, 151, 151, 11, 11, 11, 11, 11, 11, 11, 11, 11, 11, 296, 296, 296, 296, 296, 296, 296, 151, 151, 151, 151, 151, 151, 151, 151, 151, 6, 6, 6, 6, 6, 6, 209, 209, 209, 209, 209, 209, 209, 209, 209, 209]\n"
     ]
    }
   ],
   "source": [
    "x = train_dataset[0]\n",
    "print(x['input_ids'])"
   ]
  },
  {
   "cell_type": "code",
   "execution_count": 13,
   "id": "89bbfb08",
   "metadata": {},
   "outputs": [],
   "source": [
    "trainloader = DataLoader(train_dataset, batch_size=8, shuffle=True, collate_fn=CSMLMDif_collate_fn)"
   ]
  },
  {
   "cell_type": "code",
   "execution_count": 14,
   "id": "e4bde7ce",
   "metadata": {},
   "outputs": [],
   "source": [
    "batch = next(iter(trainloader))"
   ]
  },
  {
   "cell_type": "code",
   "execution_count": 15,
   "id": "2d4e085c",
   "metadata": {},
   "outputs": [
    {
     "name": "stdout",
     "output_type": "stream",
     "text": [
      "torch.Size([8, 256])\n",
      "torch.Size([8, 256, 100])\n"
     ]
    }
   ],
   "source": [
    "print(batch['input_ids'].shape)\n",
    "print(batch['pianoroll'].shape)"
   ]
  },
  {
   "cell_type": "code",
   "execution_count": 16,
   "id": "ad57c5f1",
   "metadata": {},
   "outputs": [],
   "source": [
    "y = model( batch['time_signature'].to(model.device), batch['pianoroll'].to(model.device) )"
   ]
  },
  {
   "cell_type": "code",
   "execution_count": 17,
   "id": "64a7630f",
   "metadata": {},
   "outputs": [
    {
     "name": "stdout",
     "output_type": "stream",
     "text": [
      "torch.Size([8, 256, 354])\n"
     ]
    }
   ],
   "source": [
    "print(y.shape)"
   ]
  },
  {
   "cell_type": "code",
   "execution_count": 18,
   "id": "654bca1c",
   "metadata": {},
   "outputs": [],
   "source": [
    "import torch\n",
    "import random\n",
    "from tqdm import tqdm\n",
    "\n",
    "import torch\n",
    "\n",
    "def apply_structured_masking(harmony_tokens, mask_token_id, step_idx, spacing_schedule):\n",
    "    \"\"\"\n",
    "    harmony_tokens: (B, 256) - original ground truth tokens\n",
    "    mask_token_id: int - ID for the special <mask> token\n",
    "    step_idx: int - 0, 1, 2, etc.\n",
    "    spacing_schedule: list[int] - e.g., [16, 8, 4]\n",
    "\n",
    "    Returns:\n",
    "        masked_harmony: (B, 256) with some tokens replaced with <mask>\n",
    "        target_harmony: (B, 256) with -100 at positions we do NOT want loss\n",
    "    \"\"\"\n",
    "    B, T = harmony_tokens.shape\n",
    "    assert T == 256\n",
    "\n",
    "    device = harmony_tokens.device\n",
    "    spacing = spacing_schedule[step_idx] if step_idx < len(spacing_schedule) else 1\n",
    "\n",
    "    # Get the indices that will remain unmasked for this step\n",
    "    mask = torch.ones((T,), dtype=torch.bool, device=device)  # start with all masked\n",
    "    mask[::spacing] = False  # reveal tokens at spacing\n",
    "\n",
    "    # Expand to batch\n",
    "    mask = mask.unsqueeze(0).expand(B, -1)  # shape (B, 256)\n",
    "\n",
    "    # Create masked version\n",
    "    masked_harmony = harmony_tokens.clone()\n",
    "    masked_harmony[mask] = mask_token_id\n",
    "\n",
    "    # Create target (loss computed only on masked positions)\n",
    "    target = harmony_tokens.clone()\n",
    "    target[~mask] = -100  # ignore tokens that were shown to the model\n",
    "\n",
    "    return masked_harmony, target\n",
    "\n",
    "\n",
    "def get_step_idx_linear(epoch, epochs_per_stage, max_step_idx):\n",
    "    return min(epoch // epochs_per_stage, max_step_idx)\n",
    "\n",
    "def get_step_idx_mixed(epoch, max_epoch, max_step_idx):\n",
    "    \"\"\"Returns a random step index, biased toward early stages in early epochs.\"\"\"\n",
    "    progress = epoch / max_epoch\n",
    "    probs = torch.softmax(torch.tensor([\n",
    "        (1.0 - abs(progress - (i / max_step_idx))) * 5 for i in range(max_step_idx + 1)\n",
    "    ]), dim=0)\n",
    "    return torch.multinomial(probs, 1).item()\n",
    "\n",
    "def train_with_curriculum(\n",
    "    model, optimizer, dataloader, loss_fn,\n",
    "    spacing_schedule, mask_token_id,\n",
    "    epochs=10,\n",
    "    curriculum_type=\"linear\",  # \"linear\" or \"mixed\"\n",
    "    epochs_per_stage=2,\n",
    "):\n",
    "    device = next(model.parameters()).device\n",
    "    max_step_idx = len(spacing_schedule) - 1\n",
    "\n",
    "    for epoch in range(epochs):\n",
    "        model.train()\n",
    "\n",
    "        # Determine masking level\n",
    "        if curriculum_type == \"linear\":\n",
    "            step_idx = get_step_idx_linear(epoch, epochs_per_stage, max_step_idx)\n",
    "        elif curriculum_type == \"mixed\":\n",
    "            step_idx = get_step_idx_mixed(epoch, epochs, max_step_idx)\n",
    "        else:\n",
    "            raise ValueError(\"Invalid curriculum type\")\n",
    "\n",
    "        epoch_loss = 0.0\n",
    "        running_loss = 0.\n",
    "        running_accuracy = 0.\n",
    "        batch_num = 0\n",
    "        with tqdm(trainloader, unit='batch') as tepoch:\n",
    "            tepoch.set_description(f'Epoch {epoch} (step {step_idx}) | trn')\n",
    "            for batch in tepoch:\n",
    "                melody_grid = batch[\"pianoroll\"].to(device)           # (B, 256, 140)\n",
    "                harmony_gt = batch[\"input_ids\"].to(device)         # (B, 256)\n",
    "                conditioning_vec = batch[\"time_signature\"].to(device)  # (B, C0)\n",
    "                \n",
    "                # Apply masking to harmony\n",
    "                harmony_input, harmony_target = apply_structured_masking(\n",
    "                    harmony_gt, mask_token_id, step_idx, spacing_schedule\n",
    "                )\n",
    "\n",
    "                # Forward pass\n",
    "                logits = model(conditioning_vec, melody_grid, harmony_input)\n",
    "\n",
    "                # Compute loss only on masked tokens\n",
    "                loss = loss_fn(logits.view(-1, logits.size(-1)), harmony_target.view(-1))\n",
    "\n",
    "                # update loss and accuracy\n",
    "                batch_num += 1\n",
    "                running_loss += loss.item()\n",
    "                train_loss = running_loss/batch_num\n",
    "                predictions = logits.argmax(dim=-1)\n",
    "                mask = harmony_target != -100\n",
    "                running_accuracy += (predictions[mask] == harmony_target[mask]).sum().item()/mask.sum().item()\n",
    "                train_accuracy = running_accuracy/batch_num\n",
    "\n",
    "                optimizer.zero_grad()\n",
    "                loss.backward()\n",
    "                optimizer.step()\n",
    "\n",
    "                epoch_loss += loss.item()\n",
    "                tepoch.set_postfix(loss=train_loss, accuracy=train_accuracy)\n"
   ]
  },
  {
   "cell_type": "code",
   "execution_count": 22,
   "id": "7980629a",
   "metadata": {},
   "outputs": [],
   "source": [
    "import matplotlib.pyplot as plt"
   ]
  },
  {
   "cell_type": "code",
   "execution_count": 27,
   "id": "705e29c3",
   "metadata": {},
   "outputs": [
    {
     "data": {
      "text/plain": [
       "<matplotlib.image.AxesImage at 0x7ca16699f410>"
      ]
     },
     "execution_count": 27,
     "metadata": {},
     "output_type": "execute_result"
    },
    {
     "data": {
      "image/png": "[encoded data removed]",
      "text/plain": [
       "<Figure size 640x480 with 2 Axes>"
      ]
     },
     "metadata": {
      "image/png": {
       "height": 265,
       "width": 537
      }
     },
     "output_type": "display_data"
    }
   ],
   "source": [
    "spacing_schedule = [16, 8, 4]\n",
    "mask_token_id = tokenizer.mask_token_id  # <mask> token index\n",
    "step_idx = 2\n",
    "\n",
    "masked_harmony, target = apply_structured_masking(batch['input_ids'], mask_token_id, step_idx, spacing_schedule)\n",
    "# print(masked_harmony)\n",
    "# print(target)\n",
    "plt.subplot(2,1,1)\n",
    "plt.imshow(masked_harmony)\n",
    "plt.subplot(2,1,2)\n",
    "plt.imshow(target)"
   ]
  },
  {
   "cell_type": "code",
   "execution_count": 19,
   "id": "4d56543e",
   "metadata": {},
   "outputs": [
    {
     "name": "stderr",
     "output_type": "stream",
     "text": [
      "Epoch 0 (step 0) | trn:   0%|          | 0/1710 [00:00<?, ?batch/s]/home/maximos/miniconda3/envs/torch/lib/python3.12/site-packages/music21/stream/base.py:3694: Music21DeprecationWarning: .flat is deprecated.  Call .flatten() instead\n",
      "  return self.iter().getElementsByClass(classFilterList)\n",
      "Epoch 0 (step 0) | trn:  42%|████▏     | 715/1710 [02:45<03:50,  4.32batch/s, accuracy=0.48, loss=2.06] \n"
     ]
    },
    {
     "ename": "KeyboardInterrupt",
     "evalue": "",
     "output_type": "error",
     "traceback": [
      "\u001b[0;31m---------------------------------------------------------------------------\u001b[0m",
      "\u001b[0;31mKeyboardInterrupt\u001b[0m                         Traceback (most recent call last)",
      "Cell \u001b[0;32mIn[19], line 8\u001b[0m\n\u001b[1;32m      5\u001b[0m lr \u001b[38;5;241m=\u001b[39m \u001b[38;5;241m0.00005\u001b[39m\n\u001b[1;32m      6\u001b[0m optimizer \u001b[38;5;241m=\u001b[39m AdamW(model\u001b[38;5;241m.\u001b[39mparameters(), lr\u001b[38;5;241m=\u001b[39mlr)\n\u001b[0;32m----> 8\u001b[0m \u001b[43mtrain_with_curriculum\u001b[49m\u001b[43m(\u001b[49m\n\u001b[1;32m      9\u001b[0m \u001b[43m    \u001b[49m\u001b[43mmodel\u001b[49m\u001b[38;5;241;43m=\u001b[39;49m\u001b[43mmodel\u001b[49m\u001b[43m,\u001b[49m\n\u001b[1;32m     10\u001b[0m \u001b[43m    \u001b[49m\u001b[43moptimizer\u001b[49m\u001b[38;5;241;43m=\u001b[39;49m\u001b[43moptimizer\u001b[49m\u001b[43m,\u001b[49m\n\u001b[1;32m     11\u001b[0m \u001b[43m    \u001b[49m\u001b[43mdataloader\u001b[49m\u001b[38;5;241;43m=\u001b[39;49m\u001b[43mtrainloader\u001b[49m\u001b[43m,\u001b[49m\n\u001b[1;32m     12\u001b[0m \u001b[43m    \u001b[49m\u001b[43mloss_fn\u001b[49m\u001b[38;5;241;43m=\u001b[39;49m\u001b[43mtorch\u001b[49m\u001b[38;5;241;43m.\u001b[39;49m\u001b[43mnn\u001b[49m\u001b[38;5;241;43m.\u001b[39;49m\u001b[43mCrossEntropyLoss\u001b[49m\u001b[43m(\u001b[49m\u001b[43mignore_index\u001b[49m\u001b[38;5;241;43m=\u001b[39;49m\u001b[38;5;241;43m-\u001b[39;49m\u001b[38;5;241;43m100\u001b[39;49m\u001b[43m)\u001b[49m\u001b[43m,\u001b[49m\n\u001b[1;32m     13\u001b[0m \u001b[43m    \u001b[49m\u001b[43mspacing_schedule\u001b[49m\u001b[38;5;241;43m=\u001b[39;49m\u001b[43mspacing_schedule\u001b[49m\u001b[43m,\u001b[49m\n\u001b[1;32m     14\u001b[0m \u001b[43m    \u001b[49m\u001b[43mmask_token_id\u001b[49m\u001b[38;5;241;43m=\u001b[39;49m\u001b[43mmask_token_id\u001b[49m\u001b[43m,\u001b[49m\n\u001b[1;32m     15\u001b[0m \u001b[43m    \u001b[49m\u001b[43mepochs\u001b[49m\u001b[38;5;241;43m=\u001b[39;49m\u001b[38;5;241;43m20\u001b[39;49m\u001b[43m,\u001b[49m\n\u001b[1;32m     16\u001b[0m \u001b[43m    \u001b[49m\u001b[43mcurriculum_type\u001b[49m\u001b[38;5;241;43m=\u001b[39;49m\u001b[38;5;124;43m\"\u001b[39;49m\u001b[38;5;124;43mmixed\u001b[39;49m\u001b[38;5;124;43m\"\u001b[39;49m\u001b[43m,\u001b[49m\u001b[43m  \u001b[49m\u001b[38;5;66;43;03m# or \"linear\"\u001b[39;49;00m\n\u001b[1;32m     17\u001b[0m \u001b[43m    \u001b[49m\u001b[43mepochs_per_stage\u001b[49m\u001b[38;5;241;43m=\u001b[39;49m\u001b[38;5;241;43m3\u001b[39;49m\u001b[43m        \u001b[49m\u001b[38;5;66;43;03m# only for linear\u001b[39;49;00m\n\u001b[1;32m     18\u001b[0m \u001b[43m)\u001b[49m\n",
      "Cell \u001b[0;32mIn[18], line 80\u001b[0m, in \u001b[0;36mtrain_with_curriculum\u001b[0;34m(model, optimizer, dataloader, loss_fn, spacing_schedule, mask_token_id, epochs, curriculum_type, epochs_per_stage)\u001b[0m\n\u001b[1;32m     78\u001b[0m \u001b[38;5;28;01mwith\u001b[39;00m tqdm(trainloader, unit\u001b[38;5;241m=\u001b[39m\u001b[38;5;124m'\u001b[39m\u001b[38;5;124mbatch\u001b[39m\u001b[38;5;124m'\u001b[39m) \u001b[38;5;28;01mas\u001b[39;00m tepoch:\n\u001b[1;32m     79\u001b[0m     tepoch\u001b[38;5;241m.\u001b[39mset_description(\u001b[38;5;124mf\u001b[39m\u001b[38;5;124m'\u001b[39m\u001b[38;5;124mEpoch \u001b[39m\u001b[38;5;132;01m{\u001b[39;00mepoch\u001b[38;5;132;01m}\u001b[39;00m\u001b[38;5;124m (step \u001b[39m\u001b[38;5;132;01m{\u001b[39;00mstep_idx\u001b[38;5;132;01m}\u001b[39;00m\u001b[38;5;124m) | trn\u001b[39m\u001b[38;5;124m'\u001b[39m)\n\u001b[0;32m---> 80\u001b[0m \u001b[43m    \u001b[49m\u001b[38;5;28;43;01mfor\u001b[39;49;00m\u001b[43m \u001b[49m\u001b[43mbatch\u001b[49m\u001b[43m \u001b[49m\u001b[38;5;129;43;01min\u001b[39;49;00m\u001b[43m \u001b[49m\u001b[43mtepoch\u001b[49m\u001b[43m:\u001b[49m\n\u001b[1;32m     81\u001b[0m \u001b[43m        \u001b[49m\u001b[43mmelody_grid\u001b[49m\u001b[43m \u001b[49m\u001b[38;5;241;43m=\u001b[39;49m\u001b[43m \u001b[49m\u001b[43mbatch\u001b[49m\u001b[43m[\u001b[49m\u001b[38;5;124;43m\"\u001b[39;49m\u001b[38;5;124;43mpianoroll\u001b[39;49m\u001b[38;5;124;43m\"\u001b[39;49m\u001b[43m]\u001b[49m\u001b[38;5;241;43m.\u001b[39;49m\u001b[43mto\u001b[49m\u001b[43m(\u001b[49m\u001b[43mdevice\u001b[49m\u001b[43m)\u001b[49m\u001b[43m           \u001b[49m\u001b[38;5;66;43;03m# (B, 256, 140)\u001b[39;49;00m\n\u001b[1;32m     82\u001b[0m \u001b[43m        \u001b[49m\u001b[43mharmony_gt\u001b[49m\u001b[43m \u001b[49m\u001b[38;5;241;43m=\u001b[39;49m\u001b[43m \u001b[49m\u001b[43mbatch\u001b[49m\u001b[43m[\u001b[49m\u001b[38;5;124;43m\"\u001b[39;49m\u001b[38;5;124;43minput_ids\u001b[39;49m\u001b[38;5;124;43m\"\u001b[39;49m\u001b[43m]\u001b[49m\u001b[38;5;241;43m.\u001b[39;49m\u001b[43mto\u001b[49m\u001b[43m(\u001b[49m\u001b[43mdevice\u001b[49m\u001b[43m)\u001b[49m\u001b[43m         \u001b[49m\u001b[38;5;66;43;03m# (B, 256)\u001b[39;49;00m\n",
      "File \u001b[0;32m~/miniconda3/envs/torch/lib/python3.12/site-packages/tqdm/std.py:1181\u001b[0m, in \u001b[0;36mtqdm.__iter__\u001b[0;34m(self)\u001b[0m\n\u001b[1;32m   1178\u001b[0m time \u001b[38;5;241m=\u001b[39m \u001b[38;5;28mself\u001b[39m\u001b[38;5;241m.\u001b[39m_time\n\u001b[1;32m   1180\u001b[0m \u001b[38;5;28;01mtry\u001b[39;00m:\n\u001b[0;32m-> 1181\u001b[0m \u001b[43m    \u001b[49m\u001b[38;5;28;43;01mfor\u001b[39;49;00m\u001b[43m \u001b[49m\u001b[43mobj\u001b[49m\u001b[43m \u001b[49m\u001b[38;5;129;43;01min\u001b[39;49;00m\u001b[43m \u001b[49m\u001b[43miterable\u001b[49m\u001b[43m:\u001b[49m\n\u001b[1;32m   1182\u001b[0m \u001b[43m        \u001b[49m\u001b[38;5;28;43;01myield\u001b[39;49;00m\u001b[43m \u001b[49m\u001b[43mobj\u001b[49m\n\u001b[1;32m   1183\u001b[0m \u001b[43m        \u001b[49m\u001b[38;5;66;43;03m# Update and possibly print the progressbar.\u001b[39;49;00m\n\u001b[1;32m   1184\u001b[0m \u001b[43m        \u001b[49m\u001b[38;5;66;43;03m# Note: does not call self.update(1) for speed optimisation.\u001b[39;49;00m\n",
      "File \u001b[0;32m~/miniconda3/envs/torch/lib/python3.12/site-packages/torch/utils/data/dataloader.py:631\u001b[0m, in \u001b[0;36m_BaseDataLoaderIter.__next__\u001b[0;34m(self)\u001b[0m\n\u001b[1;32m    628\u001b[0m \u001b[38;5;28;01mif\u001b[39;00m \u001b[38;5;28mself\u001b[39m\u001b[38;5;241m.\u001b[39m_sampler_iter \u001b[38;5;129;01mis\u001b[39;00m \u001b[38;5;28;01mNone\u001b[39;00m:\n\u001b[1;32m    629\u001b[0m     \u001b[38;5;66;03m# TODO(https://github.com/pytorch/pytorch/issues/76750)\u001b[39;00m\n\u001b[1;32m    630\u001b[0m     \u001b[38;5;28mself\u001b[39m\u001b[38;5;241m.\u001b[39m_reset()  \u001b[38;5;66;03m# type: ignore[call-arg]\u001b[39;00m\n\u001b[0;32m--> 631\u001b[0m data \u001b[38;5;241m=\u001b[39m \u001b[38;5;28;43mself\u001b[39;49m\u001b[38;5;241;43m.\u001b[39;49m\u001b[43m_next_data\u001b[49m\u001b[43m(\u001b[49m\u001b[43m)\u001b[49m\n\u001b[1;32m    632\u001b[0m \u001b[38;5;28mself\u001b[39m\u001b[38;5;241m.\u001b[39m_num_yielded \u001b[38;5;241m+\u001b[39m\u001b[38;5;241m=\u001b[39m \u001b[38;5;241m1\u001b[39m\n\u001b[1;32m    633\u001b[0m \u001b[38;5;28;01mif\u001b[39;00m \u001b[38;5;28mself\u001b[39m\u001b[38;5;241m.\u001b[39m_dataset_kind \u001b[38;5;241m==\u001b[39m _DatasetKind\u001b[38;5;241m.\u001b[39mIterable \u001b[38;5;129;01mand\u001b[39;00m \\\n\u001b[1;32m    634\u001b[0m         \u001b[38;5;28mself\u001b[39m\u001b[38;5;241m.\u001b[39m_IterableDataset_len_called \u001b[38;5;129;01mis\u001b[39;00m \u001b[38;5;129;01mnot\u001b[39;00m \u001b[38;5;28;01mNone\u001b[39;00m \u001b[38;5;129;01mand\u001b[39;00m \\\n\u001b[1;32m    635\u001b[0m         \u001b[38;5;28mself\u001b[39m\u001b[38;5;241m.\u001b[39m_num_yielded \u001b[38;5;241m>\u001b[39m \u001b[38;5;28mself\u001b[39m\u001b[38;5;241m.\u001b[39m_IterableDataset_len_called:\n",
      "File \u001b[0;32m~/miniconda3/envs/torch/lib/python3.12/site-packages/torch/utils/data/dataloader.py:675\u001b[0m, in \u001b[0;36m_SingleProcessDataLoaderIter._next_data\u001b[0;34m(self)\u001b[0m\n\u001b[1;32m    673\u001b[0m \u001b[38;5;28;01mdef\u001b[39;00m \u001b[38;5;21m_next_data\u001b[39m(\u001b[38;5;28mself\u001b[39m):\n\u001b[1;32m    674\u001b[0m     index \u001b[38;5;241m=\u001b[39m \u001b[38;5;28mself\u001b[39m\u001b[38;5;241m.\u001b[39m_next_index()  \u001b[38;5;66;03m# may raise StopIteration\u001b[39;00m\n\u001b[0;32m--> 675\u001b[0m     data \u001b[38;5;241m=\u001b[39m \u001b[38;5;28;43mself\u001b[39;49m\u001b[38;5;241;43m.\u001b[39;49m\u001b[43m_dataset_fetcher\u001b[49m\u001b[38;5;241;43m.\u001b[39;49m\u001b[43mfetch\u001b[49m\u001b[43m(\u001b[49m\u001b[43mindex\u001b[49m\u001b[43m)\u001b[49m  \u001b[38;5;66;03m# may raise StopIteration\u001b[39;00m\n\u001b[1;32m    676\u001b[0m     \u001b[38;5;28;01mif\u001b[39;00m \u001b[38;5;28mself\u001b[39m\u001b[38;5;241m.\u001b[39m_pin_memory:\n\u001b[1;32m    677\u001b[0m         data \u001b[38;5;241m=\u001b[39m _utils\u001b[38;5;241m.\u001b[39mpin_memory\u001b[38;5;241m.\u001b[39mpin_memory(data, \u001b[38;5;28mself\u001b[39m\u001b[38;5;241m.\u001b[39m_pin_memory_device)\n",
      "File \u001b[0;32m~/miniconda3/envs/torch/lib/python3.12/site-packages/torch/utils/data/_utils/fetch.py:51\u001b[0m, in \u001b[0;36m_MapDatasetFetcher.fetch\u001b[0;34m(self, possibly_batched_index)\u001b[0m\n\u001b[1;32m     49\u001b[0m         data \u001b[38;5;241m=\u001b[39m \u001b[38;5;28mself\u001b[39m\u001b[38;5;241m.\u001b[39mdataset\u001b[38;5;241m.\u001b[39m__getitems__(possibly_batched_index)\n\u001b[1;32m     50\u001b[0m     \u001b[38;5;28;01melse\u001b[39;00m:\n\u001b[0;32m---> 51\u001b[0m         data \u001b[38;5;241m=\u001b[39m [\u001b[38;5;28;43mself\u001b[39;49m\u001b[38;5;241;43m.\u001b[39;49m\u001b[43mdataset\u001b[49m\u001b[43m[\u001b[49m\u001b[43midx\u001b[49m\u001b[43m]\u001b[49m \u001b[38;5;28;01mfor\u001b[39;00m idx \u001b[38;5;129;01min\u001b[39;00m possibly_batched_index]\n\u001b[1;32m     52\u001b[0m \u001b[38;5;28;01melse\u001b[39;00m:\n\u001b[1;32m     53\u001b[0m     data \u001b[38;5;241m=\u001b[39m \u001b[38;5;28mself\u001b[39m\u001b[38;5;241m.\u001b[39mdataset[possibly_batched_index]\n",
      "File \u001b[0;32m/media/maindisk/maximos/repos/MaskedMelHarm/data_utils.py:66\u001b[0m, in \u001b[0;36mCSMLMDifDataset.__getitem__\u001b[0;34m(self, idx)\u001b[0m\n\u001b[1;32m     64\u001b[0m \u001b[38;5;28;01mdef\u001b[39;00m \u001b[38;5;21m__getitem__\u001b[39m(\u001b[38;5;28mself\u001b[39m, idx):\n\u001b[1;32m     65\u001b[0m     data_file \u001b[38;5;241m=\u001b[39m \u001b[38;5;28mself\u001b[39m\u001b[38;5;241m.\u001b[39mdata_files[idx]\n\u001b[0;32m---> 66\u001b[0m     encoded \u001b[38;5;241m=\u001b[39m \u001b[38;5;28;43mself\u001b[39;49m\u001b[38;5;241;43m.\u001b[39;49m\u001b[43mtokenizer\u001b[49m\u001b[38;5;241;43m.\u001b[39;49m\u001b[43mencode\u001b[49m\u001b[43m(\u001b[49m\u001b[43m \u001b[49m\u001b[43mdata_file\u001b[49m\u001b[43m \u001b[49m\u001b[43m)\u001b[49m\n\u001b[1;32m     67\u001b[0m     \u001b[38;5;28;01mreturn\u001b[39;00m {\n\u001b[1;32m     68\u001b[0m         \u001b[38;5;124m'\u001b[39m\u001b[38;5;124minput_ids\u001b[39m\u001b[38;5;124m'\u001b[39m: encoded[\u001b[38;5;124m'\u001b[39m\u001b[38;5;124minput_ids\u001b[39m\u001b[38;5;124m'\u001b[39m],\n\u001b[1;32m     69\u001b[0m         \u001b[38;5;124m'\u001b[39m\u001b[38;5;124mattention_mask\u001b[39m\u001b[38;5;124m'\u001b[39m: encoded[\u001b[38;5;124m'\u001b[39m\u001b[38;5;124mattention_mask\u001b[39m\u001b[38;5;124m'\u001b[39m],\n\u001b[1;32m     70\u001b[0m         \u001b[38;5;124m'\u001b[39m\u001b[38;5;124mpianoroll\u001b[39m\u001b[38;5;124m'\u001b[39m: encoded[\u001b[38;5;124m'\u001b[39m\u001b[38;5;124mpianoroll\u001b[39m\u001b[38;5;124m'\u001b[39m],\n\u001b[1;32m     71\u001b[0m         \u001b[38;5;124m'\u001b[39m\u001b[38;5;124mtime_signature\u001b[39m\u001b[38;5;124m'\u001b[39m: encoded[\u001b[38;5;124m'\u001b[39m\u001b[38;5;124mtime_signature\u001b[39m\u001b[38;5;124m'\u001b[39m]\n\u001b[1;32m     72\u001b[0m     }\n",
      "File \u001b[0;32m/media/maindisk/maximos/repos/MaskedMelHarm/MLMDif_tokenizers.py:380\u001b[0m, in \u001b[0;36mCSMLMDifTokenizer.encode\u001b[0;34m(self, file_path)\u001b[0m\n\u001b[1;32m    378\u001b[0m     start \u001b[38;5;241m=\u001b[39m \u001b[38;5;28mint\u001b[39m(np\u001b[38;5;241m.\u001b[39mround(el\u001b[38;5;241m.\u001b[39moffset \u001b[38;5;241m/\u001b[39m ql_per_quantum))\n\u001b[1;32m    379\u001b[0m     \u001b[38;5;28;01mif\u001b[39;00m \u001b[38;5;241m0\u001b[39m \u001b[38;5;241m<\u001b[39m\u001b[38;5;241m=\u001b[39m start \u001b[38;5;241m<\u001b[39m \u001b[38;5;28mlen\u001b[39m(chord_tokens):\n\u001b[0;32m--> 380\u001b[0m         chord_tokens[start], chord_token_ids[start] \u001b[38;5;241m=\u001b[39m \u001b[38;5;28;43mself\u001b[39;49m\u001b[38;5;241;43m.\u001b[39;49m\u001b[43mhandle_chord_symbol\u001b[49m\u001b[43m(\u001b[49m\u001b[43mel\u001b[49m\u001b[43m)\u001b[49m\n\u001b[1;32m    382\u001b[0m \u001b[38;5;66;03m# Propagate chord forward\u001b[39;00m\n\u001b[1;32m    383\u001b[0m \u001b[38;5;28;01mfor\u001b[39;00m i \u001b[38;5;129;01min\u001b[39;00m \u001b[38;5;28mrange\u001b[39m(\u001b[38;5;241m1\u001b[39m, \u001b[38;5;28mlen\u001b[39m(chord_tokens)):\n",
      "File \u001b[0;32m/media/maindisk/maximos/repos/MaskedMelHarm/MLMDif_tokenizers.py:230\u001b[0m, in \u001b[0;36mCSMLMDifTokenizer.handle_chord_symbol\u001b[0;34m(self, h)\u001b[0m\n\u001b[1;32m    227\u001b[0m \u001b[38;5;28;01mdef\u001b[39;00m \u001b[38;5;21mhandle_chord_symbol\u001b[39m(\u001b[38;5;28mself\u001b[39m, h):\n\u001b[1;32m    228\u001b[0m     \u001b[38;5;66;03m# from chord symbol tokenizer for the time being\u001b[39;00m\n\u001b[1;32m    229\u001b[0m     \u001b[38;5;66;03m# Normalize and add the chord symbol\u001b[39;00m\n\u001b[0;32m--> 230\u001b[0m     root_token, type_token \u001b[38;5;241m=\u001b[39m \u001b[38;5;28;43mself\u001b[39;49m\u001b[38;5;241;43m.\u001b[39;49m\u001b[43mnormalize_chord_symbol\u001b[49m\u001b[43m(\u001b[49m\u001b[43mh\u001b[49m\u001b[43m)\u001b[49m\n\u001b[1;32m    231\u001b[0m     chord_token \u001b[38;5;241m=\u001b[39m root_token \u001b[38;5;241m+\u001b[39m (\u001b[38;5;28mlen\u001b[39m(type_token) \u001b[38;5;241m>\u001b[39m \u001b[38;5;241m0\u001b[39m)\u001b[38;5;241m*\u001b[39m\u001b[38;5;124m'\u001b[39m\u001b[38;5;124m:\u001b[39m\u001b[38;5;124m'\u001b[39m \u001b[38;5;241m+\u001b[39m type_token\n\u001b[1;32m    232\u001b[0m     \u001b[38;5;28;01mif\u001b[39;00m chord_token \u001b[38;5;129;01min\u001b[39;00m \u001b[38;5;28mself\u001b[39m\u001b[38;5;241m.\u001b[39mvocab:\n",
      "File \u001b[0;32m/media/maindisk/maximos/repos/MaskedMelHarm/MLMDif_tokenizers.py:222\u001b[0m, in \u001b[0;36mCSMLMDifTokenizer.normalize_chord_symbol\u001b[0;34m(self, chord_symbol)\u001b[0m\n\u001b[1;32m    220\u001b[0m \u001b[38;5;66;03m# Normalize root to sharp notation\u001b[39;00m\n\u001b[1;32m    221\u001b[0m root \u001b[38;5;241m=\u001b[39m \u001b[38;5;28mself\u001b[39m\u001b[38;5;241m.\u001b[39mnormalize_root_to_sharps(chord_symbol\u001b[38;5;241m.\u001b[39mroot()\u001b[38;5;241m.\u001b[39mname)  \u001b[38;5;66;03m# E.g., \"Db\" → \"C#\"\u001b[39;00m\n\u001b[0;32m--> 222\u001b[0m quality \u001b[38;5;241m=\u001b[39m \u001b[38;5;28;43mself\u001b[39;49m\u001b[38;5;241;43m.\u001b[39;49m\u001b[43mget_closest_mir_eval_symbol\u001b[49m\u001b[43m(\u001b[49m\u001b[43m \u001b[49m\u001b[43mchord_symbol\u001b[49m\u001b[43m \u001b[49m\u001b[43m)\u001b[49m\n\u001b[1;32m    223\u001b[0m \u001b[38;5;66;03m# Return the normalized chord symbol\u001b[39;00m\n\u001b[1;32m    224\u001b[0m \u001b[38;5;28;01mreturn\u001b[39;00m \u001b[38;5;124mf\u001b[39m\u001b[38;5;124m\"\u001b[39m\u001b[38;5;132;01m{\u001b[39;00mroot\u001b[38;5;132;01m}\u001b[39;00m\u001b[38;5;124m\"\u001b[39m, \u001b[38;5;124mf\u001b[39m\u001b[38;5;124m\"\u001b[39m\u001b[38;5;132;01m{\u001b[39;00mquality\u001b[38;5;132;01m}\u001b[39;00m\u001b[38;5;124m\"\u001b[39m\n",
      "File \u001b[0;32m/media/maindisk/maximos/repos/MaskedMelHarm/MLMDif_tokenizers.py:202\u001b[0m, in \u001b[0;36mCSMLMDifTokenizer.get_closest_mir_eval_symbol\u001b[0;34m(self, chord_symbol)\u001b[0m\n\u001b[1;32m    198\u001b[0m \u001b[38;5;28;01mdef\u001b[39;00m \u001b[38;5;21mget_closest_mir_eval_symbol\u001b[39m(\u001b[38;5;28mself\u001b[39m, chord_symbol):\n\u001b[1;32m    199\u001b[0m     \u001b[38;5;66;03m# get binary type representation\u001b[39;00m\n\u001b[1;32m    200\u001b[0m     \u001b[38;5;66;03m# transpose to c major\u001b[39;00m\n\u001b[1;32m    201\u001b[0m     ti \u001b[38;5;241m=\u001b[39m interval\u001b[38;5;241m.\u001b[39mInterval( chord_symbol\u001b[38;5;241m.\u001b[39mroot(), pitch\u001b[38;5;241m.\u001b[39mPitch(\u001b[38;5;124m'\u001b[39m\u001b[38;5;124mC\u001b[39m\u001b[38;5;124m'\u001b[39m) )\n\u001b[0;32m--> 202\u001b[0m     tc \u001b[38;5;241m=\u001b[39m \u001b[43mchord_symbol\u001b[49m\u001b[38;5;241;43m.\u001b[39;49m\u001b[43mtranspose\u001b[49m\u001b[43m(\u001b[49m\u001b[43mti\u001b[49m\u001b[43m)\u001b[49m\n\u001b[1;32m    203\u001b[0m     \u001b[38;5;66;03m# make binary\u001b[39;00m\n\u001b[1;32m    204\u001b[0m     b \u001b[38;5;241m=\u001b[39m np\u001b[38;5;241m.\u001b[39mzeros(\u001b[38;5;241m12\u001b[39m)\n",
      "File \u001b[0;32m~/miniconda3/envs/torch/lib/python3.12/site-packages/music21/harmony.py:2393\u001b[0m, in \u001b[0;36mChordSymbol.transpose\u001b[0;34m(self, value, inPlace)\u001b[0m\n\u001b[1;32m   2377\u001b[0m \u001b[38;5;28;01mdef\u001b[39;00m \u001b[38;5;21mtranspose\u001b[39m(\u001b[38;5;28mself\u001b[39m: T, value, \u001b[38;5;241m*\u001b[39m, inPlace\u001b[38;5;241m=\u001b[39m\u001b[38;5;28;01mFalse\u001b[39;00m) \u001b[38;5;241m-\u001b[39m\u001b[38;5;241m>\u001b[39m T \u001b[38;5;241m|\u001b[39m \u001b[38;5;28;01mNone\u001b[39;00m:\n\u001b[1;32m   2378\u001b[0m \u001b[38;5;250m    \u001b[39m\u001b[38;5;124;03m'''\u001b[39;00m\n\u001b[1;32m   2379\u001b[0m \u001b[38;5;124;03m    Overrides :meth:`~music21.chord.Chord.transpose` so that this ChordSymbol's\u001b[39;00m\n\u001b[1;32m   2380\u001b[0m \u001b[38;5;124;03m    `figure` is appropriately cleared afterward.\u001b[39;00m\n\u001b[0;32m   (...)\u001b[0m\n\u001b[1;32m   2391\u001b[0m \u001b[38;5;124;03m    'Dm'\u001b[39;00m\n\u001b[1;32m   2392\u001b[0m \u001b[38;5;124;03m    '''\u001b[39;00m\n\u001b[0;32m-> 2393\u001b[0m     post \u001b[38;5;241m=\u001b[39m \u001b[38;5;28;43msuper\u001b[39;49m\u001b[43m(\u001b[49m\u001b[43m)\u001b[49m\u001b[38;5;241;43m.\u001b[39;49m\u001b[43mtranspose\u001b[49m\u001b[43m(\u001b[49m\u001b[43mvalue\u001b[49m\u001b[43m,\u001b[49m\u001b[43m \u001b[49m\u001b[43minPlace\u001b[49m\u001b[38;5;241;43m=\u001b[39;49m\u001b[43minPlace\u001b[49m\u001b[43m)\u001b[49m\n\u001b[1;32m   2394\u001b[0m     \u001b[38;5;28;01mif\u001b[39;00m \u001b[38;5;129;01mnot\u001b[39;00m inPlace:\n\u001b[1;32m   2395\u001b[0m         post\u001b[38;5;241m.\u001b[39mfigure \u001b[38;5;241m=\u001b[39m \u001b[38;5;28;01mNone\u001b[39;00m\n",
      "File \u001b[0;32m~/miniconda3/envs/torch/lib/python3.12/site-packages/music21/chord/__init__.py:4720\u001b[0m, in \u001b[0;36mChord.transpose\u001b[0;34m(self, value, inPlace)\u001b[0m\n\u001b[1;32m   4718\u001b[0m \u001b[38;5;66;03m# call transpose on component Notes\u001b[39;00m\n\u001b[1;32m   4719\u001b[0m \u001b[38;5;28;01mfor\u001b[39;00m n \u001b[38;5;129;01min\u001b[39;00m post\u001b[38;5;241m.\u001b[39m_notes:\n\u001b[0;32m-> 4720\u001b[0m     \u001b[43mn\u001b[49m\u001b[38;5;241;43m.\u001b[39;49m\u001b[43mtranspose\u001b[49m\u001b[43m(\u001b[49m\u001b[43mintervalObj\u001b[49m\u001b[43m,\u001b[49m\u001b[43m \u001b[49m\u001b[43minPlace\u001b[49m\u001b[38;5;241;43m=\u001b[39;49m\u001b[38;5;28;43;01mTrue\u001b[39;49;00m\u001b[43m)\u001b[49m\n\u001b[1;32m   4721\u001b[0m \u001b[38;5;66;03m# for p in post.pitches:\u001b[39;00m\n\u001b[1;32m   4722\u001b[0m \u001b[38;5;66;03m#     # we are either operating on self or a copy; always use inPlace\u001b[39;00m\n\u001b[1;32m   4723\u001b[0m \u001b[38;5;66;03m#     p.transpose(intervalObj, inPlace=True)\u001b[39;00m\n\u001b[1;32m   4724\u001b[0m \u001b[38;5;66;03m#     # pitches.append(intervalObj.transposePitch(p))\u001b[39;00m\n\u001b[1;32m   4725\u001b[0m \u001b[38;5;28;01mif\u001b[39;00m \u001b[38;5;129;01mnot\u001b[39;00m inPlace:\n",
      "File \u001b[0;32m~/miniconda3/envs/torch/lib/python3.12/site-packages/music21/note.py:1759\u001b[0m, in \u001b[0;36mNote.transpose\u001b[0;34m(self, value, inPlace)\u001b[0m\n\u001b[1;32m   1755\u001b[0m     post \u001b[38;5;241m=\u001b[39m \u001b[38;5;28mself\u001b[39m\n\u001b[1;32m   1757\u001b[0m \u001b[38;5;66;03m# use inPlace, b/c if we are inPlace, we operate on self;\u001b[39;00m\n\u001b[1;32m   1758\u001b[0m \u001b[38;5;66;03m# if we are not inPlace, post is a copy\u001b[39;00m\n\u001b[0;32m-> 1759\u001b[0m \u001b[43mpost\u001b[49m\u001b[38;5;241;43m.\u001b[39;49m\u001b[43mpitch\u001b[49m\u001b[38;5;241;43m.\u001b[39;49m\u001b[43mtranspose\u001b[49m\u001b[43m(\u001b[49m\u001b[43mintervalObj\u001b[49m\u001b[43m,\u001b[49m\u001b[43m \u001b[49m\u001b[43minPlace\u001b[49m\u001b[38;5;241;43m=\u001b[39;49m\u001b[38;5;28;43;01mTrue\u001b[39;49;00m\u001b[43m)\u001b[49m\n\u001b[1;32m   1760\u001b[0m \u001b[38;5;28;01mif\u001b[39;00m (post\u001b[38;5;241m.\u001b[39mpitch\u001b[38;5;241m.\u001b[39maccidental \u001b[38;5;129;01mis\u001b[39;00m \u001b[38;5;129;01mnot\u001b[39;00m \u001b[38;5;28;01mNone\u001b[39;00m\n\u001b[1;32m   1761\u001b[0m         \u001b[38;5;129;01mand\u001b[39;00m \u001b[38;5;28misinstance\u001b[39m(value, (\u001b[38;5;28mint\u001b[39m, interval\u001b[38;5;241m.\u001b[39mChromaticInterval))):\n\u001b[1;32m   1762\u001b[0m     ksContext \u001b[38;5;241m=\u001b[39m \u001b[38;5;28mself\u001b[39m\u001b[38;5;241m.\u001b[39mgetContextByClass(key\u001b[38;5;241m.\u001b[39mKeySignature)\n",
      "File \u001b[0;32m~/miniconda3/envs/torch/lib/python3.12/site-packages/music21/pitch.py:4624\u001b[0m, in \u001b[0;36mPitch.transpose\u001b[0;34m(self, value, inPlace)\u001b[0m\n\u001b[1;32m   4621\u001b[0m \u001b[38;5;28;01melse\u001b[39;00m:  \u001b[38;5;66;03m# try to process\u001b[39;00m\n\u001b[1;32m   4622\u001b[0m     intervalObj \u001b[38;5;241m=\u001b[39m interval\u001b[38;5;241m.\u001b[39mInterval(value)\n\u001b[0;32m-> 4624\u001b[0m p \u001b[38;5;241m=\u001b[39m \u001b[43mintervalObj\u001b[49m\u001b[38;5;241;43m.\u001b[39;49m\u001b[43mtransposePitch\u001b[49m\u001b[43m(\u001b[49m\u001b[38;5;28;43mself\u001b[39;49m\u001b[43m)\u001b[49m\n\u001b[1;32m   4625\u001b[0m \u001b[38;5;28;01mif\u001b[39;00m \u001b[38;5;129;01mnot\u001b[39;00m \u001b[38;5;28misinstance\u001b[39m(value, \u001b[38;5;28mint\u001b[39m):\n\u001b[1;32m   4626\u001b[0m     p\u001b[38;5;241m.\u001b[39mspellingIsInferred \u001b[38;5;241m=\u001b[39m \u001b[38;5;28mself\u001b[39m\u001b[38;5;241m.\u001b[39mspellingIsInferred\n",
      "File \u001b[0;32m~/miniconda3/envs/torch/lib/python3.12/site-packages/music21/interval.py:3415\u001b[0m, in \u001b[0;36mInterval.transposePitch\u001b[0;34m(self, p, reverse, maxAccidental, inPlace)\u001b[0m\n\u001b[1;32m   3410\u001b[0m     pOut \u001b[38;5;241m=\u001b[39m \u001b[38;5;28mself\u001b[39m\u001b[38;5;241m.\u001b[39mchromatic\u001b[38;5;241m.\u001b[39mtransposePitch(\n\u001b[1;32m   3411\u001b[0m         p,\n\u001b[1;32m   3412\u001b[0m         inPlace\u001b[38;5;241m=\u001b[39minPlace,\n\u001b[1;32m   3413\u001b[0m     )\n\u001b[1;32m   3414\u001b[0m \u001b[38;5;28;01melse\u001b[39;00m:\n\u001b[0;32m-> 3415\u001b[0m     pOut \u001b[38;5;241m=\u001b[39m \u001b[38;5;28;43mself\u001b[39;49m\u001b[38;5;241;43m.\u001b[39;49m\u001b[43m_diatonicTransposePitch\u001b[49m\u001b[43m(\u001b[49m\n\u001b[1;32m   3416\u001b[0m \u001b[43m        \u001b[49m\u001b[43mp\u001b[49m\u001b[43m,\u001b[49m\n\u001b[1;32m   3417\u001b[0m \u001b[43m        \u001b[49m\u001b[43mmaxAccidental\u001b[49m\u001b[38;5;241;43m=\u001b[39;49m\u001b[43mmaxAccidental\u001b[49m\u001b[43m,\u001b[49m\n\u001b[1;32m   3418\u001b[0m \u001b[43m        \u001b[49m\u001b[43minPlace\u001b[49m\u001b[38;5;241;43m=\u001b[39;49m\u001b[43minPlace\u001b[49m\n\u001b[1;32m   3419\u001b[0m \u001b[43m    \u001b[49m\u001b[43m)\u001b[49m\n\u001b[1;32m   3421\u001b[0m \u001b[38;5;28;01mif\u001b[39;00m p\u001b[38;5;241m.\u001b[39mfundamental \u001b[38;5;129;01mis\u001b[39;00m \u001b[38;5;129;01mnot\u001b[39;00m \u001b[38;5;28;01mNone\u001b[39;00m:\n\u001b[1;32m   3422\u001b[0m     \u001b[38;5;66;03m# recursively call method\u001b[39;00m\n\u001b[1;32m   3423\u001b[0m     pOut\u001b[38;5;241m.\u001b[39mfundamental \u001b[38;5;241m=\u001b[39m \u001b[38;5;28mself\u001b[39m\u001b[38;5;241m.\u001b[39mtransposePitch(\n\u001b[1;32m   3424\u001b[0m         p\u001b[38;5;241m.\u001b[39mfundamental,\n\u001b[1;32m   3425\u001b[0m         maxAccidental\u001b[38;5;241m=\u001b[39mmaxAccidental,\n\u001b[1;32m   3426\u001b[0m     )\n",
      "File \u001b[0;32m~/miniconda3/envs/torch/lib/python3.12/site-packages/music21/interval.py:3471\u001b[0m, in \u001b[0;36mInterval._diatonicTransposePitch\u001b[0;34m(self, p, maxAccidental, inPlace)\u001b[0m\n\u001b[1;32m   3469\u001b[0m pitch2\u001b[38;5;241m.\u001b[39maccidental \u001b[38;5;241m=\u001b[39m \u001b[38;5;28;01mNone\u001b[39;00m\n\u001b[1;32m   3470\u001b[0m \u001b[38;5;66;03m# if this is not set to None then terrible things happen\u001b[39;00m\n\u001b[0;32m-> 3471\u001b[0m \u001b[43mpitch2\u001b[49m\u001b[38;5;241;43m.\u001b[39;49m\u001b[43mmicrotone\u001b[49m \u001b[38;5;241m=\u001b[39m \u001b[38;5;28;01mNone\u001b[39;00m  \u001b[38;5;66;03m# type: ignore\u001b[39;00m\n\u001b[1;32m   3473\u001b[0m \u001b[38;5;66;03m# We have the right note name but not the right accidental\u001b[39;00m\n\u001b[1;32m   3474\u001b[0m interval2 \u001b[38;5;241m=\u001b[39m Interval(pitch1, pitch2)\n",
      "File \u001b[0;32m~/miniconda3/envs/torch/lib/python3.12/site-packages/music21/pitch.py:2275\u001b[0m, in \u001b[0;36mPitch.microtone\u001b[0;34m(self, value)\u001b[0m\n\u001b[1;32m   2273\u001b[0m     \u001b[38;5;28mself\u001b[39m\u001b[38;5;241m.\u001b[39m_microtone \u001b[38;5;241m=\u001b[39m Microtone(value)\n\u001b[1;32m   2274\u001b[0m \u001b[38;5;28;01melif\u001b[39;00m value \u001b[38;5;129;01mis\u001b[39;00m \u001b[38;5;28;01mNone\u001b[39;00m:  \u001b[38;5;66;03m# set to zero\u001b[39;00m\n\u001b[0;32m-> 2275\u001b[0m     \u001b[38;5;28mself\u001b[39m\u001b[38;5;241m.\u001b[39m_microtone \u001b[38;5;241m=\u001b[39m \u001b[43mMicrotone\u001b[49m\u001b[43m(\u001b[49m\u001b[38;5;241;43m0\u001b[39;49m\u001b[43m)\u001b[49m\n\u001b[1;32m   2276\u001b[0m \u001b[38;5;28;01melif\u001b[39;00m \u001b[38;5;28misinstance\u001b[39m(value, Microtone):\n\u001b[1;32m   2277\u001b[0m     \u001b[38;5;28mself\u001b[39m\u001b[38;5;241m.\u001b[39m_microtone \u001b[38;5;241m=\u001b[39m value\n",
      "File \u001b[0;32m~/miniconda3/envs/torch/lib/python3.12/site-packages/music21/pitch.py:788\u001b[0m, in \u001b[0;36mMicrotone.__init__\u001b[0;34m(self, centsOrString, harmonicShift)\u001b[0m\n\u001b[1;32m    781\u001b[0m \u001b[38;5;18m__slots__\u001b[39m \u001b[38;5;241m=\u001b[39m (\n\u001b[1;32m    782\u001b[0m     \u001b[38;5;124m'\u001b[39m\u001b[38;5;124m_centShift\u001b[39m\u001b[38;5;124m'\u001b[39m,\n\u001b[1;32m    783\u001b[0m     \u001b[38;5;124m'\u001b[39m\u001b[38;5;124m_harmonicShift\u001b[39m\u001b[38;5;124m'\u001b[39m,\n\u001b[1;32m    784\u001b[0m )\n\u001b[1;32m    786\u001b[0m \u001b[38;5;66;03m# INITIALIZER #\u001b[39;00m\n\u001b[0;32m--> 788\u001b[0m \u001b[38;5;28;01mdef\u001b[39;00m \u001b[38;5;21m__init__\u001b[39m(\u001b[38;5;28mself\u001b[39m,\n\u001b[1;32m    789\u001b[0m              centsOrString: \u001b[38;5;28mstr\u001b[39m \u001b[38;5;241m|\u001b[39m \u001b[38;5;28mint\u001b[39m \u001b[38;5;241m|\u001b[39m \u001b[38;5;28mfloat\u001b[39m \u001b[38;5;241m=\u001b[39m \u001b[38;5;241m0\u001b[39m,\n\u001b[1;32m    790\u001b[0m              harmonicShift\u001b[38;5;241m=\u001b[39m\u001b[38;5;241m1\u001b[39m):\n\u001b[1;32m    791\u001b[0m     \u001b[38;5;28mself\u001b[39m\u001b[38;5;241m.\u001b[39m_centShift: \u001b[38;5;28mint\u001b[39m \u001b[38;5;241m|\u001b[39m \u001b[38;5;28mfloat\u001b[39m \u001b[38;5;241m=\u001b[39m \u001b[38;5;241m0\u001b[39m\n\u001b[1;32m    792\u001b[0m     \u001b[38;5;28mself\u001b[39m\u001b[38;5;241m.\u001b[39m_harmonicShift: \u001b[38;5;28mint\u001b[39m \u001b[38;5;241m=\u001b[39m harmonicShift  \u001b[38;5;66;03m# the first harmonic is the start\u001b[39;00m\n",
      "\u001b[0;31mKeyboardInterrupt\u001b[0m: "
     ]
    }
   ],
   "source": [
    "from torch.optim import AdamW\n",
    "spacing_schedule = [16, 8, 4]\n",
    "mask_token_id = tokenizer.mask_token_id  # <mask> token index\n",
    "\n",
    "lr = 0.00005\n",
    "optimizer = AdamW(model.parameters(), lr=lr)\n",
    "\n",
    "train_with_curriculum(\n",
    "    model=model,\n",
    "    optimizer=optimizer,\n",
    "    dataloader=trainloader,\n",
    "    loss_fn=torch.nn.CrossEntropyLoss(ignore_index=-100),\n",
    "    spacing_schedule=spacing_schedule,\n",
    "    mask_token_id=mask_token_id,\n",
    "    epochs=20,\n",
    "    curriculum_type=\"mixed\",  # or \"linear\"\n",
    "    epochs_per_stage=3        # only for linear\n",
    ")\n"
   ]
  }
 ],
 "metadata": {
  "kernelspec": {
   "display_name": "torch",
   "language": "python",
   "name": "python3"
  },
  "language_info": {
   "codemirror_mode": {
    "name": "ipython",
    "version": 3
   },
   "file_extension": ".py",
   "mimetype": "text/x-python",
   "name": "python",
   "nbconvert_exporter": "python",
   "pygments_lexer": "ipython3",
   "version": "3.12.2"
  }
 },
 "nbformat": 4,
 "nbformat_minor": 5
}
