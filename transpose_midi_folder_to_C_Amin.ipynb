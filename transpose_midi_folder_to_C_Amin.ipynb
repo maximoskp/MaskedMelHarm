{
 "cells": [
  {
   "cell_type": "code",
   "execution_count": 13,
   "metadata": {},
   "outputs": [],
   "source": [
    "from music21 import converter, key, interval\n",
    "from tqdm import tqdm\n",
    "import os"
   ]
  },
  {
   "cell_type": "code",
   "execution_count": 14,
   "metadata": {},
   "outputs": [],
   "source": [
    "import os\n",
    "from music21 import converter, key, interval\n",
    "\n",
    "def transpose_to_c_major_a_minor_bulk(input_root, output_root):\n",
    "    \"\"\"\n",
    "    Recursively transposes all MIDI (.midi or .mid) files in the input directory to C major or A minor,\n",
    "    and saves them in the output directory, preserving the folder structure.\n",
    "\n",
    "    Args:\n",
    "        input_root (str): Root directory containing the input files.\n",
    "        output_root (str): Root directory to save the transposed files.\n",
    "    \"\"\"\n",
    "    # Collect all .mid or .midi files and their relative paths\n",
    "    midi_files = []\n",
    "    for root, _, files in os.walk(input_root):\n",
    "        for file in files:\n",
    "            if file.endswith('.mid') or file.endswith('.midi'):\n",
    "                input_path = os.path.join(root, file)\n",
    "                relative_path = os.path.relpath(root, input_root)  # Subfolder path relative to input root\n",
    "                output_dir = os.path.join(output_root, relative_path)\n",
    "                os.makedirs(output_dir, exist_ok=True)  # Create the output subfolder if it doesn't exist\n",
    "                output_path = os.path.join(output_dir, file)\n",
    "                midi_files.append((input_path, output_path))\n",
    "    \n",
    "    # Process files with a progress bar\n",
    "    for input_path, output_path in tqdm(midi_files, desc=\"Processing files\", unit=\"file\"):\n",
    "        try:\n",
    "            transpose_to_c_major_a_minor_single(input_path, output_path)\n",
    "        except Exception as e:\n",
    "            print(f\"Error processing {input_path}: {e}\")\n",
    "# end transpose_to_c_major_a_minor_bulk\n",
    "\n",
    "def transpose_to_c_major_a_minor_single(input_path, output_path):\n",
    "    \"\"\"\n",
    "    Transposes a single MIDI file to C major or A minor if necessary, and saves the result.\n",
    "\n",
    "    Args:\n",
    "        input_path (str): Path to the input MusicXML file.\n",
    "        output_path (str): Path to save the transposed MusicXML file.\n",
    "    \"\"\"\n",
    "    # Load the MIDI file\n",
    "    score = converter.parse(input_path)\n",
    "    \n",
    "    # Analyze the key\n",
    "    original_key = score.analyze('key')\n",
    "    # print(f\"Processing {input_path} | Original key: {original_key}\")\n",
    "    \n",
    "    # Check if the key is already C major or A minor\n",
    "    if (original_key.tonic.name == 'C' and original_key.mode == 'major') or \\\n",
    "       (original_key.tonic.name == 'A' and original_key.mode == 'minor'):\n",
    "        # print(f\"The piece is already in C major or A minor. Skipping {input_path}.\")\n",
    "        return\n",
    "    \n",
    "    # Determine the target key (C major or A minor)\n",
    "    target_key = key.Key('C') if original_key.mode == 'major' else key.Key('A')\n",
    "    \n",
    "    # Calculate the transposition interval\n",
    "    transposition_interval = interval.Interval(original_key.tonic, target_key.tonic)\n",
    "    \n",
    "    # Transpose the score\n",
    "    transposed_score = score.transpose(transposition_interval)\n",
    "\n",
    "    # for harmony in transposed_score.recurse().getElementsByClass('Harmony'):\n",
    "    #     print(f\"Chord: {harmony.figure}, Bass: {harmony.bass()}\")\n",
    "\n",
    "    for harmony in transposed_score.recurse().getElementsByClass('Harmony'):\n",
    "        if '/' in harmony.figure:  # Check for slash chords\n",
    "            root, bass = harmony.figure.split('/')\n",
    "            harmony.figure = f\"{root}/{bass}\"\n",
    "        elif harmony.bass():  # Ensure inversion info is retained\n",
    "            harmony.figure = f\"{harmony.figure}/{harmony.bass().name}\"\n",
    "    \n",
    "    # Save the transposed score to the output file\n",
    "    # transposed_score.write('musicxml', fp=output_path)\n",
    "    transposed_score.write('midi', fp=output_path)\n",
    "    # print(f\"Transposed score saved to {output_path}\")\n",
    "# end transpose_to_c_major_a_minor_single"
   ]
  },
  {
   "cell_type": "code",
   "execution_count": 15,
   "metadata": {},
   "outputs": [
    {
     "name": "stderr",
     "output_type": "stream",
     "text": [
      "Processing files: 100%|██████████| 16890/16890 [24:06<00:00, 11.67file/s]\n"
     ]
    }
   ],
   "source": [
    "# Example usage\n",
    "input_root = '/media/maindisk/data/hooktheory_midi_hr/key_train'\n",
    "output_root = '/media/maindisk/data/hooktheory_midi_hr/CA_train'\n",
    "transpose_to_c_major_a_minor_bulk(input_root, output_root)"
   ]
  },
  {
   "cell_type": "code",
   "execution_count": 16,
   "metadata": {},
   "outputs": [
    {
     "name": "stderr",
     "output_type": "stream",
     "text": [
      "Processing files:   0%|          | 0/889 [00:00<?, ?file/s]"
     ]
    },
    {
     "name": "stderr",
     "output_type": "stream",
     "text": [
      "Processing files: 100%|██████████| 889/889 [01:15<00:00, 11.70file/s]\n"
     ]
    }
   ],
   "source": [
    "input_root = '/media/maindisk/data/hooktheory_midi_hr/key_test'\n",
    "output_root = '/media/maindisk/data/hooktheory_midi_hr/CA_test'\n",
    "transpose_to_c_major_a_minor_bulk(input_root, output_root)"
   ]
  }
 ],
 "metadata": {
  "kernelspec": {
   "display_name": "torch",
   "language": "python",
   "name": "python3"
  },
  "language_info": {
   "codemirror_mode": {
    "name": "ipython",
    "version": 3
   },
   "file_extension": ".py",
   "mimetype": "text/x-python",
   "name": "python",
   "nbconvert_exporter": "python",
   "pygments_lexer": "ipython3",
   "version": "3.12.2"
  }
 },
 "nbformat": 4,
 "nbformat_minor": 2
}
