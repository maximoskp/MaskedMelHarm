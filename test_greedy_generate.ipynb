{
 "cells": [
  {
   "cell_type": "code",
   "execution_count": null,
   "id": "8627d4e9",
   "metadata": {},
   "outputs": [],
   "source": [
    "import torch\n",
    "import torch.nn as nn\n",
    "from models import GridMLMMelHarm\n",
    "from GridMLM_tokenizers import CSGridMLMTokenizer\n",
    "from data_utils import CSGridMLMDataset, CSGridMLM_collate_fn\n",
    "from torch.utils.data import DataLoader\n",
    "from train_utils import apply_masking\n",
    "from generate_utils import generate_files_with_greedy, generate_files_with_beam, load_model\n",
    "import matplotlib.pyplot as plt"
   ]
  },
  {
   "cell_type": "code",
   "execution_count": null,
   "id": "bcb7729f",
   "metadata": {},
   "outputs": [],
   "source": [
    "# tokenizer = CSGridMLMTokenizer(fixed_length=256, intertwine_bar_info=True, trim_start=False)\n",
    "tokenizer = CSGridMLMTokenizer(fixed_length=80, quantization='4th', intertwine_bar_info=True, trim_start=False)\n",
    "val_dir = '/media/maindisk/data/hooktheory_midi_hr/CA_test'"
   ]
  },
  {
   "cell_type": "code",
   "execution_count": null,
   "id": "71afabd4",
   "metadata": {},
   "outputs": [],
   "source": [
    "curriculum_type = 'random'\n",
    "# curriculum_type = 'base2'\n",
    "subfolder = 'bar_qt/CA'\n",
    "device_name = 'cuda:2'\n",
    "model = load_model(\n",
    "    curriculum_type=curriculum_type,\n",
    "    subfolder=subfolder,\n",
    "    device_name=device_name,\n",
    "    tokenizer=tokenizer,\n",
    "    conditioning_dim=8,\n",
    "    total_stages=10,\n",
    "    pianoroll_dim=tokenizer.pianoroll_dim,\n",
    "    grid_length=80,\n",
    ")"
   ]
  },
  {
   "cell_type": "code",
   "execution_count": null,
   "id": "bbfca772",
   "metadata": {},
   "outputs": [],
   "source": [
    "def count_parameters(model):\n",
    "    return sum(p.numel() for p in model.parameters() if p.requires_grad)\n",
    "print(count_parameters(model))"
   ]
  },
  {
   "cell_type": "code",
   "execution_count": null,
   "id": "273d3e4f",
   "metadata": {},
   "outputs": [],
   "source": [
    "import os\n",
    "data_files = []\n",
    "for dirpath, _, filenames in os.walk(val_dir):\n",
    "    for file in filenames:\n",
    "        if file.endswith('.xml') or file.endswith('.mxl') or file.endswith('.musicxml') \\\n",
    "            or file.endswith('.mid') or file.endswith('.midi'):\n",
    "            full_path = os.path.join(dirpath, file)\n",
    "            data_files.append(full_path)\n",
    "print(len(data_files))"
   ]
  },
  {
   "cell_type": "code",
   "execution_count": null,
   "id": "7a6c58b8",
   "metadata": {},
   "outputs": [],
   "source": [
    "# val_idx = 402\n",
    "# val_idx = 401\n",
    "val_idx = 400\n",
    "# val_idx = 300 # besame\n",
    "# TODO: check out 200, it has a problem rendering to file\n",
    "# val_idx = 200\n",
    "\n",
    "input_f = data_files[val_idx]\n",
    "# input_f = 'example_inputs/test_midi_constraints.mid'\n",
    "\n",
    "mxl_folder = 'examples_musicXML/' + subfolder + '/' + curriculum_type + '/' + '/'\n",
    "midi_folder = 'examples_MIDI/' + subfolder + '/' + curriculum_type + '/' + '/'\n",
    "os.makedirs(mxl_folder, exist_ok=True)\n",
    "os.makedirs(midi_folder, exist_ok=True)\n",
    "\n",
    "# gen_harm, real_harm, gen_score, real_score, avg_diffs = generate_files_with_greedy(\n",
    "gen_harm, real_harm, gen_score, real_score, avg_diffs = generate_files_with_beam(\n",
    "    model=model,\n",
    "    tokenizer=tokenizer,\n",
    "    input_f=input_f,\n",
    "    mxl_folder=mxl_folder,\n",
    "    midi_folder=midi_folder,\n",
    "    name_suffix='bar_test',\n",
    "    intertwine_bar_info=True,\n",
    "    trim_start=False,\n",
    "    use_constraints=False,\n",
    "    condition='h_density_complexity',\n",
    "    force_condition=None, # [1,0,0,0,1,0,0,0],\n",
    "    temperature=1.0,\n",
    "    beam_size=3,\n",
    "    top_k=3\n",
    ")"
   ]
  },
  {
   "cell_type": "code",
   "execution_count": null,
   "id": "723f9858",
   "metadata": {},
   "outputs": [],
   "source": [
    "plt.plot(avg_diffs)"
   ]
  },
  {
   "cell_type": "code",
   "execution_count": null,
   "id": "5f386f11",
   "metadata": {},
   "outputs": [],
   "source": [
    "harm_string = '_'.join( gen_harm )\n",
    "# print(gen_harm)\n",
    "harm_bars = harm_string.split( '<bar>_' )\n",
    "for h in harm_bars:\n",
    "    print(h)"
   ]
  },
  {
   "cell_type": "code",
   "execution_count": null,
   "id": "a813c328",
   "metadata": {},
   "outputs": [],
   "source": [
    "harm_string = '_'.join( real_harm )\n",
    "# print(gen_harm)\n",
    "harm_bars = harm_string.split( '<bar>_' )\n",
    "for h in harm_bars:\n",
    "    print(h)"
   ]
  }
 ],
 "metadata": {
  "kernelspec": {
   "display_name": "torch",
   "language": "python",
   "name": "python3"
  },
  "language_info": {
   "codemirror_mode": {
    "name": "ipython",
    "version": 3
   },
   "file_extension": ".py",
   "mimetype": "text/x-python",
   "name": "python",
   "nbconvert_exporter": "python",
   "pygments_lexer": "ipython3",
   "version": "3.12.2"
  }
 },
 "nbformat": 4,
 "nbformat_minor": 5
}
