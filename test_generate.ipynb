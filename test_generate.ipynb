{
 "cells": [
  {
   "cell_type": "code",
   "execution_count": 1,
   "id": "1e491e19",
   "metadata": {},
   "outputs": [
    {
     "name": "stderr",
     "output_type": "stream",
     "text": [
      "/home/maximos/miniconda3/envs/torch/lib/python3.12/site-packages/tqdm/auto.py:21: TqdmWarning: IProgress not found. Please update jupyter and ipywidgets. See https://ipywidgets.readthedocs.io/en/stable/user_install.html\n",
      "  from .autonotebook import tqdm as notebook_tqdm\n"
     ]
    }
   ],
   "source": [
    "import torch\n",
    "import torch.nn as nn\n",
    "from models import GridMLMMelHarm\n",
    "from GridMLM_tokenizers import CSGridMLMTokenizer\n",
    "from data_utils import CSGridMLMDataset, CSGridMLM_collate_fn\n",
    "from torch.utils.data import DataLoader\n",
    "from train_utils import apply_masking\n",
    "from generate_utils import random_progressive_generate, structured_progressive_generate"
   ]
  },
  {
   "cell_type": "code",
   "execution_count": 2,
   "id": "6ad30c26",
   "metadata": {},
   "outputs": [],
   "source": [
    "batchsize = 1\n",
    "val_dir = '/media/maindisk/maximos/data/hooktheory_all12_test'\n",
    "tokenizer = CSGridMLMTokenizer(fixed_length=256)\n",
    "val_dataset = CSGridMLMDataset(val_dir, tokenizer, 512)\n",
    "valloader = DataLoader(val_dataset, batch_size=batchsize, shuffle=False, collate_fn=CSGridMLM_collate_fn)"
   ]
  },
  {
   "cell_type": "code",
   "execution_count": 3,
   "id": "6845a169",
   "metadata": {},
   "outputs": [],
   "source": [
    "mask_token_id = tokenizer.mask_token_id\n",
    "stage = 0"
   ]
  },
  {
   "cell_type": "code",
   "execution_count": 4,
   "id": "02945c83",
   "metadata": {},
   "outputs": [
    {
     "data": {
      "text/plain": [
       "GridMLMMelHarm(\n",
       "  (condition_proj): Linear(in_features=16, out_features=512, bias=True)\n",
       "  (melody_proj): Linear(in_features=100, out_features=512, bias=True)\n",
       "  (harmony_embedding): Embedding(354, 512)\n",
       "  (dropout): Dropout(p=0.3, inplace=False)\n",
       "  (stage_embedding): Embedding(10, 64)\n",
       "  (stage_proj): Linear(in_features=576, out_features=512, bias=True)\n",
       "  (encoder): TransformerEncoder(\n",
       "    (layers): ModuleList(\n",
       "      (0-7): 8 x TransformerEncoderLayer(\n",
       "        (self_attn): MultiheadAttention(\n",
       "          (out_proj): NonDynamicallyQuantizableLinear(in_features=512, out_features=512, bias=True)\n",
       "        )\n",
       "        (linear1): Linear(in_features=512, out_features=2048, bias=True)\n",
       "        (dropout): Dropout(p=0.3, inplace=False)\n",
       "        (linear2): Linear(in_features=2048, out_features=512, bias=True)\n",
       "        (norm1): LayerNorm((512,), eps=1e-05, elementwise_affine=True)\n",
       "        (norm2): LayerNorm((512,), eps=1e-05, elementwise_affine=True)\n",
       "        (dropout1): Dropout(p=0.3, inplace=False)\n",
       "        (dropout2): Dropout(p=0.3, inplace=False)\n",
       "      )\n",
       "    )\n",
       "  )\n",
       "  (output_head): Linear(in_features=512, out_features=354, bias=True)\n",
       "  (input_norm): LayerNorm((512,), eps=1e-05, elementwise_affine=True)\n",
       "  (output_norm): LayerNorm((512,), eps=1e-05, elementwise_affine=True)\n",
       ")"
      ]
     },
     "execution_count": 4,
     "metadata": {},
     "output_type": "execute_result"
    }
   ],
   "source": [
    "curriculum_type = 'random'\n",
    "device_name = 'cuda:1'\n",
    "if device_name == 'cpu':\n",
    "    device = torch.device('cpu')\n",
    "else:\n",
    "    if torch.cuda.is_available():\n",
    "        device = torch.device(device_name)\n",
    "    else:\n",
    "        print('Selected device not available: ' + device_name)\n",
    "model = GridMLMMelHarm(\n",
    "    chord_vocab_size=len(tokenizer.vocab),\n",
    "    device=device\n",
    ")\n",
    "model_path = 'saved_models/' + curriculum_type +  '.pt'\n",
    "# checkpoint = torch.load(model_path, map_location=device_name, weights_only=True)\n",
    "checkpoint = torch.load(model_path, map_location=device_name)\n",
    "model.load_state_dict(checkpoint)\n",
    "model.eval()\n",
    "model.to(device)"
   ]
  },
  {
   "cell_type": "code",
   "execution_count": 5,
   "id": "bfa1cf9a",
   "metadata": {},
   "outputs": [
    {
     "name": "stderr",
     "output_type": "stream",
     "text": [
      "/home/maximos/miniconda3/envs/torch/lib/python3.12/site-packages/music21/stream/base.py:3694: Music21DeprecationWarning: .flat is deprecated.  Call .flatten() instead\n",
      "  return self.iter().getElementsByClass(classFilterList)\n"
     ]
    }
   ],
   "source": [
    "i = 0\n",
    "for batch in valloader:\n",
    "    if i == 13:\n",
    "        break\n",
    "    i += 1"
   ]
  },
  {
   "cell_type": "code",
   "execution_count": 6,
   "id": "ebc093ff",
   "metadata": {},
   "outputs": [],
   "source": [
    "melody_grid = batch[\"pianoroll\"].to(device)           # (B, 256, 140)\n",
    "harmony_gt = batch[\"input_ids\"].to(device)         # (B, 256)\n",
    "conditioning_vec = batch[\"time_signature\"].to(device)  # (B, C0)"
   ]
  },
  {
   "cell_type": "code",
   "execution_count": 7,
   "id": "29cf5ec2",
   "metadata": {},
   "outputs": [],
   "source": [
    "# Apply masking to harmony\n",
    "visible_harmony, denoising_target, stage_indices = apply_masking(\n",
    "    harmony_gt,\n",
    "    mask_token_id,\n",
    "    total_stages=10,\n",
    "    curriculum_type=curriculum_type,\n",
    "    stage=0\n",
    ")"
   ]
  },
  {
   "cell_type": "code",
   "execution_count": 8,
   "id": "8b8ced1a",
   "metadata": {},
   "outputs": [
    {
     "name": "stdout",
     "output_type": "stream",
     "text": [
      "denoising_target: tensor([[-100, -100, -100, -100, -100, -100, -100, -100,  297, -100, -100, -100,\n",
      "         -100, -100, -100, -100, -100,  304, -100, -100, -100, -100, -100, -100,\n",
      "         -100, -100, -100, -100, -100, -100,  335, -100, -100, -100, -100, -100,\n",
      "         -100, -100, -100, -100, -100, -100, -100, -100, -100, -100, -100, -100,\n",
      "         -100, -100, -100, -100, -100, -100, -100, -100, -100, -100, -100, -100,\n",
      "         -100, -100, -100, -100, -100, -100, -100, -100, -100, -100, -100,  129,\n",
      "         -100, -100, -100, -100, -100,  129, -100, -100, -100, -100, -100, -100,\n",
      "         -100, -100, -100, -100, -100, -100,  129, -100, -100, -100, -100,  129,\n",
      "          297, -100, -100, -100, -100, -100, -100, -100, -100, -100, -100, -100,\n",
      "         -100, -100, -100, -100, -100, -100, -100,  304, -100, -100, -100, -100,\n",
      "         -100, -100, -100, -100, -100, -100, -100, -100, -100, -100, -100, -100,\n",
      "         -100, -100, -100, -100, -100, -100, -100, -100, -100, -100, -100,  164,\n",
      "         -100, -100, -100, -100, -100, -100,  129,  129,  129, -100, -100, -100,\n",
      "         -100, -100, -100, -100, -100, -100, -100, -100, -100, -100,  129, -100,\n",
      "         -100, -100,  129, -100, -100, -100,  129, -100, -100, -100, -100, -100,\n",
      "         -100, -100, -100, -100, -100,  129, -100, -100, -100, -100, -100, -100,\n",
      "         -100, -100, -100, -100, -100,  129,  129, -100,  129, -100, -100, -100,\n",
      "         -100, -100, -100,  129,  129, -100,  129, -100, -100, -100, -100, -100,\n",
      "         -100, -100, -100, -100, -100, -100, -100, -100,  129, -100, -100, -100,\n",
      "            1, -100, -100, -100, -100, -100,    1, -100, -100, -100, -100, -100,\n",
      "         -100, -100, -100, -100, -100, -100, -100, -100, -100, -100, -100, -100,\n",
      "         -100, -100, -100, -100]], device='cuda:1')\n"
     ]
    }
   ],
   "source": [
    "# print('visible_harmony:', visible_harmony)\n",
    "print('denoising_target:', denoising_target)\n",
    "# print('stage_indices:', stage_indices)"
   ]
  },
  {
   "cell_type": "code",
   "execution_count": 9,
   "id": "90f96833",
   "metadata": {},
   "outputs": [],
   "source": [
    "logits = model(\n",
    "    conditioning_vec.to(device),\n",
    "    melody_grid.to(device),\n",
    "    visible_harmony.to(device),\n",
    "    stage_indices\n",
    ")\n",
    "output_ids = torch.argmax(logits, dim=-1)"
   ]
  },
  {
   "cell_type": "code",
   "execution_count": 10,
   "id": "81509997",
   "metadata": {},
   "outputs": [
    {
     "name": "stdout",
     "output_type": "stream",
     "text": [
      "output_tokens\n",
      "['0:F#:maj', '1:F#:maj', '2:F#:maj', '3:F#:maj', '4:F#:maj', '5:F#:maj', '6:F#:maj', '7:F#:maj', '8:F#:maj', '9:F#:maj', '10:F#:maj', '11:F#:maj', '12:G#:min', '13:G#:min', '14:G#:min', '15:G#:min', '16:C#:maj', '17:C#:maj', '18:C#:maj', '19:C#:maj', '20:C#:maj', '21:C#:maj', '22:C#:maj', '23:C#:maj', '24:F#:maj', '25:F#:maj', '26:F#:maj', '27:F#:maj', '28:F#:maj', '29:F#:maj', '30:F#:maj', '31:F#:maj', '32:F#:maj', '33:F#:maj', '34:F#:maj', '35:F#:maj', '36:F#:maj', '37:F#:maj', '38:F#:maj', '39:F#:maj', '40:F#:maj', '41:F#:maj', '42:F#:maj', '43:F#:maj', '44:C#:maj', '45:C#:maj', '46:C#:maj', '47:C#:maj', '48:E:maj', '49:E:maj', '50:E:maj', '51:E:maj', '52:E:maj', '53:E:maj', '54:E:maj', '55:E:maj', '56:E:maj', '57:E:maj', '58:E:maj', '59:E:maj', '60:E:maj', '61:E:maj', '62:E:maj', '63:E:maj', '64:E:maj', '65:E:maj', '66:E:maj', '67:E:maj', '68:E:maj', '69:E:maj', '70:E:maj', '71:E:maj', '72:E:maj', '73:E:maj', '74:E:maj', '75:E:maj', '76:E:maj', '77:E:maj', '78:E:maj', '79:E:maj', '80:E:maj', '81:E:maj', '82:E:maj', '83:E:maj', '84:E:maj', '85:E:maj', '86:E:maj', '87:E:maj', '88:E:maj', '89:E:maj', '90:E:maj', '91:E:maj', '92:E:maj', '93:E:maj', '94:E:maj', '95:E:maj', '96:F#:maj', '97:F#:maj', '98:F#:maj', '99:F#:maj', '100:F#:maj', '101:F#:maj', '102:F#:maj', '103:F#:maj', '104:F#:maj', '105:F#:maj', '106:F#:maj', '107:F#:maj', '108:G#:min', '109:G#:min', '110:G#:min', '111:G#:min', '112:G#:min', '113:G#:min', '114:G#:min', '115:G#:min', '116:G#:min', '117:G#:min', '118:G#:min', '119:G#:min', '120:F#:maj', '121:F#:maj', '122:F#:maj', '123:F#:maj', '124:F#:maj', '125:F#:maj', '126:F#:maj', '127:F#:maj', '128:F#:maj', '129:F#:maj', '130:F#:maj', '131:F#:maj', '132:F#:maj', '133:F#:maj', '134:F#:maj', '135:F#:maj', '136:F#:maj', '137:F#:maj', '138:F#:maj', '139:F#:maj', '140:F#:maj', '141:F#:maj', '142:C#:maj', '143:C#:maj', '144:C#:maj', '145:C#:maj', '146:C#:maj', '147:C#:maj', '148:C#:maj', '149:C#:maj', '150:C#:maj', '151:C#:maj', '152:C#:maj', '153:C#:maj', '154:C#:maj', '155:C#:maj', '156:C#:maj', '157:C#:maj', '158:C#:maj', '159:C#:maj', '160:C#:maj', '161:C#:maj', '162:C#:maj', '163:C#:maj', '164:C#:maj', '165:C#:maj', '166:C#:maj', '167:C#:maj', '168:E:maj', '169:E:maj', '170:E:maj', '171:E:maj', '172:E:maj', '173:E:maj', '174:E:maj', '175:E:maj', '176:E:maj', '177:E:maj', '178:E:maj', '179:E:maj', '180:E:maj', '181:E:maj', '182:E:maj', '183:E:maj', '184:E:maj', '185:E:maj', '186:E:maj', '187:E:maj', '188:E:maj', '189:E:maj', '190:E:maj', '191:E:maj', '192:C#:min', '193:C#:min', '194:C#:min', '195:C#:min', '196:C#:min', '197:C#:min', '198:C#:min', '199:C#:min', '200:C#:min', '201:C#:min', '202:C#:min', '203:C#:min', '204:C#:min', '205:C#:min', '206:C#:min', '207:C#:min', '208:C#:min', '209:C#:min', '210:C#:min', '211:C#:min', '212:C#:min', '213:C#:min', '214:C#:min', '215:C#:min', '216:<pad>', '217:<pad>', '218:<pad>', '219:<pad>', '220:<pad>', '221:<pad>', '222:<pad>', '223:<pad>', '224:<pad>', '225:<pad>', '226:<pad>', '227:<pad>', '228:<pad>', '229:<pad>', '230:<pad>', '231:<pad>', '232:<pad>', '233:<pad>', '234:<pad>', '235:<pad>', '236:<pad>', '237:<pad>', '238:<pad>', '239:<pad>', '240:<pad>', '241:<pad>', '242:<pad>', '243:<pad>', '244:<pad>', '245:<pad>', '246:<pad>', '247:<pad>', '248:<pad>', '249:<pad>', '250:<pad>', '251:<pad>', '252:<pad>', '253:<pad>', '254:<pad>', '255:<pad>']\n",
      "harmony_gt_tokens\n",
      "['0:A#:min', '1:A#:min', '2:A#:min', '3:A#:min', '4:A#:min', '5:A#:min', '6:A#:min', '7:A#:min', '8:A#:min', '9:A#:min', '10:A#:min', '11:A#:min', '12:A#:min7', '13:A#:min7', '14:A#:min7', '15:A#:min7', '16:A#:min7', '17:A#:min7', '18:A#:min7', '19:A#:min7', '20:A#:min7', '21:A#:min7', '22:A#:min7', '23:A#:min7', '24:B:maj6', '25:B:maj6', '26:B:maj6', '27:B:maj6', '28:B:maj6', '29:B:maj6', '30:B:maj6', '31:B:maj6', '32:B:maj6', '33:B:maj6', '34:B:maj6', '35:B:maj6', '36:F:hdim7', '37:F:hdim7', '38:F:hdim7', '39:F:hdim7', '40:F:hdim7', '41:F:hdim7', '42:F:hdim7', '43:F:hdim7', '44:F:hdim7', '45:F:hdim7', '46:F:hdim7', '47:F:hdim7', '48:E:maj7', '49:E:maj7', '50:E:maj7', '51:E:maj7', '52:E:maj7', '53:E:maj7', '54:E:maj7', '55:E:maj7', '56:E:maj7', '57:E:maj7', '58:E:maj7', '59:E:maj7', '60:E:maj7', '61:E:maj7', '62:E:maj7', '63:E:maj7', '64:E:maj7', '65:E:maj7', '66:E:maj7', '67:E:maj7', '68:E:maj7', '69:E:maj7', '70:E:maj7', '71:E:maj7', '72:E:maj7', '73:E:maj7', '74:E:maj7', '75:E:maj7', '76:E:maj7', '77:E:maj7', '78:E:maj7', '79:E:maj7', '80:E:maj7', '81:E:maj7', '82:E:maj7', '83:E:maj7', '84:E:maj7', '85:E:maj7', '86:E:maj7', '87:E:maj7', '88:E:maj7', '89:E:maj7', '90:E:maj7', '91:E:maj7', '92:E:maj7', '93:E:maj7', '94:E:maj7', '95:E:maj7', '96:A#:min', '97:A#:min', '98:A#:min', '99:A#:min', '100:A#:min', '101:A#:min', '102:A#:min', '103:A#:min', '104:A#:min', '105:A#:min', '106:A#:min', '107:A#:min', '108:A#:min7', '109:A#:min7', '110:A#:min7', '111:A#:min7', '112:A#:min7', '113:A#:min7', '114:A#:min7', '115:A#:min7', '116:A#:min7', '117:A#:min7', '118:A#:min7', '119:A#:min7', '120:B:maj6', '121:B:maj6', '122:B:maj6', '123:B:maj6', '124:B:maj6', '125:B:maj6', '126:B:maj6', '127:B:maj6', '128:B:maj6', '129:B:maj6', '130:B:maj6', '131:B:maj6', '132:F:hdim7', '133:F:hdim7', '134:F:hdim7', '135:F:hdim7', '136:F:hdim7', '137:F:hdim7', '138:F:hdim7', '139:F:hdim7', '140:F:hdim7', '141:F:hdim7', '142:F:hdim7', '143:F:hdim7', '144:E:maj7', '145:E:maj7', '146:E:maj7', '147:E:maj7', '148:E:maj7', '149:E:maj7', '150:E:maj7', '151:E:maj7', '152:E:maj7', '153:E:maj7', '154:E:maj7', '155:E:maj7', '156:E:maj7', '157:E:maj7', '158:E:maj7', '159:E:maj7', '160:E:maj7', '161:E:maj7', '162:E:maj7', '163:E:maj7', '164:E:maj7', '165:E:maj7', '166:E:maj7', '167:E:maj7', '168:E:maj7', '169:E:maj7', '170:E:maj7', '171:E:maj7', '172:E:maj7', '173:E:maj7', '174:E:maj7', '175:E:maj7', '176:E:maj7', '177:E:maj7', '178:E:maj7', '179:E:maj7', '180:E:maj7', '181:E:maj7', '182:E:maj7', '183:E:maj7', '184:E:maj7', '185:E:maj7', '186:E:maj7', '187:E:maj7', '188:E:maj7', '189:E:maj7', '190:E:maj7', '191:E:maj7', '192:E:maj7', '193:E:maj7', '194:E:maj7', '195:E:maj7', '196:E:maj7', '197:E:maj7', '198:E:maj7', '199:E:maj7', '200:E:maj7', '201:E:maj7', '202:E:maj7', '203:E:maj7', '204:E:maj7', '205:E:maj7', '206:E:maj7', '207:E:maj7', '208:E:maj7', '209:E:maj7', '210:E:maj7', '211:E:maj7', '212:E:maj7', '213:E:maj7', '214:E:maj7', '215:E:maj7', '216:E:maj7', '217:E:maj7', '218:E:maj7', '219:E:maj7', '220:E:maj7', '221:E:maj7', '222:E:maj7', '223:E:maj7', '224:E:maj7', '225:E:maj7', '226:E:maj7', '227:E:maj7', '228:<pad>', '229:<pad>', '230:<pad>', '231:<pad>', '232:<pad>', '233:<pad>', '234:<pad>', '235:<pad>', '236:<pad>', '237:<pad>', '238:<pad>', '239:<pad>', '240:<pad>', '241:<pad>', '242:<pad>', '243:<pad>', '244:<pad>', '245:<pad>', '246:<pad>', '247:<pad>', '248:<pad>', '249:<pad>', '250:<pad>', '251:<pad>', '252:<pad>', '253:<pad>', '254:<pad>', '255:<pad>']\n"
     ]
    }
   ],
   "source": [
    "# print('output_ids:', output_ids)\n",
    "output_tokens = []\n",
    "for i,t in enumerate(output_ids[0].tolist()):\n",
    "    output_tokens.append( str(i) + ':' + tokenizer.ids_to_tokens[t] )\n",
    "print('output_tokens')\n",
    "print(output_tokens)\n",
    "\n",
    "harmony_gt_tokens = []\n",
    "for i,t in enumerate(harmony_gt[0].tolist()):\n",
    "    harmony_gt_tokens.append( str(i) + ':' + tokenizer.ids_to_tokens[t] )\n",
    "print('harmony_gt_tokens')\n",
    "print(harmony_gt_tokens)"
   ]
  },
  {
   "cell_type": "code",
   "execution_count": 11,
   "id": "74bcc27f",
   "metadata": {},
   "outputs": [],
   "source": [
    "generated_harmony = random_progressive_generate(\n",
    "    model=model,\n",
    "    melody_grid=melody_grid,\n",
    "    conditioning_vec=conditioning_vec,\n",
    "    num_stages=10,\n",
    "    mask_token_id=tokenizer.mask_token_id,\n",
    "    temperature=1.0,\n",
    "    strategy='topk'\n",
    ")\n"
   ]
  },
  {
   "cell_type": "code",
   "execution_count": 12,
   "id": "cdd0b369",
   "metadata": {},
   "outputs": [
    {
     "name": "stdout",
     "output_type": "stream",
     "text": [
      "generated_harmony: tensor([[180, 180, 180, 180, 180, 180, 180, 180, 180, 180, 180, 180,  35,  35,\n",
      "          35,  35,  35,  35,  35,  35,  35,  35,  35,  35, 180, 180, 180, 180,\n",
      "         180, 180, 180, 180, 180, 180, 180, 180, 180, 180, 180, 180,  35,  35,\n",
      "          35,  35,  35,  35,  35,  35,  35,  35,  35,  35,  35,  35,  35,  35,\n",
      "         122, 122, 122, 122, 122, 122, 122, 122, 122, 122, 122, 122, 122, 122,\n",
      "         122, 122,  35,  35,  35,  35,  35,  35,  35,  35,  35,  35,  35,  35,\n",
      "         122, 122, 122, 122, 122, 122, 122, 122, 122, 122, 122, 122, 180, 180,\n",
      "         180, 180, 180, 180, 180, 180, 180, 180, 180, 180,  35,  35,  35,  35,\n",
      "          35,  35,  35,  35,  35,  35,  35,  35, 180, 180, 180, 180, 180, 180,\n",
      "         180, 180, 180, 180, 180, 180, 180, 180, 180, 180,  35,  35,  35,  35,\n",
      "          35,  35,  35,  35,  35,  35,  35,  35,  35,  35,  35,  35,  35,  35,\n",
      "          35,  35,  35,  35,  35,  35,  35,  35,  35,  35,  35,  35,  35,  35,\n",
      "          35,  35,  35,  35,  35,  35,  35,  35,  35,  35,  35,  35, 122, 122,\n",
      "         122, 122, 122, 122, 122, 122, 122, 122, 122, 122,  35,  35,  35,  35,\n",
      "          35,  35,  35,  35,  35,  35,  35,  35,  35,  35,  35,  35,  35,  35,\n",
      "          35,  35,  35,  35,  35,  35,   1,   1,   1,   1,   1,   1,   1,   1,\n",
      "           1,   1,   1,   1,   1,   1,   1,   1,   1,   1,   1,   1,   1,   1,\n",
      "           1,   1,   1,   1,   1,   1,   1,   1,   1,   1,   1,   1,   1,   1,\n",
      "           1,   1,   1,   1]], device='cuda:1')\n",
      "output_tokens\n",
      "['0:F#:maj', '1:F#:maj', '2:F#:maj', '3:F#:maj', '4:F#:maj', '5:F#:maj', '6:F#:maj', '7:F#:maj', '8:F#:maj', '9:F#:maj', '10:F#:maj', '11:F#:maj', '12:C#:maj', '13:C#:maj', '14:C#:maj', '15:C#:maj', '16:C#:maj', '17:C#:maj', '18:C#:maj', '19:C#:maj', '20:C#:maj', '21:C#:maj', '22:C#:maj', '23:C#:maj', '24:F#:maj', '25:F#:maj', '26:F#:maj', '27:F#:maj', '28:F#:maj', '29:F#:maj', '30:F#:maj', '31:F#:maj', '32:F#:maj', '33:F#:maj', '34:F#:maj', '35:F#:maj', '36:F#:maj', '37:F#:maj', '38:F#:maj', '39:F#:maj', '40:C#:maj', '41:C#:maj', '42:C#:maj', '43:C#:maj', '44:C#:maj', '45:C#:maj', '46:C#:maj', '47:C#:maj', '48:C#:maj', '49:C#:maj', '50:C#:maj', '51:C#:maj', '52:C#:maj', '53:C#:maj', '54:C#:maj', '55:C#:maj', '56:E:maj', '57:E:maj', '58:E:maj', '59:E:maj', '60:E:maj', '61:E:maj', '62:E:maj', '63:E:maj', '64:E:maj', '65:E:maj', '66:E:maj', '67:E:maj', '68:E:maj', '69:E:maj', '70:E:maj', '71:E:maj', '72:C#:maj', '73:C#:maj', '74:C#:maj', '75:C#:maj', '76:C#:maj', '77:C#:maj', '78:C#:maj', '79:C#:maj', '80:C#:maj', '81:C#:maj', '82:C#:maj', '83:C#:maj', '84:E:maj', '85:E:maj', '86:E:maj', '87:E:maj', '88:E:maj', '89:E:maj', '90:E:maj', '91:E:maj', '92:E:maj', '93:E:maj', '94:E:maj', '95:E:maj', '96:F#:maj', '97:F#:maj', '98:F#:maj', '99:F#:maj', '100:F#:maj', '101:F#:maj', '102:F#:maj', '103:F#:maj', '104:F#:maj', '105:F#:maj', '106:F#:maj', '107:F#:maj', '108:C#:maj', '109:C#:maj', '110:C#:maj', '111:C#:maj', '112:C#:maj', '113:C#:maj', '114:C#:maj', '115:C#:maj', '116:C#:maj', '117:C#:maj', '118:C#:maj', '119:C#:maj', '120:F#:maj', '121:F#:maj', '122:F#:maj', '123:F#:maj', '124:F#:maj', '125:F#:maj', '126:F#:maj', '127:F#:maj', '128:F#:maj', '129:F#:maj', '130:F#:maj', '131:F#:maj', '132:F#:maj', '133:F#:maj', '134:F#:maj', '135:F#:maj', '136:C#:maj', '137:C#:maj', '138:C#:maj', '139:C#:maj', '140:C#:maj', '141:C#:maj', '142:C#:maj', '143:C#:maj', '144:C#:maj', '145:C#:maj', '146:C#:maj', '147:C#:maj', '148:C#:maj', '149:C#:maj', '150:C#:maj', '151:C#:maj', '152:C#:maj', '153:C#:maj', '154:C#:maj', '155:C#:maj', '156:C#:maj', '157:C#:maj', '158:C#:maj', '159:C#:maj', '160:C#:maj', '161:C#:maj', '162:C#:maj', '163:C#:maj', '164:C#:maj', '165:C#:maj', '166:C#:maj', '167:C#:maj', '168:C#:maj', '169:C#:maj', '170:C#:maj', '171:C#:maj', '172:C#:maj', '173:C#:maj', '174:C#:maj', '175:C#:maj', '176:C#:maj', '177:C#:maj', '178:C#:maj', '179:C#:maj', '180:E:maj', '181:E:maj', '182:E:maj', '183:E:maj', '184:E:maj', '185:E:maj', '186:E:maj', '187:E:maj', '188:E:maj', '189:E:maj', '190:E:maj', '191:E:maj', '192:C#:maj', '193:C#:maj', '194:C#:maj', '195:C#:maj', '196:C#:maj', '197:C#:maj', '198:C#:maj', '199:C#:maj', '200:C#:maj', '201:C#:maj', '202:C#:maj', '203:C#:maj', '204:C#:maj', '205:C#:maj', '206:C#:maj', '207:C#:maj', '208:C#:maj', '209:C#:maj', '210:C#:maj', '211:C#:maj', '212:C#:maj', '213:C#:maj', '214:C#:maj', '215:C#:maj', '216:<pad>', '217:<pad>', '218:<pad>', '219:<pad>', '220:<pad>', '221:<pad>', '222:<pad>', '223:<pad>', '224:<pad>', '225:<pad>', '226:<pad>', '227:<pad>', '228:<pad>', '229:<pad>', '230:<pad>', '231:<pad>', '232:<pad>', '233:<pad>', '234:<pad>', '235:<pad>', '236:<pad>', '237:<pad>', '238:<pad>', '239:<pad>', '240:<pad>', '241:<pad>', '242:<pad>', '243:<pad>', '244:<pad>', '245:<pad>', '246:<pad>', '247:<pad>', '248:<pad>', '249:<pad>', '250:<pad>', '251:<pad>', '252:<pad>', '253:<pad>', '254:<pad>', '255:<pad>']\n",
      "harmony_gt_tokens\n",
      "['0:A#:min', '1:A#:min', '2:A#:min', '3:A#:min', '4:A#:min', '5:A#:min', '6:A#:min', '7:A#:min', '8:A#:min', '9:A#:min', '10:A#:min', '11:A#:min', '12:A#:min7', '13:A#:min7', '14:A#:min7', '15:A#:min7', '16:A#:min7', '17:A#:min7', '18:A#:min7', '19:A#:min7', '20:A#:min7', '21:A#:min7', '22:A#:min7', '23:A#:min7', '24:B:maj6', '25:B:maj6', '26:B:maj6', '27:B:maj6', '28:B:maj6', '29:B:maj6', '30:B:maj6', '31:B:maj6', '32:B:maj6', '33:B:maj6', '34:B:maj6', '35:B:maj6', '36:F:hdim7', '37:F:hdim7', '38:F:hdim7', '39:F:hdim7', '40:F:hdim7', '41:F:hdim7', '42:F:hdim7', '43:F:hdim7', '44:F:hdim7', '45:F:hdim7', '46:F:hdim7', '47:F:hdim7', '48:E:maj7', '49:E:maj7', '50:E:maj7', '51:E:maj7', '52:E:maj7', '53:E:maj7', '54:E:maj7', '55:E:maj7', '56:E:maj7', '57:E:maj7', '58:E:maj7', '59:E:maj7', '60:E:maj7', '61:E:maj7', '62:E:maj7', '63:E:maj7', '64:E:maj7', '65:E:maj7', '66:E:maj7', '67:E:maj7', '68:E:maj7', '69:E:maj7', '70:E:maj7', '71:E:maj7', '72:E:maj7', '73:E:maj7', '74:E:maj7', '75:E:maj7', '76:E:maj7', '77:E:maj7', '78:E:maj7', '79:E:maj7', '80:E:maj7', '81:E:maj7', '82:E:maj7', '83:E:maj7', '84:E:maj7', '85:E:maj7', '86:E:maj7', '87:E:maj7', '88:E:maj7', '89:E:maj7', '90:E:maj7', '91:E:maj7', '92:E:maj7', '93:E:maj7', '94:E:maj7', '95:E:maj7', '96:A#:min', '97:A#:min', '98:A#:min', '99:A#:min', '100:A#:min', '101:A#:min', '102:A#:min', '103:A#:min', '104:A#:min', '105:A#:min', '106:A#:min', '107:A#:min', '108:A#:min7', '109:A#:min7', '110:A#:min7', '111:A#:min7', '112:A#:min7', '113:A#:min7', '114:A#:min7', '115:A#:min7', '116:A#:min7', '117:A#:min7', '118:A#:min7', '119:A#:min7', '120:B:maj6', '121:B:maj6', '122:B:maj6', '123:B:maj6', '124:B:maj6', '125:B:maj6', '126:B:maj6', '127:B:maj6', '128:B:maj6', '129:B:maj6', '130:B:maj6', '131:B:maj6', '132:F:hdim7', '133:F:hdim7', '134:F:hdim7', '135:F:hdim7', '136:F:hdim7', '137:F:hdim7', '138:F:hdim7', '139:F:hdim7', '140:F:hdim7', '141:F:hdim7', '142:F:hdim7', '143:F:hdim7', '144:E:maj7', '145:E:maj7', '146:E:maj7', '147:E:maj7', '148:E:maj7', '149:E:maj7', '150:E:maj7', '151:E:maj7', '152:E:maj7', '153:E:maj7', '154:E:maj7', '155:E:maj7', '156:E:maj7', '157:E:maj7', '158:E:maj7', '159:E:maj7', '160:E:maj7', '161:E:maj7', '162:E:maj7', '163:E:maj7', '164:E:maj7', '165:E:maj7', '166:E:maj7', '167:E:maj7', '168:E:maj7', '169:E:maj7', '170:E:maj7', '171:E:maj7', '172:E:maj7', '173:E:maj7', '174:E:maj7', '175:E:maj7', '176:E:maj7', '177:E:maj7', '178:E:maj7', '179:E:maj7', '180:E:maj7', '181:E:maj7', '182:E:maj7', '183:E:maj7', '184:E:maj7', '185:E:maj7', '186:E:maj7', '187:E:maj7', '188:E:maj7', '189:E:maj7', '190:E:maj7', '191:E:maj7', '192:E:maj7', '193:E:maj7', '194:E:maj7', '195:E:maj7', '196:E:maj7', '197:E:maj7', '198:E:maj7', '199:E:maj7', '200:E:maj7', '201:E:maj7', '202:E:maj7', '203:E:maj7', '204:E:maj7', '205:E:maj7', '206:E:maj7', '207:E:maj7', '208:E:maj7', '209:E:maj7', '210:E:maj7', '211:E:maj7', '212:E:maj7', '213:E:maj7', '214:E:maj7', '215:E:maj7', '216:E:maj7', '217:E:maj7', '218:E:maj7', '219:E:maj7', '220:E:maj7', '221:E:maj7', '222:E:maj7', '223:E:maj7', '224:E:maj7', '225:E:maj7', '226:E:maj7', '227:E:maj7', '228:<pad>', '229:<pad>', '230:<pad>', '231:<pad>', '232:<pad>', '233:<pad>', '234:<pad>', '235:<pad>', '236:<pad>', '237:<pad>', '238:<pad>', '239:<pad>', '240:<pad>', '241:<pad>', '242:<pad>', '243:<pad>', '244:<pad>', '245:<pad>', '246:<pad>', '247:<pad>', '248:<pad>', '249:<pad>', '250:<pad>', '251:<pad>', '252:<pad>', '253:<pad>', '254:<pad>', '255:<pad>']\n"
     ]
    }
   ],
   "source": [
    "print('generated_harmony:', generated_harmony)\n",
    "output_tokens = []\n",
    "for i,t in enumerate(generated_harmony[0].tolist()):\n",
    "    output_tokens.append( str(i) + ':' + tokenizer.ids_to_tokens[t] )\n",
    "print('output_tokens')\n",
    "print(output_tokens)\n",
    "\n",
    "harmony_gt_tokens = []\n",
    "for i,t in enumerate(harmony_gt[0].tolist()):\n",
    "    harmony_gt_tokens.append( str(i) + ':' + tokenizer.ids_to_tokens[t] )\n",
    "print('harmony_gt_tokens')\n",
    "print(harmony_gt_tokens)"
   ]
  },
  {
   "cell_type": "code",
   "execution_count": 13,
   "id": "7e1f5079",
   "metadata": {},
   "outputs": [
    {
     "data": {
      "text/plain": [
       "GridMLMMelHarm(\n",
       "  (condition_proj): Linear(in_features=16, out_features=512, bias=True)\n",
       "  (melody_proj): Linear(in_features=100, out_features=512, bias=True)\n",
       "  (harmony_embedding): Embedding(354, 512)\n",
       "  (dropout): Dropout(p=0.3, inplace=False)\n",
       "  (stage_embedding): Embedding(10, 64)\n",
       "  (stage_proj): Linear(in_features=576, out_features=512, bias=True)\n",
       "  (encoder): TransformerEncoder(\n",
       "    (layers): ModuleList(\n",
       "      (0-7): 8 x TransformerEncoderLayer(\n",
       "        (self_attn): MultiheadAttention(\n",
       "          (out_proj): NonDynamicallyQuantizableLinear(in_features=512, out_features=512, bias=True)\n",
       "        )\n",
       "        (linear1): Linear(in_features=512, out_features=2048, bias=True)\n",
       "        (dropout): Dropout(p=0.3, inplace=False)\n",
       "        (linear2): Linear(in_features=2048, out_features=512, bias=True)\n",
       "        (norm1): LayerNorm((512,), eps=1e-05, elementwise_affine=True)\n",
       "        (norm2): LayerNorm((512,), eps=1e-05, elementwise_affine=True)\n",
       "        (dropout1): Dropout(p=0.3, inplace=False)\n",
       "        (dropout2): Dropout(p=0.3, inplace=False)\n",
       "      )\n",
       "    )\n",
       "  )\n",
       "  (output_head): Linear(in_features=512, out_features=354, bias=True)\n",
       "  (input_norm): LayerNorm((512,), eps=1e-05, elementwise_affine=True)\n",
       "  (output_norm): LayerNorm((512,), eps=1e-05, elementwise_affine=True)\n",
       ")"
      ]
     },
     "execution_count": 13,
     "metadata": {},
     "output_type": "execute_result"
    }
   ],
   "source": [
    "curriculum_type = 'base2'\n",
    "device_name = 'cuda:1'\n",
    "if device_name == 'cpu':\n",
    "    device = torch.device('cpu')\n",
    "else:\n",
    "    if torch.cuda.is_available():\n",
    "        device = torch.device(device_name)\n",
    "    else:\n",
    "        print('Selected device not available: ' + device_name)\n",
    "model = GridMLMMelHarm(\n",
    "    chord_vocab_size=len(tokenizer.vocab),\n",
    "    device=device\n",
    ")\n",
    "model_path = 'saved_models/' + curriculum_type +  '.pt'\n",
    "# checkpoint = torch.load(model_path, map_location=device_name, weights_only=True)\n",
    "checkpoint = torch.load(model_path, map_location=device_name)\n",
    "model.load_state_dict(checkpoint)\n",
    "model.eval()\n",
    "model.to(device)"
   ]
  },
  {
   "cell_type": "code",
   "execution_count": 14,
   "id": "6fc4a508",
   "metadata": {},
   "outputs": [],
   "source": [
    "generated_harmony = structured_progressive_generate(\n",
    "    model=model,\n",
    "    melody_grid=melody_grid,\n",
    "    conditioning_vec=conditioning_vec,\n",
    "    num_stages=10,\n",
    "    mask_token_id=tokenizer.mask_token_id,\n",
    "    temperature=1.0,\n",
    "    strategy='topk'\n",
    ")"
   ]
  },
  {
   "cell_type": "code",
   "execution_count": 15,
   "id": "2be0c830",
   "metadata": {},
   "outputs": [
    {
     "name": "stdout",
     "output_type": "stream",
     "text": [
      "generated_harmony: tensor([[180, 180, 180, 180, 180, 180, 180, 180, 180, 180, 180, 180, 180, 180,\n",
      "         180, 180, 180, 180, 180, 180, 180, 180, 180, 180, 180, 180, 180, 180,\n",
      "         180, 180, 180, 180, 180, 180, 180, 180, 180, 180, 180, 180, 180, 180,\n",
      "         180, 180, 180, 180, 180, 180, 122, 122, 122, 122, 122, 122, 122, 122,\n",
      "         122, 122, 122, 122, 180, 180, 180, 180, 180, 180, 180, 180, 180, 180,\n",
      "         180, 180, 180, 180, 180, 180, 180, 180, 180, 180, 180, 180, 180, 180,\n",
      "         180, 180, 180, 180, 180, 180, 180, 180, 180, 180, 180, 180, 180, 180,\n",
      "         180, 180, 180, 180, 180, 180, 180, 180, 180, 180, 180, 180, 180, 180,\n",
      "         180, 180, 180, 180, 180, 180, 180, 180, 122, 122, 122, 122, 122, 122,\n",
      "         122, 122, 122, 122, 122, 122, 122, 122, 122, 122, 122, 122, 122, 122,\n",
      "         122, 122, 122, 122,  35,  35,  35,  35,  35,  35,  35,  35,  35,  35,\n",
      "          35,  35,  35,  35,  35,  35,  35,  35,  35,  35,  35,  35,  35,  35,\n",
      "         122, 122, 122, 122, 122, 122, 122, 122, 122, 122, 122, 122, 122, 122,\n",
      "         122, 122, 122, 122, 122, 122, 122, 122, 122, 122, 180, 180, 180, 180,\n",
      "         180, 180, 180, 180, 180, 180, 180, 180, 180, 180, 180, 180, 180, 180,\n",
      "         180, 180, 180, 180, 180, 180,   1,   1,   1,   1,   1,   1,   1,   1,\n",
      "           1,   1,   1,   1,   1,   1,   1,   1,   1,   1,   1,   1,   1,   1,\n",
      "           1,   1,   1,   1,   1,   1,   1,   1,   1,   1,   1,   1,   1,   1,\n",
      "           1,   1,   1,   1]], device='cuda:1')\n",
      "output_tokens\n",
      "['0:F#:maj', '1:F#:maj', '2:F#:maj', '3:F#:maj', '4:F#:maj', '5:F#:maj', '6:F#:maj', '7:F#:maj', '8:F#:maj', '9:F#:maj', '10:F#:maj', '11:F#:maj', '12:F#:maj', '13:F#:maj', '14:F#:maj', '15:F#:maj', '16:F#:maj', '17:F#:maj', '18:F#:maj', '19:F#:maj', '20:F#:maj', '21:F#:maj', '22:F#:maj', '23:F#:maj', '24:F#:maj', '25:F#:maj', '26:F#:maj', '27:F#:maj', '28:F#:maj', '29:F#:maj', '30:F#:maj', '31:F#:maj', '32:F#:maj', '33:F#:maj', '34:F#:maj', '35:F#:maj', '36:F#:maj', '37:F#:maj', '38:F#:maj', '39:F#:maj', '40:F#:maj', '41:F#:maj', '42:F#:maj', '43:F#:maj', '44:F#:maj', '45:F#:maj', '46:F#:maj', '47:F#:maj', '48:E:maj', '49:E:maj', '50:E:maj', '51:E:maj', '52:E:maj', '53:E:maj', '54:E:maj', '55:E:maj', '56:E:maj', '57:E:maj', '58:E:maj', '59:E:maj', '60:F#:maj', '61:F#:maj', '62:F#:maj', '63:F#:maj', '64:F#:maj', '65:F#:maj', '66:F#:maj', '67:F#:maj', '68:F#:maj', '69:F#:maj', '70:F#:maj', '71:F#:maj', '72:F#:maj', '73:F#:maj', '74:F#:maj', '75:F#:maj', '76:F#:maj', '77:F#:maj', '78:F#:maj', '79:F#:maj', '80:F#:maj', '81:F#:maj', '82:F#:maj', '83:F#:maj', '84:F#:maj', '85:F#:maj', '86:F#:maj', '87:F#:maj', '88:F#:maj', '89:F#:maj', '90:F#:maj', '91:F#:maj', '92:F#:maj', '93:F#:maj', '94:F#:maj', '95:F#:maj', '96:F#:maj', '97:F#:maj', '98:F#:maj', '99:F#:maj', '100:F#:maj', '101:F#:maj', '102:F#:maj', '103:F#:maj', '104:F#:maj', '105:F#:maj', '106:F#:maj', '107:F#:maj', '108:F#:maj', '109:F#:maj', '110:F#:maj', '111:F#:maj', '112:F#:maj', '113:F#:maj', '114:F#:maj', '115:F#:maj', '116:F#:maj', '117:F#:maj', '118:F#:maj', '119:F#:maj', '120:E:maj', '121:E:maj', '122:E:maj', '123:E:maj', '124:E:maj', '125:E:maj', '126:E:maj', '127:E:maj', '128:E:maj', '129:E:maj', '130:E:maj', '131:E:maj', '132:E:maj', '133:E:maj', '134:E:maj', '135:E:maj', '136:E:maj', '137:E:maj', '138:E:maj', '139:E:maj', '140:E:maj', '141:E:maj', '142:E:maj', '143:E:maj', '144:C#:maj', '145:C#:maj', '146:C#:maj', '147:C#:maj', '148:C#:maj', '149:C#:maj', '150:C#:maj', '151:C#:maj', '152:C#:maj', '153:C#:maj', '154:C#:maj', '155:C#:maj', '156:C#:maj', '157:C#:maj', '158:C#:maj', '159:C#:maj', '160:C#:maj', '161:C#:maj', '162:C#:maj', '163:C#:maj', '164:C#:maj', '165:C#:maj', '166:C#:maj', '167:C#:maj', '168:E:maj', '169:E:maj', '170:E:maj', '171:E:maj', '172:E:maj', '173:E:maj', '174:E:maj', '175:E:maj', '176:E:maj', '177:E:maj', '178:E:maj', '179:E:maj', '180:E:maj', '181:E:maj', '182:E:maj', '183:E:maj', '184:E:maj', '185:E:maj', '186:E:maj', '187:E:maj', '188:E:maj', '189:E:maj', '190:E:maj', '191:E:maj', '192:F#:maj', '193:F#:maj', '194:F#:maj', '195:F#:maj', '196:F#:maj', '197:F#:maj', '198:F#:maj', '199:F#:maj', '200:F#:maj', '201:F#:maj', '202:F#:maj', '203:F#:maj', '204:F#:maj', '205:F#:maj', '206:F#:maj', '207:F#:maj', '208:F#:maj', '209:F#:maj', '210:F#:maj', '211:F#:maj', '212:F#:maj', '213:F#:maj', '214:F#:maj', '215:F#:maj', '216:<pad>', '217:<pad>', '218:<pad>', '219:<pad>', '220:<pad>', '221:<pad>', '222:<pad>', '223:<pad>', '224:<pad>', '225:<pad>', '226:<pad>', '227:<pad>', '228:<pad>', '229:<pad>', '230:<pad>', '231:<pad>', '232:<pad>', '233:<pad>', '234:<pad>', '235:<pad>', '236:<pad>', '237:<pad>', '238:<pad>', '239:<pad>', '240:<pad>', '241:<pad>', '242:<pad>', '243:<pad>', '244:<pad>', '245:<pad>', '246:<pad>', '247:<pad>', '248:<pad>', '249:<pad>', '250:<pad>', '251:<pad>', '252:<pad>', '253:<pad>', '254:<pad>', '255:<pad>']\n",
      "harmony_gt_tokens\n",
      "['0:A#:min', '1:A#:min', '2:A#:min', '3:A#:min', '4:A#:min', '5:A#:min', '6:A#:min', '7:A#:min', '8:A#:min', '9:A#:min', '10:A#:min', '11:A#:min', '12:A#:min7', '13:A#:min7', '14:A#:min7', '15:A#:min7', '16:A#:min7', '17:A#:min7', '18:A#:min7', '19:A#:min7', '20:A#:min7', '21:A#:min7', '22:A#:min7', '23:A#:min7', '24:B:maj6', '25:B:maj6', '26:B:maj6', '27:B:maj6', '28:B:maj6', '29:B:maj6', '30:B:maj6', '31:B:maj6', '32:B:maj6', '33:B:maj6', '34:B:maj6', '35:B:maj6', '36:F:hdim7', '37:F:hdim7', '38:F:hdim7', '39:F:hdim7', '40:F:hdim7', '41:F:hdim7', '42:F:hdim7', '43:F:hdim7', '44:F:hdim7', '45:F:hdim7', '46:F:hdim7', '47:F:hdim7', '48:E:maj7', '49:E:maj7', '50:E:maj7', '51:E:maj7', '52:E:maj7', '53:E:maj7', '54:E:maj7', '55:E:maj7', '56:E:maj7', '57:E:maj7', '58:E:maj7', '59:E:maj7', '60:E:maj7', '61:E:maj7', '62:E:maj7', '63:E:maj7', '64:E:maj7', '65:E:maj7', '66:E:maj7', '67:E:maj7', '68:E:maj7', '69:E:maj7', '70:E:maj7', '71:E:maj7', '72:E:maj7', '73:E:maj7', '74:E:maj7', '75:E:maj7', '76:E:maj7', '77:E:maj7', '78:E:maj7', '79:E:maj7', '80:E:maj7', '81:E:maj7', '82:E:maj7', '83:E:maj7', '84:E:maj7', '85:E:maj7', '86:E:maj7', '87:E:maj7', '88:E:maj7', '89:E:maj7', '90:E:maj7', '91:E:maj7', '92:E:maj7', '93:E:maj7', '94:E:maj7', '95:E:maj7', '96:A#:min', '97:A#:min', '98:A#:min', '99:A#:min', '100:A#:min', '101:A#:min', '102:A#:min', '103:A#:min', '104:A#:min', '105:A#:min', '106:A#:min', '107:A#:min', '108:A#:min7', '109:A#:min7', '110:A#:min7', '111:A#:min7', '112:A#:min7', '113:A#:min7', '114:A#:min7', '115:A#:min7', '116:A#:min7', '117:A#:min7', '118:A#:min7', '119:A#:min7', '120:B:maj6', '121:B:maj6', '122:B:maj6', '123:B:maj6', '124:B:maj6', '125:B:maj6', '126:B:maj6', '127:B:maj6', '128:B:maj6', '129:B:maj6', '130:B:maj6', '131:B:maj6', '132:F:hdim7', '133:F:hdim7', '134:F:hdim7', '135:F:hdim7', '136:F:hdim7', '137:F:hdim7', '138:F:hdim7', '139:F:hdim7', '140:F:hdim7', '141:F:hdim7', '142:F:hdim7', '143:F:hdim7', '144:E:maj7', '145:E:maj7', '146:E:maj7', '147:E:maj7', '148:E:maj7', '149:E:maj7', '150:E:maj7', '151:E:maj7', '152:E:maj7', '153:E:maj7', '154:E:maj7', '155:E:maj7', '156:E:maj7', '157:E:maj7', '158:E:maj7', '159:E:maj7', '160:E:maj7', '161:E:maj7', '162:E:maj7', '163:E:maj7', '164:E:maj7', '165:E:maj7', '166:E:maj7', '167:E:maj7', '168:E:maj7', '169:E:maj7', '170:E:maj7', '171:E:maj7', '172:E:maj7', '173:E:maj7', '174:E:maj7', '175:E:maj7', '176:E:maj7', '177:E:maj7', '178:E:maj7', '179:E:maj7', '180:E:maj7', '181:E:maj7', '182:E:maj7', '183:E:maj7', '184:E:maj7', '185:E:maj7', '186:E:maj7', '187:E:maj7', '188:E:maj7', '189:E:maj7', '190:E:maj7', '191:E:maj7', '192:E:maj7', '193:E:maj7', '194:E:maj7', '195:E:maj7', '196:E:maj7', '197:E:maj7', '198:E:maj7', '199:E:maj7', '200:E:maj7', '201:E:maj7', '202:E:maj7', '203:E:maj7', '204:E:maj7', '205:E:maj7', '206:E:maj7', '207:E:maj7', '208:E:maj7', '209:E:maj7', '210:E:maj7', '211:E:maj7', '212:E:maj7', '213:E:maj7', '214:E:maj7', '215:E:maj7', '216:E:maj7', '217:E:maj7', '218:E:maj7', '219:E:maj7', '220:E:maj7', '221:E:maj7', '222:E:maj7', '223:E:maj7', '224:E:maj7', '225:E:maj7', '226:E:maj7', '227:E:maj7', '228:<pad>', '229:<pad>', '230:<pad>', '231:<pad>', '232:<pad>', '233:<pad>', '234:<pad>', '235:<pad>', '236:<pad>', '237:<pad>', '238:<pad>', '239:<pad>', '240:<pad>', '241:<pad>', '242:<pad>', '243:<pad>', '244:<pad>', '245:<pad>', '246:<pad>', '247:<pad>', '248:<pad>', '249:<pad>', '250:<pad>', '251:<pad>', '252:<pad>', '253:<pad>', '254:<pad>', '255:<pad>']\n"
     ]
    }
   ],
   "source": [
    "print('generated_harmony:', generated_harmony)\n",
    "output_tokens = []\n",
    "for i,t in enumerate(generated_harmony[0].tolist()):\n",
    "    output_tokens.append( str(i) + ':' + tokenizer.ids_to_tokens[t] )\n",
    "print('output_tokens')\n",
    "print(output_tokens)\n",
    "\n",
    "harmony_gt_tokens = []\n",
    "for i,t in enumerate(harmony_gt[0].tolist()):\n",
    "    harmony_gt_tokens.append( str(i) + ':' + tokenizer.ids_to_tokens[t] )\n",
    "print('harmony_gt_tokens')\n",
    "print(harmony_gt_tokens)"
   ]
  }
 ],
 "metadata": {
  "kernelspec": {
   "display_name": "torch",
   "language": "python",
   "name": "python3"
  },
  "language_info": {
   "codemirror_mode": {
    "name": "ipython",
    "version": 3
   },
   "file_extension": ".py",
   "mimetype": "text/x-python",
   "name": "python",
   "nbconvert_exporter": "python",
   "pygments_lexer": "ipython3",
   "version": "3.12.2"
  }
 },
 "nbformat": 4,
 "nbformat_minor": 5
}
