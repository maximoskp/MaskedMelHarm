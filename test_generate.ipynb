{
 "cells": [
  {
   "cell_type": "code",
   "execution_count": 1,
   "id": "1e491e19",
   "metadata": {},
   "outputs": [],
   "source": [
    "import torch\n",
    "import torch.nn as nn\n",
    "from models import GridMLMMelHarm\n",
    "from GridMLM_tokenizers import CSGridMLMTokenizer\n",
    "from data_utils import CSGridMLMDataset, CSGridMLM_collate_fn\n",
    "from torch.utils.data import DataLoader\n",
    "from train_utils import apply_masking\n",
    "from generate_utils import generate_files_with_base2, generate_files_with_base2, load_model"
   ]
  },
  {
   "cell_type": "code",
   "execution_count": 2,
   "id": "6ad30c26",
   "metadata": {},
   "outputs": [],
   "source": [
    "val_dir = '/media/maindisk/maximos/data/hooktheory_all12_test'\n",
    "# val_dir = '/media/maindisk/maximos/data/gjt_melodies/Library_melodies/'\n",
    "tokenizer = CSGridMLMTokenizer(fixed_length=256)\n",
    "# val_dataset = CSGridMLMDataset(val_dir, tokenizer, 512)"
   ]
  },
  {
   "cell_type": "code",
   "execution_count": 3,
   "id": "02945c83",
   "metadata": {},
   "outputs": [],
   "source": [
    "# curriculum_type = 'random'\n",
    "curriculum_type = 'base2'\n",
    "subfolder = 'all12'\n",
    "device_name = 'cuda:2'\n",
    "model = load_model(\n",
    "    curriculum_type=curriculum_type,\n",
    "    subfolder=subfolder,\n",
    "    device_name='cuda:2',\n",
    "    tokenizer=tokenizer,\n",
    "    pianoroll_dim=100\n",
    ")"
   ]
  },
  {
   "cell_type": "code",
   "execution_count": 4,
   "id": "45ae09cf",
   "metadata": {},
   "outputs": [
    {
     "name": "stdout",
     "output_type": "stream",
     "text": [
      "26203106\n"
     ]
    }
   ],
   "source": [
    "def count_parameters(model):\n",
    "    return sum(p.numel() for p in model.parameters() if p.requires_grad)\n",
    "print(count_parameters(model))"
   ]
  },
  {
   "cell_type": "code",
   "execution_count": 5,
   "id": "e9b8c333",
   "metadata": {},
   "outputs": [
    {
     "name": "stdout",
     "output_type": "stream",
     "text": [
      "10486\n"
     ]
    }
   ],
   "source": [
    "import os\n",
    "data_files = []\n",
    "for dirpath, _, filenames in os.walk(val_dir):\n",
    "    for file in filenames:\n",
    "        if file.endswith('.xml') or file.endswith('.mxl') or file.endswith('.musicxml'):\n",
    "            full_path = os.path.join(dirpath, file)\n",
    "            data_files.append(full_path)\n",
    "print(len(data_files))"
   ]
  },
  {
   "cell_type": "code",
   "execution_count": 7,
   "id": "1050a9ee",
   "metadata": {},
   "outputs": [
    {
     "name": "stderr",
     "output_type": "stream",
     "text": [
      "/home/maximos/miniconda3/envs/torch/lib/python3.12/site-packages/music21/base.py:559: UserWarning: Setting an ID that could be mistaken for a memory location is discouraged: got 128516249091680\n",
      "  warnings.warn(msg)\n",
      "libpng warning: iCCP: known incorrect sRGB profile\n",
      "Error at line 30 col 47: no instrument found for part 'Pdc6e35c6266dd43964141c98a58ed639'\n",
      "Error at line 443 col 47: no instrument found for part 'Pb992f6fdb5ab535ad8db1ad98f384705'\n",
      "convert <examples_musicXML/all12/base2//gen_0.mxl>...\n",
      "\tto <examples_MIDI/all12/base2//gen_0.mid>\n",
      "... success!\n",
      "libpng warning: iCCP: known incorrect sRGB profile\n",
      "Error at line 30 col 47: no instrument found for part 'P4acdb62bbf5f97d092ba9b01e7ab1e0a'\n",
      "Error at line 443 col 47: no instrument found for part 'P39a991945c7a373b16bb2148145cff97'\n",
      "convert <examples_musicXML/all12/base2//real_0.mxl>...\n",
      "\tto <examples_MIDI/all12/base2//real_0.mid>\n",
      "... success!\n"
     ]
    }
   ],
   "source": [
    "val_idx = 0\n",
    "\n",
    "input_f = data_files[val_idx]\n",
    "\n",
    "mxl_folder = 'examples_musicXML/' + subfolder + '/' + curriculum_type + '/' + '/'\n",
    "midi_folder = 'examples_MIDI/' + subfolder + '/' + curriculum_type + '/' + '/'\n",
    "os.makedirs(mxl_folder, exist_ok=True)\n",
    "os.makedirs(midi_folder, exist_ok=True)\n",
    "\n",
    "gen_harm, real_harm = generate_files_with_base2(\n",
    "    model=model,\n",
    "    tokenizer=tokenizer,\n",
    "    input_f=input_f,\n",
    "    mxl_folder=mxl_folder,\n",
    "    midi_folder=midi_folder,\n",
    "    name_suffix=0\n",
    ")"
   ]
  }
 ],
 "metadata": {
  "kernelspec": {
   "display_name": "torch",
   "language": "python",
   "name": "python3"
  },
  "language_info": {
   "codemirror_mode": {
    "name": "ipython",
    "version": 3
   },
   "file_extension": ".py",
   "mimetype": "text/x-python",
   "name": "python",
   "nbconvert_exporter": "python",
   "pygments_lexer": "ipython3",
   "version": "3.12.2"
  }
 },
 "nbformat": 4,
 "nbformat_minor": 5
}
