{
 "cells": [
  {
   "cell_type": "code",
   "execution_count": 31,
   "id": "1e491e19",
   "metadata": {},
   "outputs": [],
   "source": [
    "import torch\n",
    "import torch.nn as nn\n",
    "from models import GridMLMMelHarm\n",
    "from GridMLM_tokenizers import CSGridMLMTokenizer\n",
    "from data_utils import CSGridMLMDataset, CSGridMLM_collate_fn\n",
    "from torch.utils.data import DataLoader\n",
    "from train_utils import apply_masking\n",
    "from generate_utils import random_progressive_generate, structured_progressive_generate"
   ]
  },
  {
   "cell_type": "code",
   "execution_count": 32,
   "id": "6ad30c26",
   "metadata": {},
   "outputs": [],
   "source": [
    "batchsize = 1\n",
    "val_dir = '/media/maindisk/maximos/data/hooktheory_all12_test'\n",
    "tokenizer = CSGridMLMTokenizer(fixed_length=256)\n",
    "val_dataset = CSGridMLMDataset(val_dir, tokenizer, 512)\n",
    "valloader = DataLoader(val_dataset, batch_size=batchsize, shuffle=False, collate_fn=CSGridMLM_collate_fn)"
   ]
  },
  {
   "cell_type": "code",
   "execution_count": 33,
   "id": "6845a169",
   "metadata": {},
   "outputs": [],
   "source": [
    "mask_token_id = tokenizer.mask_token_id\n",
    "stage = 0"
   ]
  },
  {
   "cell_type": "code",
   "execution_count": 34,
   "id": "02945c83",
   "metadata": {},
   "outputs": [
    {
     "data": {
      "text/plain": [
       "GridMLMMelHarm(\n",
       "  (condition_proj): Linear(in_features=16, out_features=512, bias=True)\n",
       "  (melody_proj): Linear(in_features=100, out_features=512, bias=True)\n",
       "  (harmony_embedding): Embedding(354, 512)\n",
       "  (dropout): Dropout(p=0.3, inplace=False)\n",
       "  (stage_embedding): Embedding(10, 64)\n",
       "  (stage_proj): Linear(in_features=576, out_features=512, bias=True)\n",
       "  (encoder): TransformerEncoder(\n",
       "    (layers): ModuleList(\n",
       "      (0-7): 8 x TransformerEncoderLayer(\n",
       "        (self_attn): MultiheadAttention(\n",
       "          (out_proj): NonDynamicallyQuantizableLinear(in_features=512, out_features=512, bias=True)\n",
       "        )\n",
       "        (linear1): Linear(in_features=512, out_features=2048, bias=True)\n",
       "        (dropout): Dropout(p=0.3, inplace=False)\n",
       "        (linear2): Linear(in_features=2048, out_features=512, bias=True)\n",
       "        (norm1): LayerNorm((512,), eps=1e-05, elementwise_affine=True)\n",
       "        (norm2): LayerNorm((512,), eps=1e-05, elementwise_affine=True)\n",
       "        (dropout1): Dropout(p=0.3, inplace=False)\n",
       "        (dropout2): Dropout(p=0.3, inplace=False)\n",
       "      )\n",
       "    )\n",
       "  )\n",
       "  (output_head): Linear(in_features=512, out_features=354, bias=True)\n",
       "  (input_norm): LayerNorm((512,), eps=1e-05, elementwise_affine=True)\n",
       "  (output_norm): LayerNorm((512,), eps=1e-05, elementwise_affine=True)\n",
       ")"
      ]
     },
     "execution_count": 34,
     "metadata": {},
     "output_type": "execute_result"
    }
   ],
   "source": [
    "curriculum_type = 'random'\n",
    "device_name = 'cuda:1'\n",
    "if device_name == 'cpu':\n",
    "    device = torch.device('cpu')\n",
    "else:\n",
    "    if torch.cuda.is_available():\n",
    "        device = torch.device(device_name)\n",
    "    else:\n",
    "        print('Selected device not available: ' + device_name)\n",
    "model = GridMLMMelHarm(\n",
    "    chord_vocab_size=len(tokenizer.vocab),\n",
    "    device=device\n",
    ")\n",
    "model_path = 'saved_models/' + curriculum_type +  '.pt'\n",
    "# checkpoint = torch.load(model_path, map_location=device_name, weights_only=True)\n",
    "checkpoint = torch.load(model_path, map_location=device_name)\n",
    "model.load_state_dict(checkpoint)\n",
    "model.eval()\n",
    "model.to(device)"
   ]
  },
  {
   "cell_type": "code",
   "execution_count": 35,
   "id": "bfa1cf9a",
   "metadata": {},
   "outputs": [
    {
     "name": "stderr",
     "output_type": "stream",
     "text": [
      "/home/maximos/miniconda3/envs/torch/lib/python3.12/site-packages/music21/stream/base.py:3694: Music21DeprecationWarning: .flat is deprecated.  Call .flatten() instead\n",
      "  return self.iter().getElementsByClass(classFilterList)\n"
     ]
    }
   ],
   "source": [
    "i = 0\n",
    "for batch in valloader:\n",
    "    if i == 0:\n",
    "        break\n",
    "    i += 1"
   ]
  },
  {
   "cell_type": "code",
   "execution_count": 36,
   "id": "ebc093ff",
   "metadata": {},
   "outputs": [],
   "source": [
    "melody_grid = batch[\"pianoroll\"].to(device)           # (B, 256, 140)\n",
    "harmony_gt = batch[\"input_ids\"].to(device)         # (B, 256)\n",
    "conditioning_vec = batch[\"time_signature\"].to(device)  # (B, C0)"
   ]
  },
  {
   "cell_type": "code",
   "execution_count": 37,
   "id": "74bcc27f",
   "metadata": {},
   "outputs": [],
   "source": [
    "generated_harmony = random_progressive_generate(\n",
    "    model=model,\n",
    "    melody_grid=melody_grid,\n",
    "    conditioning_vec=conditioning_vec,\n",
    "    num_stages=10,\n",
    "    mask_token_id=tokenizer.mask_token_id,\n",
    "    temperature=1.0,\n",
    "    strategy='topk'\n",
    ")\n"
   ]
  },
  {
   "cell_type": "code",
   "execution_count": 38,
   "id": "cdd0b369",
   "metadata": {},
   "outputs": [
    {
     "name": "stdout",
     "output_type": "stream",
     "text": [
      "generated_harmony: tensor([[ 93,  93,  93,  93,  93,  93,  93,  93, 151, 151, 151, 151, 151, 151,\n",
      "         151, 151, 151, 151, 151, 151, 151, 151, 151, 151, 151, 151, 151, 151,\n",
      "         151, 151, 151, 151, 296, 296, 296, 296, 296,  93, 296, 296,   6,   6,\n",
      "           6,   6,   6,   6,   6,   6,   6,   6,   6,   6,   6,   6,   6,   6,\n",
      "           6,   6,   6,   6,   6,   6,   6,   6,  93,  93,  93,  93,  93,  93,\n",
      "          93,  93, 151, 151, 151, 151, 151, 151, 151, 151, 151, 151, 151, 151,\n",
      "         151, 151, 151, 151, 151, 151, 151, 151, 151, 151, 151, 151,  93,  93,\n",
      "          93,  93,  93,  93,  93,  93,  93,  93,  93,  93,  93,  93,  93,  93,\n",
      "         180, 180, 180, 180, 180, 180, 180, 180, 238, 238, 238, 238, 238, 238,\n",
      "         238, 238,   1,   1,   1,   1,   1,   1,   1,   1,   1,   1,   1,   1,\n",
      "           1,   1,   1,   1,   1,   1,   1,   1,   1,   1,   1,   1,   1,   1,\n",
      "           1,   1,   1,   1,   1,   1,   1,   1,   1,   1,   1,   1,   1,   1,\n",
      "           1,   1,   1,   1,   1,   1,   1,   1,   1,   1,   1,   1,   1,   1,\n",
      "           1,   1,   1,   1,   1,   1,   1,   1,   1,   1,   1,   1,   1,   1,\n",
      "           1,   1,   1,   1,   1,   1,   1,   1,   1,   1,   1,   1,   1,   1,\n",
      "           1,   1,   1,   1,   1,   1,   1,   1,   1,   1,   1,   1,   1,   1,\n",
      "           1,   1,   1,   1,   1,   1,   1,   1,   1,   1,   1,   1,   1,   1,\n",
      "           1,   1,   1,   1,   1,   1,   1,   1,   1,   1,   1,   1,   1,   1,\n",
      "           1,   1,   1,   1]], device='cuda:1')\n",
      "output_tokens\n",
      "['0:D#:maj', '1:D#:maj', '2:D#:maj', '3:D#:maj', '4:D#:maj', '5:D#:maj', '6:D#:maj', '7:D#:maj', '8:F:maj', '9:F:maj', '10:F:maj', '11:F:maj', '12:F:maj', '13:F:maj', '14:F:maj', '15:F:maj', '16:F:maj', '17:F:maj', '18:F:maj', '19:F:maj', '20:F:maj', '21:F:maj', '22:F:maj', '23:F:maj', '24:F:maj', '25:F:maj', '26:F:maj', '27:F:maj', '28:F:maj', '29:F:maj', '30:F:maj', '31:F:maj', '32:A#:maj', '33:A#:maj', '34:A#:maj', '35:A#:maj', '36:A#:maj', '37:D#:maj', '38:A#:maj', '39:A#:maj', '40:C:maj', '41:C:maj', '42:C:maj', '43:C:maj', '44:C:maj', '45:C:maj', '46:C:maj', '47:C:maj', '48:C:maj', '49:C:maj', '50:C:maj', '51:C:maj', '52:C:maj', '53:C:maj', '54:C:maj', '55:C:maj', '56:C:maj', '57:C:maj', '58:C:maj', '59:C:maj', '60:C:maj', '61:C:maj', '62:C:maj', '63:C:maj', '64:D#:maj', '65:D#:maj', '66:D#:maj', '67:D#:maj', '68:D#:maj', '69:D#:maj', '70:D#:maj', '71:D#:maj', '72:F:maj', '73:F:maj', '74:F:maj', '75:F:maj', '76:F:maj', '77:F:maj', '78:F:maj', '79:F:maj', '80:F:maj', '81:F:maj', '82:F:maj', '83:F:maj', '84:F:maj', '85:F:maj', '86:F:maj', '87:F:maj', '88:F:maj', '89:F:maj', '90:F:maj', '91:F:maj', '92:F:maj', '93:F:maj', '94:F:maj', '95:F:maj', '96:D#:maj', '97:D#:maj', '98:D#:maj', '99:D#:maj', '100:D#:maj', '101:D#:maj', '102:D#:maj', '103:D#:maj', '104:D#:maj', '105:D#:maj', '106:D#:maj', '107:D#:maj', '108:D#:maj', '109:D#:maj', '110:D#:maj', '111:D#:maj', '112:F#:maj', '113:F#:maj', '114:F#:maj', '115:F#:maj', '116:F#:maj', '117:F#:maj', '118:F#:maj', '119:F#:maj', '120:G#:maj', '121:G#:maj', '122:G#:maj', '123:G#:maj', '124:G#:maj', '125:G#:maj', '126:G#:maj', '127:G#:maj', '128:<pad>', '129:<pad>', '130:<pad>', '131:<pad>', '132:<pad>', '133:<pad>', '134:<pad>', '135:<pad>', '136:<pad>', '137:<pad>', '138:<pad>', '139:<pad>', '140:<pad>', '141:<pad>', '142:<pad>', '143:<pad>', '144:<pad>', '145:<pad>', '146:<pad>', '147:<pad>', '148:<pad>', '149:<pad>', '150:<pad>', '151:<pad>', '152:<pad>', '153:<pad>', '154:<pad>', '155:<pad>', '156:<pad>', '157:<pad>', '158:<pad>', '159:<pad>', '160:<pad>', '161:<pad>', '162:<pad>', '163:<pad>', '164:<pad>', '165:<pad>', '166:<pad>', '167:<pad>', '168:<pad>', '169:<pad>', '170:<pad>', '171:<pad>', '172:<pad>', '173:<pad>', '174:<pad>', '175:<pad>', '176:<pad>', '177:<pad>', '178:<pad>', '179:<pad>', '180:<pad>', '181:<pad>', '182:<pad>', '183:<pad>', '184:<pad>', '185:<pad>', '186:<pad>', '187:<pad>', '188:<pad>', '189:<pad>', '190:<pad>', '191:<pad>', '192:<pad>', '193:<pad>', '194:<pad>', '195:<pad>', '196:<pad>', '197:<pad>', '198:<pad>', '199:<pad>', '200:<pad>', '201:<pad>', '202:<pad>', '203:<pad>', '204:<pad>', '205:<pad>', '206:<pad>', '207:<pad>', '208:<pad>', '209:<pad>', '210:<pad>', '211:<pad>', '212:<pad>', '213:<pad>', '214:<pad>', '215:<pad>', '216:<pad>', '217:<pad>', '218:<pad>', '219:<pad>', '220:<pad>', '221:<pad>', '222:<pad>', '223:<pad>', '224:<pad>', '225:<pad>', '226:<pad>', '227:<pad>', '228:<pad>', '229:<pad>', '230:<pad>', '231:<pad>', '232:<pad>', '233:<pad>', '234:<pad>', '235:<pad>', '236:<pad>', '237:<pad>', '238:<pad>', '239:<pad>', '240:<pad>', '241:<pad>', '242:<pad>', '243:<pad>', '244:<pad>', '245:<pad>', '246:<pad>', '247:<pad>', '248:<pad>', '249:<pad>', '250:<pad>', '251:<pad>', '252:<pad>', '253:<pad>', '254:<pad>', '255:<pad>']\n",
      "harmony_gt_tokens\n",
      "['0:A#:maj', '1:A#:maj', '2:A#:maj', '3:A#:maj', '4:A#:maj', '5:A#:maj', '6:A#:maj', '7:A#:maj', '8:C:maj', '9:C:maj', '10:C:maj', '11:C:maj', '12:C:maj', '13:C:maj', '14:C:maj', '15:C:maj', '16:D:min', '17:D:min', '18:D:min', '19:D:min', '20:D:min', '21:D:min', '22:D:min', '23:D:min', '24:D:min', '25:D:min', '26:D:min', '27:D:min', '28:D:min', '29:D:min', '30:D:min', '31:D:min', '32:A#:maj', '33:A#:maj', '34:A#:maj', '35:A#:maj', '36:A#:maj', '37:A#:maj', '38:A#:maj', '39:A#:maj', '40:C:maj', '41:C:maj', '42:C:maj', '43:C:maj', '44:C:maj', '45:C:maj', '46:C:maj', '47:C:maj', '48:D:min', '49:D:min', '50:D:min', '51:D:min', '52:D:min', '53:D:min', '54:D:min', '55:D:min', '56:D:min', '57:D:min', '58:D:min', '59:D:min', '60:D:min', '61:D:min', '62:D:min', '63:D:min', '64:A#:maj', '65:A#:maj', '66:A#:maj', '67:A#:maj', '68:A#:maj', '69:A#:maj', '70:A#:maj', '71:A#:maj', '72:C:maj', '73:C:maj', '74:C:maj', '75:C:maj', '76:C:maj', '77:C:maj', '78:C:maj', '79:C:maj', '80:D:min', '81:D:min', '82:D:min', '83:D:min', '84:D:min', '85:D:min', '86:D:min', '87:D:min', '88:D:min', '89:D:min', '90:D:min', '91:D:min', '92:D:min', '93:D:min', '94:D:min', '95:D:min', '96:D#:maj', '97:D#:maj', '98:D#:maj', '99:D#:maj', '100:D#:maj', '101:D#:maj', '102:D#:maj', '103:D#:maj', '104:D#:maj', '105:D#:maj', '106:D#:maj', '107:D#:maj', '108:D#:maj', '109:D#:maj', '110:D#:maj', '111:D#:maj', '112:G:dim', '113:G:dim', '114:G:dim', '115:G:dim', '116:G:dim', '117:G:dim', '118:C#:maj', '119:C#:maj', '120:C#:maj', '121:C#:maj', '122:C#:maj', '123:C#:maj', '124:C#:maj', '125:C#:maj', '126:C#:maj', '127:C#:maj', '128:<pad>', '129:<pad>', '130:<pad>', '131:<pad>', '132:<pad>', '133:<pad>', '134:<pad>', '135:<pad>', '136:<pad>', '137:<pad>', '138:<pad>', '139:<pad>', '140:<pad>', '141:<pad>', '142:<pad>', '143:<pad>', '144:<pad>', '145:<pad>', '146:<pad>', '147:<pad>', '148:<pad>', '149:<pad>', '150:<pad>', '151:<pad>', '152:<pad>', '153:<pad>', '154:<pad>', '155:<pad>', '156:<pad>', '157:<pad>', '158:<pad>', '159:<pad>', '160:<pad>', '161:<pad>', '162:<pad>', '163:<pad>', '164:<pad>', '165:<pad>', '166:<pad>', '167:<pad>', '168:<pad>', '169:<pad>', '170:<pad>', '171:<pad>', '172:<pad>', '173:<pad>', '174:<pad>', '175:<pad>', '176:<pad>', '177:<pad>', '178:<pad>', '179:<pad>', '180:<pad>', '181:<pad>', '182:<pad>', '183:<pad>', '184:<pad>', '185:<pad>', '186:<pad>', '187:<pad>', '188:<pad>', '189:<pad>', '190:<pad>', '191:<pad>', '192:<pad>', '193:<pad>', '194:<pad>', '195:<pad>', '196:<pad>', '197:<pad>', '198:<pad>', '199:<pad>', '200:<pad>', '201:<pad>', '202:<pad>', '203:<pad>', '204:<pad>', '205:<pad>', '206:<pad>', '207:<pad>', '208:<pad>', '209:<pad>', '210:<pad>', '211:<pad>', '212:<pad>', '213:<pad>', '214:<pad>', '215:<pad>', '216:<pad>', '217:<pad>', '218:<pad>', '219:<pad>', '220:<pad>', '221:<pad>', '222:<pad>', '223:<pad>', '224:<pad>', '225:<pad>', '226:<pad>', '227:<pad>', '228:<pad>', '229:<pad>', '230:<pad>', '231:<pad>', '232:<pad>', '233:<pad>', '234:<pad>', '235:<pad>', '236:<pad>', '237:<pad>', '238:<pad>', '239:<pad>', '240:<pad>', '241:<pad>', '242:<pad>', '243:<pad>', '244:<pad>', '245:<pad>', '246:<pad>', '247:<pad>', '248:<pad>', '249:<pad>', '250:<pad>', '251:<pad>', '252:<pad>', '253:<pad>', '254:<pad>', '255:<pad>']\n"
     ]
    }
   ],
   "source": [
    "print('generated_harmony:', generated_harmony)\n",
    "output_tokens = []\n",
    "for i,t in enumerate(generated_harmony[0].tolist()):\n",
    "    output_tokens.append( str(i) + ':' + tokenizer.ids_to_tokens[t] )\n",
    "print('output_tokens')\n",
    "print(output_tokens)\n",
    "\n",
    "harmony_gt_tokens = []\n",
    "for i,t in enumerate(harmony_gt[0].tolist()):\n",
    "    harmony_gt_tokens.append( str(i) + ':' + tokenizer.ids_to_tokens[t] )\n",
    "print('harmony_gt_tokens')\n",
    "print(harmony_gt_tokens)"
   ]
  },
  {
   "cell_type": "code",
   "execution_count": 39,
   "id": "7e1f5079",
   "metadata": {},
   "outputs": [
    {
     "data": {
      "text/plain": [
       "GridMLMMelHarm(\n",
       "  (condition_proj): Linear(in_features=16, out_features=512, bias=True)\n",
       "  (melody_proj): Linear(in_features=100, out_features=512, bias=True)\n",
       "  (harmony_embedding): Embedding(354, 512)\n",
       "  (dropout): Dropout(p=0.3, inplace=False)\n",
       "  (stage_embedding): Embedding(10, 64)\n",
       "  (stage_proj): Linear(in_features=576, out_features=512, bias=True)\n",
       "  (encoder): TransformerEncoder(\n",
       "    (layers): ModuleList(\n",
       "      (0-7): 8 x TransformerEncoderLayer(\n",
       "        (self_attn): MultiheadAttention(\n",
       "          (out_proj): NonDynamicallyQuantizableLinear(in_features=512, out_features=512, bias=True)\n",
       "        )\n",
       "        (linear1): Linear(in_features=512, out_features=2048, bias=True)\n",
       "        (dropout): Dropout(p=0.3, inplace=False)\n",
       "        (linear2): Linear(in_features=2048, out_features=512, bias=True)\n",
       "        (norm1): LayerNorm((512,), eps=1e-05, elementwise_affine=True)\n",
       "        (norm2): LayerNorm((512,), eps=1e-05, elementwise_affine=True)\n",
       "        (dropout1): Dropout(p=0.3, inplace=False)\n",
       "        (dropout2): Dropout(p=0.3, inplace=False)\n",
       "      )\n",
       "    )\n",
       "  )\n",
       "  (output_head): Linear(in_features=512, out_features=354, bias=True)\n",
       "  (input_norm): LayerNorm((512,), eps=1e-05, elementwise_affine=True)\n",
       "  (output_norm): LayerNorm((512,), eps=1e-05, elementwise_affine=True)\n",
       ")"
      ]
     },
     "execution_count": 39,
     "metadata": {},
     "output_type": "execute_result"
    }
   ],
   "source": [
    "curriculum_type = 'random'\n",
    "device_name = 'cuda:1'\n",
    "if device_name == 'cpu':\n",
    "    device = torch.device('cpu')\n",
    "else:\n",
    "    if torch.cuda.is_available():\n",
    "        device = torch.device(device_name)\n",
    "    else:\n",
    "        print('Selected device not available: ' + device_name)\n",
    "model = GridMLMMelHarm(\n",
    "    chord_vocab_size=len(tokenizer.vocab),\n",
    "    device=device\n",
    ")\n",
    "model_path = 'saved_models/' + curriculum_type +  '.pt'\n",
    "# checkpoint = torch.load(model_path, map_location=device_name, weights_only=True)\n",
    "checkpoint = torch.load(model_path, map_location=device_name)\n",
    "model.load_state_dict(checkpoint)\n",
    "model.eval()\n",
    "model.to(device)"
   ]
  },
  {
   "cell_type": "code",
   "execution_count": 40,
   "id": "6fc4a508",
   "metadata": {},
   "outputs": [],
   "source": [
    "generated_harmony = random_progressive_generate(\n",
    "    model=model,\n",
    "    melody_grid=melody_grid,\n",
    "    conditioning_vec=conditioning_vec,\n",
    "    num_stages=10,\n",
    "    mask_token_id=tokenizer.mask_token_id,\n",
    "    temperature=1.0,\n",
    "    strategy='topk'\n",
    ")"
   ]
  },
  {
   "cell_type": "code",
   "execution_count": 41,
   "id": "2be0c830",
   "metadata": {},
   "outputs": [
    {
     "name": "stdout",
     "output_type": "stream",
     "text": [
      "generated_harmony: tensor([[ 93,  93,  93,  93,  93,  93,  93,  93, 151, 151, 151, 151, 151, 151,\n",
      "         151, 151, 151, 151, 151, 151, 151, 151, 151, 151, 151, 151, 151, 151,\n",
      "         151, 151, 151, 151, 296, 296, 296, 296, 296,  93, 296, 296,   6,   6,\n",
      "           6,   6,   6,   6,   6,   6,   6,   6,   6,   6,   6,   6,   6,   6,\n",
      "           6,   6,   6,   6,   6,   6,   6,   6,  93,  93,  93,  93,  93,  93,\n",
      "          93,  93, 151, 151, 151, 151, 151, 151, 151, 151, 151, 151, 151, 151,\n",
      "         151, 151, 151, 151, 151, 151, 151, 151, 151, 151, 151, 151,  93,  93,\n",
      "          93,  93,  93,  93,  93,  93,  93,  93,  93,  93,  93,  93,  93,  93,\n",
      "         180, 180, 180, 180, 180, 180, 180, 180, 238, 238, 238, 238, 238, 238,\n",
      "         238, 238,   1,   1,   1,   1,   1,   1,   1,   1,   1,   1,   1,   1,\n",
      "           1,   1,   1,   1,   1,   1,   1,   1,   1,   1,   1,   1,   1,   1,\n",
      "           1,   1,   1,   1,   1,   1,   1,   1,   1,   1,   1,   1,   1,   1,\n",
      "           1,   1,   1,   1,   1,   1,   1,   1,   1,   1,   1,   1,   1,   1,\n",
      "           1,   1,   1,   1,   1,   1,   1,   1,   1,   1,   1,   1,   1,   1,\n",
      "           1,   1,   1,   1,   1,   1,   1,   1,   1,   1,   1,   1,   1,   1,\n",
      "           1,   1,   1,   1,   1,   1,   1,   1,   1,   1,   1,   1,   1,   1,\n",
      "           1,   1,   1,   1,   1,   1,   1,   1,   1,   1,   1,   1,   1,   1,\n",
      "           1,   1,   1,   1,   1,   1,   1,   1,   1,   1,   1,   1,   1,   1,\n",
      "           1,   1,   1,   1]], device='cuda:1')\n",
      "output_tokens\n",
      "['0:D#:maj', '1:D#:maj', '2:D#:maj', '3:D#:maj', '4:D#:maj', '5:D#:maj', '6:D#:maj', '7:D#:maj', '8:F:maj', '9:F:maj', '10:F:maj', '11:F:maj', '12:F:maj', '13:F:maj', '14:F:maj', '15:F:maj', '16:F:maj', '17:F:maj', '18:F:maj', '19:F:maj', '20:F:maj', '21:F:maj', '22:F:maj', '23:F:maj', '24:F:maj', '25:F:maj', '26:F:maj', '27:F:maj', '28:F:maj', '29:F:maj', '30:F:maj', '31:F:maj', '32:A#:maj', '33:A#:maj', '34:A#:maj', '35:A#:maj', '36:A#:maj', '37:D#:maj', '38:A#:maj', '39:A#:maj', '40:C:maj', '41:C:maj', '42:C:maj', '43:C:maj', '44:C:maj', '45:C:maj', '46:C:maj', '47:C:maj', '48:C:maj', '49:C:maj', '50:C:maj', '51:C:maj', '52:C:maj', '53:C:maj', '54:C:maj', '55:C:maj', '56:C:maj', '57:C:maj', '58:C:maj', '59:C:maj', '60:C:maj', '61:C:maj', '62:C:maj', '63:C:maj', '64:D#:maj', '65:D#:maj', '66:D#:maj', '67:D#:maj', '68:D#:maj', '69:D#:maj', '70:D#:maj', '71:D#:maj', '72:F:maj', '73:F:maj', '74:F:maj', '75:F:maj', '76:F:maj', '77:F:maj', '78:F:maj', '79:F:maj', '80:F:maj', '81:F:maj', '82:F:maj', '83:F:maj', '84:F:maj', '85:F:maj', '86:F:maj', '87:F:maj', '88:F:maj', '89:F:maj', '90:F:maj', '91:F:maj', '92:F:maj', '93:F:maj', '94:F:maj', '95:F:maj', '96:D#:maj', '97:D#:maj', '98:D#:maj', '99:D#:maj', '100:D#:maj', '101:D#:maj', '102:D#:maj', '103:D#:maj', '104:D#:maj', '105:D#:maj', '106:D#:maj', '107:D#:maj', '108:D#:maj', '109:D#:maj', '110:D#:maj', '111:D#:maj', '112:F#:maj', '113:F#:maj', '114:F#:maj', '115:F#:maj', '116:F#:maj', '117:F#:maj', '118:F#:maj', '119:F#:maj', '120:G#:maj', '121:G#:maj', '122:G#:maj', '123:G#:maj', '124:G#:maj', '125:G#:maj', '126:G#:maj', '127:G#:maj', '128:<pad>', '129:<pad>', '130:<pad>', '131:<pad>', '132:<pad>', '133:<pad>', '134:<pad>', '135:<pad>', '136:<pad>', '137:<pad>', '138:<pad>', '139:<pad>', '140:<pad>', '141:<pad>', '142:<pad>', '143:<pad>', '144:<pad>', '145:<pad>', '146:<pad>', '147:<pad>', '148:<pad>', '149:<pad>', '150:<pad>', '151:<pad>', '152:<pad>', '153:<pad>', '154:<pad>', '155:<pad>', '156:<pad>', '157:<pad>', '158:<pad>', '159:<pad>', '160:<pad>', '161:<pad>', '162:<pad>', '163:<pad>', '164:<pad>', '165:<pad>', '166:<pad>', '167:<pad>', '168:<pad>', '169:<pad>', '170:<pad>', '171:<pad>', '172:<pad>', '173:<pad>', '174:<pad>', '175:<pad>', '176:<pad>', '177:<pad>', '178:<pad>', '179:<pad>', '180:<pad>', '181:<pad>', '182:<pad>', '183:<pad>', '184:<pad>', '185:<pad>', '186:<pad>', '187:<pad>', '188:<pad>', '189:<pad>', '190:<pad>', '191:<pad>', '192:<pad>', '193:<pad>', '194:<pad>', '195:<pad>', '196:<pad>', '197:<pad>', '198:<pad>', '199:<pad>', '200:<pad>', '201:<pad>', '202:<pad>', '203:<pad>', '204:<pad>', '205:<pad>', '206:<pad>', '207:<pad>', '208:<pad>', '209:<pad>', '210:<pad>', '211:<pad>', '212:<pad>', '213:<pad>', '214:<pad>', '215:<pad>', '216:<pad>', '217:<pad>', '218:<pad>', '219:<pad>', '220:<pad>', '221:<pad>', '222:<pad>', '223:<pad>', '224:<pad>', '225:<pad>', '226:<pad>', '227:<pad>', '228:<pad>', '229:<pad>', '230:<pad>', '231:<pad>', '232:<pad>', '233:<pad>', '234:<pad>', '235:<pad>', '236:<pad>', '237:<pad>', '238:<pad>', '239:<pad>', '240:<pad>', '241:<pad>', '242:<pad>', '243:<pad>', '244:<pad>', '245:<pad>', '246:<pad>', '247:<pad>', '248:<pad>', '249:<pad>', '250:<pad>', '251:<pad>', '252:<pad>', '253:<pad>', '254:<pad>', '255:<pad>']\n",
      "harmony_gt_tokens\n",
      "['0:A#:maj', '1:A#:maj', '2:A#:maj', '3:A#:maj', '4:A#:maj', '5:A#:maj', '6:A#:maj', '7:A#:maj', '8:C:maj', '9:C:maj', '10:C:maj', '11:C:maj', '12:C:maj', '13:C:maj', '14:C:maj', '15:C:maj', '16:D:min', '17:D:min', '18:D:min', '19:D:min', '20:D:min', '21:D:min', '22:D:min', '23:D:min', '24:D:min', '25:D:min', '26:D:min', '27:D:min', '28:D:min', '29:D:min', '30:D:min', '31:D:min', '32:A#:maj', '33:A#:maj', '34:A#:maj', '35:A#:maj', '36:A#:maj', '37:A#:maj', '38:A#:maj', '39:A#:maj', '40:C:maj', '41:C:maj', '42:C:maj', '43:C:maj', '44:C:maj', '45:C:maj', '46:C:maj', '47:C:maj', '48:D:min', '49:D:min', '50:D:min', '51:D:min', '52:D:min', '53:D:min', '54:D:min', '55:D:min', '56:D:min', '57:D:min', '58:D:min', '59:D:min', '60:D:min', '61:D:min', '62:D:min', '63:D:min', '64:A#:maj', '65:A#:maj', '66:A#:maj', '67:A#:maj', '68:A#:maj', '69:A#:maj', '70:A#:maj', '71:A#:maj', '72:C:maj', '73:C:maj', '74:C:maj', '75:C:maj', '76:C:maj', '77:C:maj', '78:C:maj', '79:C:maj', '80:D:min', '81:D:min', '82:D:min', '83:D:min', '84:D:min', '85:D:min', '86:D:min', '87:D:min', '88:D:min', '89:D:min', '90:D:min', '91:D:min', '92:D:min', '93:D:min', '94:D:min', '95:D:min', '96:D#:maj', '97:D#:maj', '98:D#:maj', '99:D#:maj', '100:D#:maj', '101:D#:maj', '102:D#:maj', '103:D#:maj', '104:D#:maj', '105:D#:maj', '106:D#:maj', '107:D#:maj', '108:D#:maj', '109:D#:maj', '110:D#:maj', '111:D#:maj', '112:G:dim', '113:G:dim', '114:G:dim', '115:G:dim', '116:G:dim', '117:G:dim', '118:C#:maj', '119:C#:maj', '120:C#:maj', '121:C#:maj', '122:C#:maj', '123:C#:maj', '124:C#:maj', '125:C#:maj', '126:C#:maj', '127:C#:maj', '128:<pad>', '129:<pad>', '130:<pad>', '131:<pad>', '132:<pad>', '133:<pad>', '134:<pad>', '135:<pad>', '136:<pad>', '137:<pad>', '138:<pad>', '139:<pad>', '140:<pad>', '141:<pad>', '142:<pad>', '143:<pad>', '144:<pad>', '145:<pad>', '146:<pad>', '147:<pad>', '148:<pad>', '149:<pad>', '150:<pad>', '151:<pad>', '152:<pad>', '153:<pad>', '154:<pad>', '155:<pad>', '156:<pad>', '157:<pad>', '158:<pad>', '159:<pad>', '160:<pad>', '161:<pad>', '162:<pad>', '163:<pad>', '164:<pad>', '165:<pad>', '166:<pad>', '167:<pad>', '168:<pad>', '169:<pad>', '170:<pad>', '171:<pad>', '172:<pad>', '173:<pad>', '174:<pad>', '175:<pad>', '176:<pad>', '177:<pad>', '178:<pad>', '179:<pad>', '180:<pad>', '181:<pad>', '182:<pad>', '183:<pad>', '184:<pad>', '185:<pad>', '186:<pad>', '187:<pad>', '188:<pad>', '189:<pad>', '190:<pad>', '191:<pad>', '192:<pad>', '193:<pad>', '194:<pad>', '195:<pad>', '196:<pad>', '197:<pad>', '198:<pad>', '199:<pad>', '200:<pad>', '201:<pad>', '202:<pad>', '203:<pad>', '204:<pad>', '205:<pad>', '206:<pad>', '207:<pad>', '208:<pad>', '209:<pad>', '210:<pad>', '211:<pad>', '212:<pad>', '213:<pad>', '214:<pad>', '215:<pad>', '216:<pad>', '217:<pad>', '218:<pad>', '219:<pad>', '220:<pad>', '221:<pad>', '222:<pad>', '223:<pad>', '224:<pad>', '225:<pad>', '226:<pad>', '227:<pad>', '228:<pad>', '229:<pad>', '230:<pad>', '231:<pad>', '232:<pad>', '233:<pad>', '234:<pad>', '235:<pad>', '236:<pad>', '237:<pad>', '238:<pad>', '239:<pad>', '240:<pad>', '241:<pad>', '242:<pad>', '243:<pad>', '244:<pad>', '245:<pad>', '246:<pad>', '247:<pad>', '248:<pad>', '249:<pad>', '250:<pad>', '251:<pad>', '252:<pad>', '253:<pad>', '254:<pad>', '255:<pad>']\n"
     ]
    }
   ],
   "source": [
    "print('generated_harmony:', generated_harmony)\n",
    "output_tokens = []\n",
    "for i,t in enumerate(generated_harmony[0].tolist()):\n",
    "    output_tokens.append( str(i) + ':' + tokenizer.ids_to_tokens[t] )\n",
    "print('output_tokens')\n",
    "print(output_tokens)\n",
    "\n",
    "harmony_gt_tokens = []\n",
    "for i,t in enumerate(harmony_gt[0].tolist()):\n",
    "    harmony_gt_tokens.append( str(i) + ':' + tokenizer.ids_to_tokens[t] )\n",
    "print('harmony_gt_tokens')\n",
    "print(harmony_gt_tokens)"
   ]
  },
  {
   "cell_type": "code",
   "execution_count": 42,
   "id": "e9b8c333",
   "metadata": {},
   "outputs": [
    {
     "name": "stdout",
     "output_type": "stream",
     "text": [
      "10486\n"
     ]
    }
   ],
   "source": [
    "import os\n",
    "data_files = []\n",
    "for dirpath, _, filenames in os.walk(val_dir):\n",
    "    for file in filenames:\n",
    "        if file.endswith('.xml') or file.endswith('.mxl') or file.endswith('.musicxml'):\n",
    "            full_path = os.path.join(dirpath, file)\n",
    "            data_files.append(full_path)\n",
    "print(len(data_files))"
   ]
  },
  {
   "cell_type": "code",
   "execution_count": 43,
   "id": "797e6f56",
   "metadata": {},
   "outputs": [],
   "source": [
    "encoded = tokenizer.encode(data_files[1473])"
   ]
  },
  {
   "cell_type": "code",
   "execution_count": 44,
   "id": "dffcc448",
   "metadata": {},
   "outputs": [
    {
     "name": "stdout",
     "output_type": "stream",
     "text": [
      "dict_keys(['input_tokens', 'input_ids', 'pianoroll', 'time_signature', 'attention_mask', 'skip_steps', 'melody_part', 'ql_per_quantum'])\n"
     ]
    }
   ],
   "source": [
    "print(encoded.keys())"
   ]
  },
  {
   "cell_type": "code",
   "execution_count": 45,
   "id": "52a3756c",
   "metadata": {},
   "outputs": [],
   "source": [
    "melody_grid = torch.stack([torch.tensor(encoded['pianoroll'], dtype=torch.float)])\n",
    "conditioning_vec = torch.stack([torch.tensor(encoded['time_signature'], dtype=torch.float)])\n",
    "harmony_gt = torch.stack([torch.tensor(encoded['input_ids'], dtype=torch.float)])"
   ]
  },
  {
   "cell_type": "code",
   "execution_count": 46,
   "id": "cf7caa70",
   "metadata": {},
   "outputs": [],
   "source": [
    "generated_harmony = structured_progressive_generate(\n",
    "    model=model,\n",
    "    melody_grid=melody_grid,\n",
    "    conditioning_vec=conditioning_vec,\n",
    "    num_stages=10,\n",
    "    mask_token_id=tokenizer.mask_token_id,\n",
    "    temperature=1.0,\n",
    "    strategy='topk'\n",
    ")"
   ]
  },
  {
   "cell_type": "code",
   "execution_count": 47,
   "id": "30a895ca",
   "metadata": {},
   "outputs": [
    {
     "name": "stdout",
     "output_type": "stream",
     "text": [
      "output_tokens\n",
      "['<nc>', '<nc>', '<nc>', '<nc>', '<nc>', '<nc>', '<nc>', '<nc>', '<nc>', '<nc>', '<nc>', '<nc>', '<nc>', '<nc>', '<nc>', '<nc>', 'D:maj', 'D:maj', 'D:maj', 'D:maj', 'D:maj', 'D:maj', 'D:maj', 'D:maj', 'D:maj', 'D:maj', 'D:maj', 'D:maj', 'D:maj', 'D:maj', 'D:maj', 'D:maj', 'D:maj', 'D:maj', 'D:maj', 'D:maj', 'D:maj', 'D:maj', 'D:maj', 'D:maj', 'D:maj', 'D:maj', 'D:maj', 'D:maj', 'D:maj', 'D:maj', 'D:maj', 'D:maj', 'G:maj', 'G:maj', 'G:maj', 'G:maj', 'G:maj', 'G:maj', 'G:maj', 'G:maj', 'G:maj', 'G:maj', 'G:maj', 'G:maj', 'G:maj', 'G:maj', 'G:maj', 'G:maj', 'D:maj', 'D:maj', 'D:maj', 'D:maj', 'D:maj', 'D:maj', 'D:maj', 'D:maj', 'D:maj', 'D:maj', 'D:maj', 'D:maj', 'D:maj', 'D:maj', 'D:maj', 'D:maj', 'D:maj', 'D:maj', 'D:maj', 'D:maj', 'D:maj', 'D:maj', 'D:maj', 'D:maj', 'D:maj', 'D:maj', 'D:maj', 'D:maj', 'D:maj', 'D:maj', 'D:maj', 'D:maj', 'D:maj', 'D:maj', 'D:maj', 'D:maj', 'D:maj', 'D:maj', 'D:maj', 'D:maj', 'D:maj', 'D:maj', 'D:maj', 'D:maj', 'D:maj', 'D:maj', 'D:maj', 'D:maj', 'D:maj', 'D:maj', 'D:maj', 'D:maj', 'D:maj', 'D:maj', 'D:maj', 'D:maj', 'G:maj', 'G:maj', 'G:maj', 'G:maj', 'G:maj', 'G:maj', 'G:maj', 'G:maj', 'D:maj', 'D:maj', 'D:maj', 'D:maj', 'D:maj', 'D:maj', 'D:maj', 'D:maj', 'D:maj', 'D:maj', 'D:maj', 'D:maj', 'D:maj', 'D:maj', 'D:maj', 'D:maj', 'D:maj', 'D:maj', 'D:maj', 'D:maj', 'D:maj', 'D:maj', 'D:maj', 'D:maj', 'D:maj', 'D:maj', 'D:maj', 'D:maj', 'D:maj', 'D:maj', 'D:maj', 'D:maj', 'D:maj', 'D:maj', 'D:maj', 'D:maj', 'D:maj', 'D:maj', 'D:maj', 'D:maj', 'D:maj', 'D:maj', 'D:maj', 'D:maj', 'D:maj', 'D:maj', 'D:maj', 'D:maj', 'G:maj', 'G:maj', 'G:maj', 'G:maj', 'G:maj', 'G:maj', 'G:maj', 'G:maj', 'G:maj', 'G:maj', 'G:maj', 'G:maj', 'G:maj', 'G:maj', 'G:maj', 'G:maj', 'D:maj', 'D:maj', 'D:maj', 'D:maj', 'D:maj', 'D:maj', 'D:maj', 'D:maj', 'D:maj', 'D:maj', 'D:maj', 'D:maj', 'D:maj', 'D:maj', 'D:maj', 'D:maj', 'D:maj', 'D:maj', 'D:maj', 'D:maj', 'D:maj', 'D:maj', 'D:maj', 'D:maj', 'D:maj', 'D:maj', 'D:maj', 'D:maj', 'D:maj', 'D:maj', 'D:maj', 'D:maj', 'D:maj', 'D:maj', 'D:maj', 'D:maj', 'D:maj', 'D:maj', 'D:maj', 'D:maj', 'D:maj', 'D:maj', 'D:maj', 'D:maj', 'D:maj', 'D:maj', 'D:maj', 'D:maj', 'D:maj', 'D:maj', 'D:maj', 'D:maj', 'D:maj', 'D:maj', 'D:maj', 'D:maj', 'D:maj', 'D:maj', 'D:maj', 'D:maj', 'D:maj', 'D:maj', 'D:maj', 'D:maj']\n",
      "harmony_gt_tokens\n",
      "['B:7', 'B:7', 'B:7', 'B:7', 'B:7', 'B:7', 'B:7', 'B:7', 'B:7', 'B:7', 'B:7', 'B:7', 'B:7', 'B:7', 'B:min', 'B:min', 'B:min', 'B:min', 'B:min', 'B:min', 'B:min', 'B:min', 'B:min', 'B:min', 'B:min', 'B:min', 'B:min', 'B:min', 'B:min', 'B:min', 'B:min', 'B:min', 'A:maj', 'A:maj', 'A:maj', 'A:maj', 'A:maj', 'A:maj', 'A:maj', 'A:maj', 'A:maj', 'A:maj', 'A:maj', 'A:maj', 'A:maj', 'A:maj', 'A:maj', 'A:maj', 'F#:min7', 'F#:min7', 'F#:min7', 'F#:min7', 'F#:min7', 'F#:min7', 'F#:min7', 'F#:min7', 'F#:min7', 'F#:min7', 'F#:min7', 'F#:min7', 'F#:min7', 'F#:min7', 'F#:min7', 'F#:min7', 'F#:min7', 'F#:min7', 'G:maj', 'G:maj', 'G:maj', 'G:maj', 'G:maj', 'G:maj', 'G:maj', 'G:maj', 'G:maj', 'G:maj', 'G:maj', 'G:maj', 'G:maj', 'G:maj', 'B:min', 'B:min', 'B:min', 'B:min', 'B:min', 'B:min', 'B:min', 'B:min', 'B:min', 'B:min', 'B:min', 'B:min', 'B:min', 'B:min', 'B:min', 'B:min', 'A:maj', 'A:maj', 'A:maj', 'A:maj', 'A:maj', 'A:maj', 'A:maj', 'A:maj', 'A:maj', 'A:maj', 'A:maj', 'A:maj', 'A:maj', 'A:maj', 'A:maj', 'A:maj', 'F#:min7', 'F#:min7', 'F#:min7', 'F#:min7', 'F#:min7', 'F#:min7', 'F#:min7', 'F#:min7', 'F#:min7', 'F#:min7', 'F#:min7', 'F#:min7', 'F#:min7', 'F#:min7', 'F#:min7', 'F#:min7', 'F#:min7', 'F#:min7', 'G:maj', 'G:maj', 'G:maj', 'G:maj', 'G:maj', 'G:maj', 'G:maj', 'G:maj', 'G:maj', 'G:maj', 'G:maj', 'G:maj', 'G:maj', 'G:maj', 'B:min', 'B:min', 'B:min', 'B:min', 'B:min', 'B:min', 'B:min', 'B:min', 'B:min', 'B:min', 'B:min', 'B:min', 'B:min', 'B:min', 'B:min', 'B:min', 'A:maj', 'A:maj', 'A:maj', 'A:maj', 'A:maj', 'A:maj', 'A:maj', 'A:maj', 'A:maj', 'A:maj', 'A:maj', 'A:maj', 'A:maj', 'A:maj', 'A:maj', 'A:maj', 'F#:min7', 'F#:min7', 'F#:min7', 'F#:min7', 'F#:min7', 'F#:min7', 'F#:min7', 'F#:min7', 'F#:min7', 'F#:min7', 'F#:min7', 'F#:min7', 'F#:min7', 'F#:min7', 'F#:min7', 'F#:min7', 'G:maj', 'G:maj', 'G:maj', 'G:maj', 'G:maj', 'G:maj', 'G:maj', 'G:maj', 'G:maj', 'G:maj', 'G:maj', 'G:maj', 'G:maj', 'G:maj', 'G:maj', 'G:maj', 'B:min', 'B:min', 'B:min', 'B:min', 'B:min', 'B:min', 'B:min', 'B:min', 'B:min', 'B:min', 'B:min', 'B:min', 'B:min', 'B:min', 'B:min', 'B:min', 'A:maj', 'A:maj', 'A:maj', 'A:maj', 'A:maj', 'A:maj', 'A:maj', 'A:maj', 'A:maj', 'A:maj', 'A:maj', 'A:maj', 'A:maj', 'A:maj', 'A:maj', 'A:maj', 'F#:min7', 'F#:min7', 'F#:min7', 'F#:min7', 'F#:min7', 'F#:min7', 'F#:min7', 'F#:min7', 'F#:min7', 'F#:min7', 'F#:min7', 'F#:min7', 'F#:min7', 'F#:min7', 'F#:min7', 'F#:min7']\n"
     ]
    }
   ],
   "source": [
    "output_tokens = []\n",
    "for i,t in enumerate(generated_harmony[0].tolist()):\n",
    "    output_tokens.append( tokenizer.ids_to_tokens[t] )\n",
    "print('output_tokens')\n",
    "print(output_tokens)\n",
    "\n",
    "harmony_gt_tokens = []\n",
    "for i,t in enumerate(harmony_gt[0].tolist()):\n",
    "    harmony_gt_tokens.append( tokenizer.ids_to_tokens[t] )\n",
    "print('harmony_gt_tokens')\n",
    "print(harmony_gt_tokens)"
   ]
  },
  {
   "cell_type": "code",
   "execution_count": 48,
   "id": "af228e59",
   "metadata": {},
   "outputs": [],
   "source": [
    "from music21 import harmony, stream, metadata, chord, meter\n",
    "import mir_eval\n",
    "import numpy as np\n",
    "from copy import deepcopy\n",
    "\n",
    "def overlay_generated_harmony(melody_part, generated_chords, ql_per_16th, skip_steps):\n",
    "    # create a part for chords in midi format\n",
    "    chords_part = stream.Part()\n",
    "    # Create deep copy of flat melody part\n",
    "    harmonized_part = deepcopy(melody_part)\n",
    "    \n",
    "    # Remove old chord symbols\n",
    "    for el in harmonized_part.recurse().getElementsByClass(harmony.ChordSymbol):\n",
    "        harmonized_part.remove(el)\n",
    "\n",
    "    # Track inserted chords\n",
    "    last_chord_symbol = None\n",
    "    inserted_chords = {}\n",
    "\n",
    "    for i, mir_chord in enumerate(generated_chords):\n",
    "        if mir_chord in (\"<pad>\", \"<nc>\"):\n",
    "            continue\n",
    "        if mir_chord == last_chord_symbol:\n",
    "            continue\n",
    "\n",
    "        offset = (i + skip_steps) * ql_per_16th\n",
    "\n",
    "        # Decode mir_eval chord symbol to chord symbol object\n",
    "        try:\n",
    "            r, t, _ = mir_eval.chord.encode(mir_chord, reduce_extended_chords=True)\n",
    "            pcs = r + np.where(t > 0)[0] + 48\n",
    "            c = chord.Chord(pcs.tolist())\n",
    "            chord_symbol = harmony.chordSymbolFromChord(c)\n",
    "        except Exception as e:\n",
    "            print(f\"Skipping invalid chord {mir_chord} at step {i}: {e}\")\n",
    "            continue\n",
    "\n",
    "        # harmonized_part.insert(offset, chord_symbol)\n",
    "        chords_part.insert(offset, c)\n",
    "        inserted_chords[i] = chord_symbol\n",
    "        last_chord_symbol = mir_chord\n",
    "\n",
    "    # Convert flat part to one with measures\n",
    "    harmonized_with_measures = harmonized_part.makeMeasures()\n",
    "\n",
    "    # Repeat previous chord at start of bars with no chord\n",
    "    for m in harmonized_with_measures.getElementsByClass(stream.Measure):\n",
    "        bar_offset = m.offset\n",
    "        # has_chord = any(isinstance(el, harmony.ChordSymbol) and el.offset == bar_offset for el in m)\n",
    "        # has_chord = any( isinstance(el, harmony.ChordSymbol) for el in m )\n",
    "        has_chord = any(isinstance(el, harmony.ChordSymbol) and el.offset == 0. for el in m)\n",
    "        if not has_chord:\n",
    "            # Find previous chord before this measure\n",
    "            prev_chords = [el for el in harmonized_part.recurse().getElementsByClass(harmony.ChordSymbol)\n",
    "                           if el.offset < bar_offset]\n",
    "            if prev_chords:\n",
    "                prev_chord = prev_chords[-1]\n",
    "                m.insert(0.0, deepcopy(prev_chord))\n",
    "    \n",
    "    # Convert flat part to one with measures\n",
    "    chords_with_measures = chords_part.makeMeasures()\n",
    "\n",
    "    # Repeat previous chord at start of bars with no chord\n",
    "    for m in chords_with_measures.getElementsByClass(stream.Measure):\n",
    "        bar_offset = m.offset\n",
    "        # has_chord = any(isinstance(el, chord.Chord) and el.offset == bar_offset for el in m)\n",
    "        # has_chord = any( isinstance(el, chord.Chord) for el in m )\n",
    "        has_chord = any(isinstance(el, chord.Chord) and el.offset == 0. for el in m)\n",
    "        if not has_chord:\n",
    "            # Find previous chord before this measure\n",
    "            prev_chords = [el for el in chords_part.recurse().getElementsByClass(chord.Chord)\n",
    "                           if el.offset < bar_offset]\n",
    "            if prev_chords:\n",
    "                prev_chord = prev_chords[-1]\n",
    "                m.insert(0.0, deepcopy(prev_chord))\n",
    "\n",
    "    # Create final score with chords and melody\n",
    "    score = stream.Score()\n",
    "    score.insert(0, harmonized_with_measures)\n",
    "    score.insert(0, chords_with_measures)\n",
    "\n",
    "    return score\n",
    "# end overlay_generated_harmony\n",
    "\n",
    "def save_harmonized_score(score, title=\"Harmonized Piece\", out_path=\"harmonized.xml\"):\n",
    "    score.metadata = metadata.Metadata()\n",
    "    score.metadata.title = title\n",
    "    score.write('musicxml', fp=out_path)\n",
    "# end save_harmonized_score"
   ]
  },
  {
   "cell_type": "code",
   "execution_count": 49,
   "id": "99e6d2cc",
   "metadata": {},
   "outputs": [],
   "source": [
    "score = overlay_generated_harmony(encoded['melody_part'], output_tokens, encoded['ql_per_quantum'], encoded['skip_steps'])\n",
    "save_harmonized_score(score, out_path=\"harmonized_output.mxl\")\n"
   ]
  }
 ],
 "metadata": {
  "kernelspec": {
   "display_name": "torch",
   "language": "python",
   "name": "python3"
  },
  "language_info": {
   "codemirror_mode": {
    "name": "ipython",
    "version": 3
   },
   "file_extension": ".py",
   "mimetype": "text/x-python",
   "name": "python",
   "nbconvert_exporter": "python",
   "pygments_lexer": "ipython3",
   "version": "3.12.2"
  }
 },
 "nbformat": 4,
 "nbformat_minor": 5
}
