{
 "cells": [
  {
   "cell_type": "code",
   "execution_count": 1,
   "id": "1e491e19",
   "metadata": {},
   "outputs": [
    {
     "name": "stderr",
     "output_type": "stream",
     "text": [
      "/home/maximos/miniconda3/envs/torch/lib/python3.12/site-packages/tqdm/auto.py:21: TqdmWarning: IProgress not found. Please update jupyter and ipywidgets. See https://ipywidgets.readthedocs.io/en/stable/user_install.html\n",
      "  from .autonotebook import tqdm as notebook_tqdm\n"
     ]
    }
   ],
   "source": [
    "import torch\n",
    "import torch.nn as nn\n",
    "from models import GridMLMMelHarm\n",
    "from GridMLM_tokenizers import CSGridMLMTokenizer\n",
    "from data_utils import CSGridMLMDataset, CSGridMLM_collate_fn\n",
    "from torch.utils.data import DataLoader\n",
    "from train_utils import apply_masking\n",
    "from generate_utils import generate_files_with_base2, generate_files_with_random, load_model"
   ]
  },
  {
   "cell_type": "code",
   "execution_count": 2,
   "id": "6ad30c26",
   "metadata": {},
   "outputs": [],
   "source": [
    "val_dir = '/media/maindisk/maximos/data/hooktheory_all12_test'\n",
    "# val_dir = '/media/maindisk/maximos/data/gjt_melodies/Library_melodies/'\n",
    "tokenizer = CSGridMLMTokenizer(fixed_length=256)\n",
    "# val_dataset = CSGridMLMDataset(val_dir, tokenizer, 512)"
   ]
  },
  {
   "cell_type": "code",
   "execution_count": 3,
   "id": "02945c83",
   "metadata": {},
   "outputs": [],
   "source": [
    "curriculum_type = 'random'\n",
    "# curriculum_type = 'base2'\n",
    "subfolder = 'all12'\n",
    "device_name = 'cuda:2'\n",
    "model = load_model(\n",
    "    curriculum_type=curriculum_type,\n",
    "    subfolder=subfolder,\n",
    "    device_name='cuda:2',\n",
    "    tokenizer=tokenizer,\n",
    "    pianoroll_dim=100\n",
    ")"
   ]
  },
  {
   "cell_type": "code",
   "execution_count": 4,
   "id": "45ae09cf",
   "metadata": {},
   "outputs": [
    {
     "name": "stdout",
     "output_type": "stream",
     "text": [
      "26203106\n"
     ]
    }
   ],
   "source": [
    "def count_parameters(model):\n",
    "    return sum(p.numel() for p in model.parameters() if p.requires_grad)\n",
    "print(count_parameters(model))"
   ]
  },
  {
   "cell_type": "code",
   "execution_count": 5,
   "id": "e9b8c333",
   "metadata": {},
   "outputs": [
    {
     "name": "stdout",
     "output_type": "stream",
     "text": [
      "10486\n"
     ]
    }
   ],
   "source": [
    "import os\n",
    "data_files = []\n",
    "for dirpath, _, filenames in os.walk(val_dir):\n",
    "    for file in filenames:\n",
    "        if file.endswith('.xml') or file.endswith('.mxl') or file.endswith('.musicxml'):\n",
    "            full_path = os.path.join(dirpath, file)\n",
    "            data_files.append(full_path)\n",
    "print(len(data_files))"
   ]
  },
  {
   "cell_type": "code",
   "execution_count": 6,
   "id": "1050a9ee",
   "metadata": {},
   "outputs": [
    {
     "name": "stderr",
     "output_type": "stream",
     "text": [
      "/home/maximos/miniconda3/envs/torch/lib/python3.12/site-packages/music21/base.py:559: UserWarning: Setting an ID that could be mistaken for a memory location is discouraged: got 140659322990144\n",
      "  warnings.warn(msg)\n",
      "libpng warning: iCCP: known incorrect sRGB profile\n",
      "Error at line 30 col 47: no instrument found for part 'P01fb5dcf9a3aa2300fde918868be60dd'\n",
      "Error at line 637 col 47: no instrument found for part 'P8ea10213c85f16e7b5aa79d082be15b5'\n",
      "convert <examples_musicXML/all12/random//gen_constr_test.mxl>...\n",
      "\tto <examples_MIDI/all12/random//gen_constr_test.mid>\n",
      "... success!\n",
      "libpng warning: iCCP: known incorrect sRGB profile\n",
      "Error at line 30 col 47: no instrument found for part 'P86c11a5ec1ba58a41df064523bd17591'\n",
      "Error at line 637 col 47: no instrument found for part 'Peea6714be31eae2ffc9f67207ceee49c'\n",
      "convert <examples_musicXML/all12/random//real_constr_test.mxl>...\n",
      "\tto <examples_MIDI/all12/random//real_constr_test.mid>\n",
      "... success!\n"
     ]
    }
   ],
   "source": [
    "val_idx = 0\n",
    "\n",
    "# input_f = data_files[val_idx]\n",
    "input_f = 'example_inputs/test_midi_constraints.mid'\n",
    "\n",
    "mxl_folder = 'examples_musicXML/' + subfolder + '/' + curriculum_type + '/' + '/'\n",
    "midi_folder = 'examples_MIDI/' + subfolder + '/' + curriculum_type + '/' + '/'\n",
    "os.makedirs(mxl_folder, exist_ok=True)\n",
    "os.makedirs(midi_folder, exist_ok=True)\n",
    "\n",
    "gen_harm, real_harm, gen_score, real_score = generate_files_with_random(\n",
    "    model=model,\n",
    "    tokenizer=tokenizer,\n",
    "    input_f=input_f,\n",
    "    mxl_folder=mxl_folder,\n",
    "    midi_folder=midi_folder,\n",
    "    name_suffix='constr_test',\n",
    "    use_constraints=True\n",
    ")"
   ]
  },
  {
   "cell_type": "code",
   "execution_count": 7,
   "id": "cee2362e",
   "metadata": {},
   "outputs": [
    {
     "name": "stdout",
     "output_type": "stream",
     "text": [
      "['<nc>', '<nc>', '<nc>', '<nc>', '<nc>', '<nc>', '<nc>', '<nc>', '<nc>', '<nc>', '<nc>', '<nc>', '<nc>', '<nc>', '<nc>', '<nc>', '<nc>', '<nc>', '<nc>', '<nc>', '<nc>', '<nc>', '<nc>', '<nc>', '<nc>', '<nc>', '<nc>', '<nc>', '<nc>', '<nc>', '<nc>', '<nc>', '<nc>', '<nc>', '<nc>', '<nc>', '<nc>', '<nc>', '<nc>', '<nc>', '<nc>', '<nc>', '<nc>', '<nc>', '<nc>', '<nc>', '<nc>', '<nc>', '<nc>', '<nc>', '<nc>', '<nc>', '<nc>', '<nc>', '<nc>', '<nc>', 'D:maj', 'D:maj', 'D:maj', 'D:maj', 'D:maj', 'D:maj', 'D:maj', 'D:maj', 'D:maj', '<nc>', '<nc>', '<nc>', '<nc>', '<nc>', '<nc>', '<nc>', '<nc>', '<nc>', '<nc>', '<nc>', '<nc>', '<nc>', '<nc>', '<nc>', '<nc>', '<nc>', '<nc>', '<nc>', '<nc>', '<nc>', '<nc>', '<nc>', '<nc>', '<nc>', '<nc>', '<nc>', '<nc>', '<nc>', '<nc>', '<nc>', 'C:maj', 'C:maj', 'C:maj', 'C:maj', '<nc>', '<nc>', '<nc>', '<nc>', '<nc>', '<nc>', '<nc>', '<nc>', '<nc>', '<nc>', '<nc>', '<nc>', '<nc>', '<nc>', '<nc>', '<nc>', '<nc>', '<nc>', '<nc>', '<nc>', '<nc>', '<nc>', '<nc>', '<nc>', '<nc>', '<nc>', '<nc>', '<nc>', '<pad>', '<pad>', '<pad>', '<pad>', '<pad>', '<pad>', '<pad>', '<pad>', '<pad>', '<pad>', '<pad>', '<pad>', '<pad>', '<pad>', '<pad>', '<pad>', '<pad>', '<pad>', '<pad>', '<pad>', '<pad>', '<pad>', '<pad>', '<pad>', '<pad>', '<pad>', '<pad>', '<pad>', '<pad>', '<pad>', '<pad>', '<pad>', '<pad>', '<pad>', '<pad>', '<pad>', '<pad>', '<pad>', '<pad>', '<pad>', '<pad>', '<pad>', '<pad>', '<pad>', '<pad>', '<pad>', '<pad>', '<pad>', '<pad>', '<pad>', '<pad>', '<pad>', '<pad>', '<pad>', '<pad>', '<pad>', '<pad>', '<pad>', '<pad>', '<pad>', '<pad>', '<pad>', '<pad>', '<pad>', '<pad>', '<pad>', '<pad>', '<pad>', '<pad>', '<pad>', '<pad>', '<pad>', '<pad>', '<pad>', '<pad>', '<pad>', '<pad>', '<pad>', '<pad>', '<pad>', '<pad>', '<pad>', '<pad>', '<pad>', '<pad>', '<pad>', '<pad>', '<pad>', '<pad>', '<pad>', '<pad>', '<pad>', '<pad>', '<pad>', '<pad>', '<pad>', '<pad>', '<pad>', '<pad>', '<pad>', '<pad>', '<pad>', '<pad>', '<pad>', '<pad>', '<pad>', '<pad>', '<pad>', '<pad>', '<pad>', '<pad>', '<pad>', '<pad>', '<pad>', '<pad>', '<pad>', '<pad>', '<pad>', '<pad>', '<pad>', '<pad>', '<pad>', '<pad>', '<pad>', '<pad>', '<pad>', '<pad>', '<pad>']\n",
      "C:maj\n"
     ]
    }
   ],
   "source": [
    "print(gen_harm)\n",
    "print(tokenizer.ids_to_tokens[6])"
   ]
  },
  {
   "cell_type": "code",
   "execution_count": 8,
   "id": "49c7c7de",
   "metadata": {},
   "outputs": [
    {
     "name": "stdout",
     "output_type": "stream",
     "text": [
      "{0.0} <music21.metadata.Metadata object at 0x7fedcd77b740>\n",
      "{0.0} <music21.stream.Part 0x7fedcd8e5b20>\n",
      "    {0.0} <music21.stream.Measure 1 offset=0.0>\n",
      "        {0.0} <music21.clef.BassClef>\n",
      "        {0.0} <music21.tempo.MetronomeMark allegro moderato Quarter=128>\n",
      "        {0.0} <music21.key.Key of G major>\n",
      "        {0.0} <music21.meter.TimeSignature 4/4>\n",
      "        {0.0} <music21.note.Note G>\n",
      "        {0.25} <music21.note.Rest eighth>\n",
      "        {0.75} <music21.note.Note G>\n",
      "        {1.25} <music21.note.Rest 16th>\n",
      "        {1.5} <music21.note.Note G>\n",
      "        {2.0} <music21.note.Note B>\n",
      "        {2.5} <music21.note.Note G>\n",
      "        {3.0} <music21.note.Note A>\n",
      "        {3.5} <music21.note.Note G>\n",
      "    {4.0} <music21.stream.Measure 2 offset=4.0>\n",
      "        {0.0} <music21.note.Note G>\n",
      "        {0.25} <music21.note.Rest eighth>\n",
      "        {0.75} <music21.note.Note G>\n",
      "        {1.25} <music21.note.Rest 16th>\n",
      "        {1.5} <music21.note.Note G>\n",
      "        {2.0} <music21.note.Note B>\n",
      "        {2.5} <music21.note.Note D>\n",
      "        {3.0} <music21.note.Note A>\n",
      "        {3.5} <music21.note.Note D>\n",
      "    {8.0} <music21.stream.Measure 3 offset=8.0>\n",
      "        {0.0} <music21.note.Note G>\n",
      "        {0.25} <music21.note.Rest eighth>\n",
      "        {0.75} <music21.note.Note G>\n",
      "        {1.25} <music21.note.Rest 16th>\n",
      "        {1.5} <music21.note.Note G>\n",
      "        {2.0} <music21.note.Note B>\n",
      "        {2.5} <music21.note.Note G>\n",
      "        {3.0} <music21.note.Note A>\n",
      "        {3.5} <music21.note.Note G>\n",
      "    {12.0} <music21.stream.Measure 4 offset=12.0>\n",
      "        {0.0} <music21.note.Note D>\n",
      "        {0.25} <music21.note.Rest eighth>\n",
      "        {0.75} <music21.note.Note D>\n",
      "        {1.25} <music21.note.Rest 16th>\n",
      "        {1.5} <music21.note.Note D>\n",
      "        {2.0} <music21.note.Note B>\n",
      "        {2.5} <music21.note.Note D>\n",
      "        {3.0} <music21.note.Note B>\n",
      "        {3.5} <music21.note.Note D>\n",
      "    {16.0} <music21.stream.Measure 5 offset=16.0>\n",
      "        {0.0} <music21.note.Note G>\n",
      "        {0.25} <music21.note.Rest eighth>\n",
      "        {0.75} <music21.note.Note G>\n",
      "        {1.25} <music21.note.Rest 16th>\n",
      "        {1.5} <music21.note.Note G>\n",
      "        {2.0} <music21.note.Note B>\n",
      "        {2.5} <music21.note.Note G>\n",
      "        {3.0} <music21.note.Note A>\n",
      "        {3.5} <music21.note.Note G>\n",
      "    {20.0} <music21.stream.Measure 6 offset=20.0>\n",
      "        {0.0} <music21.note.Note G>\n",
      "        {0.25} <music21.note.Rest eighth>\n",
      "        {0.75} <music21.note.Note G>\n",
      "        {1.25} <music21.note.Rest 16th>\n",
      "        {1.5} <music21.note.Note G>\n",
      "        {2.0} <music21.note.Note B>\n",
      "        {2.5} <music21.note.Note D>\n",
      "        {3.0} <music21.note.Note A>\n",
      "        {3.5} <music21.note.Note D>\n",
      "    {24.0} <music21.stream.Measure 7 offset=24.0>\n",
      "        {0.0} <music21.note.Note G>\n",
      "        {0.75} <music21.note.Note G>\n",
      "        {1.5} <music21.note.Note G>\n",
      "        {2.0} <music21.note.Note B>\n",
      "        {2.5} <music21.note.Note G>\n",
      "        {3.0} <music21.note.Note A>\n",
      "        {3.5} <music21.note.Note G>\n",
      "    {28.0} <music21.stream.Measure 8 offset=28.0>\n",
      "        {0.0} <music21.note.Note D>\n",
      "        {0.25} <music21.note.Rest eighth>\n",
      "        {0.75} <music21.note.Note D>\n",
      "        {1.25} <music21.note.Rest 16th>\n",
      "        {1.5} <music21.note.Note D>\n",
      "        {2.0} <music21.note.Note B>\n",
      "        {3.0} <music21.note.Note D>\n",
      "        {4.0} <music21.bar.Barline type=final>\n",
      "{0.0} <music21.stream.Part 0x7fedcd8e55b0>\n",
      "    {0.0} <music21.stream.Measure 1 offset=0.0>\n",
      "        {0.0} <music21.clef.BassClef>\n",
      "        {0.0} <music21.tempo.MetronomeMark allegro moderato Quarter=128>\n",
      "        {0.0} <music21.key.Key of G major>\n",
      "        {0.0} <music21.meter.TimeSignature 4/4>\n",
      "        {0.0} <music21.note.Rest whole>\n",
      "    {4.0} <music21.stream.Measure 2 offset=4.0>\n",
      "        {0.0} <music21.note.Rest whole>\n",
      "    {8.0} <music21.stream.Measure 3 offset=8.0>\n",
      "        {0.0} <music21.note.Rest whole>\n",
      "    {12.0} <music21.stream.Measure 4 offset=12.0>\n",
      "        {2.0} <music21.chord.Chord D3 F#3 A3>\n",
      "    {16.0} <music21.stream.Measure 5 offset=16.0>\n",
      "        {0.0} <music21.chord.Chord D3 F#3 A3>\n",
      "    {20.0} <music21.stream.Measure 6 offset=20.0>\n",
      "        {0.0} <music21.chord.Chord D3 F#3 A3>\n",
      "    {24.0} <music21.stream.Measure 7 offset=24.0>\n",
      "        {0.0} <music21.chord.Chord C3 E3 G3>\n",
      "    {28.0} <music21.stream.Measure 8 offset=28.0>\n",
      "        {0.0} <music21.chord.Chord C3 E3 G3>\n",
      "        {1.0} <music21.bar.Barline type=final>\n"
     ]
    }
   ],
   "source": [
    "real_score.show('t')"
   ]
  }
 ],
 "metadata": {
  "kernelspec": {
   "display_name": "torch",
   "language": "python",
   "name": "python3"
  },
  "language_info": {
   "codemirror_mode": {
    "name": "ipython",
    "version": 3
   },
   "file_extension": ".py",
   "mimetype": "text/x-python",
   "name": "python",
   "nbconvert_exporter": "python",
   "pygments_lexer": "ipython3",
   "version": "3.12.2"
  }
 },
 "nbformat": 4,
 "nbformat_minor": 5
}
