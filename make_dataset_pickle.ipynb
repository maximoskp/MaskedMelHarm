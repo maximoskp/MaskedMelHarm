{
 "cells": [
  {
   "cell_type": "code",
   "execution_count": 5,
   "id": "6af1278f",
   "metadata": {},
   "outputs": [],
   "source": [
    "from data_utils import CSGridMLMDataset\n",
    "from GridMLM_tokenizers import CSGridMLMTokenizer"
   ]
  },
  {
   "cell_type": "code",
   "execution_count": 6,
   "id": "baa2c8e8",
   "metadata": {},
   "outputs": [],
   "source": [
    "tokenizer = CSGridMLMTokenizer(fixed_length=256)\n",
    "tokenizer_noPCs = CSGridMLMTokenizer(fixed_length=256,use_pc_roll=False)"
   ]
  },
  {
   "cell_type": "code",
   "execution_count": 7,
   "id": "bf59d115",
   "metadata": {},
   "outputs": [],
   "source": [
    "train_dir = '/media/maindisk/data/hooktheory_midi_hr/CA_train'\n",
    "val_dir = '/media/maindisk/data/hooktheory_midi_hr/CA_test'"
   ]
  },
  {
   "cell_type": "code",
   "execution_count": null,
   "id": "94347954",
   "metadata": {},
   "outputs": [
    {
     "name": "stdout",
     "output_type": "stream",
     "text": [
      "Frontloading data.\n"
     ]
    },
    {
     "name": "stderr",
     "output_type": "stream",
     "text": [
      "  0%|          | 0/14676 [00:00<?, ?it/s]"
     ]
    },
    {
     "name": "stderr",
     "output_type": "stream",
     "text": [
      "100%|██████████| 14676/14676 [07:31<00:00, 32.47it/s]\n"
     ]
    },
    {
     "name": "stdout",
     "output_type": "stream",
     "text": [
      "Frontloading data.\n"
     ]
    },
    {
     "name": "stderr",
     "output_type": "stream",
     "text": [
      "100%|██████████| 758/758 [00:50<00:00, 14.91it/s]\n"
     ]
    }
   ],
   "source": [
    "# train_dataset = CSGridMLMDataset(train_dir, tokenizer, 512)\n",
    "# val_dataset = CSGridMLMDataset(val_dir, tokenizer, 512)"
   ]
  },
  {
   "cell_type": "code",
   "execution_count": 8,
   "id": "4911b4f7",
   "metadata": {},
   "outputs": [
    {
     "name": "stdout",
     "output_type": "stream",
     "text": [
      "Frontloading data.\n"
     ]
    },
    {
     "name": "stderr",
     "output_type": "stream",
     "text": [
      "100%|██████████| 14676/14676 [07:47<00:00, 31.38it/s]  \n"
     ]
    },
    {
     "name": "stdout",
     "output_type": "stream",
     "text": [
      "Frontloading data.\n"
     ]
    },
    {
     "name": "stderr",
     "output_type": "stream",
     "text": [
      "100%|██████████| 758/758 [00:16<00:00, 47.30it/s]\n"
     ]
    }
   ],
   "source": [
    "train_dataset = CSGridMLMDataset(train_dir, tokenizer_noPCs, 512, name_suffix='MLMH_noPCs')\n",
    "val_dataset = CSGridMLMDataset(val_dir, tokenizer_noPCs, 512, name_suffix='MLMH_noPCs')"
   ]
  }
 ],
 "metadata": {
  "kernelspec": {
   "display_name": "torch",
   "language": "python",
   "name": "python3"
  },
  "language_info": {
   "codemirror_mode": {
    "name": "ipython",
    "version": 3
   },
   "file_extension": ".py",
   "mimetype": "text/x-python",
   "name": "python",
   "nbconvert_exporter": "python",
   "pygments_lexer": "ipython3",
   "version": "3.12.2"
  }
 },
 "nbformat": 4,
 "nbformat_minor": 5
}
